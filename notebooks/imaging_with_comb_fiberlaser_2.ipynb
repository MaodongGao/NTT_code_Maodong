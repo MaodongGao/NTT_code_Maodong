{
 "cells": [
  {
   "cell_type": "code",
   "execution_count": 1,
   "metadata": {},
   "outputs": [],
   "source": [
    "%reload_ext autoreload\n",
    "%autoreload 2\n",
    "\n",
    "import sys,os,time,json\n",
    "from scipy.interpolate import interp1d\n",
    "import numpy as np\n",
    "import matplotlib.pyplot as plt\n",
    "sys.path.append(os.path.join(os.getcwd(), '../'))\n",
    "# from hardware.slm import SLM\n",
    "from hardware.camera import NITCam\n",
    "from hardware.waveshaper import Waveshaper\n",
    "from hardware.yokogawa_osa import YokogawaOSA\n",
    "from hardware.elliptec import ElliptecDualPositioner\n",
    "from hardware.rs_oscilloscope import RsOSC\n",
    "from hardware.rs_powersupply_hmp4040 import RsHMP4040\n",
    "from hardware.thorlabs_edfa300p import ThorlabsEDFA\n",
    "from hardware.keysight_psg import KeysightPSG\n",
    "from experiments.speckle_collector_with_comb import SpeckleCollectorWithComb\n",
    "\n",
    "\n",
    "def thz2nm(THz):\n",
    "    return 299792.458/THz\n",
    "\n",
    "%matplotlib qt\n",
    "\n",
    "from experiments.speckle_collector_with_comb import SpeckleCollectorWithComb\n",
    "\n",
    "starting = False"
   ]
  },
  {
   "cell_type": "code",
   "execution_count": 2,
   "metadata": {},
   "outputs": [],
   "source": [
    "starting = True"
   ]
  },
  {
   "cell_type": "code",
   "execution_count": 3,
   "metadata": {},
   "outputs": [
    {
     "name": "stdout",
     "output_type": "stream",
     "text": [
      "trying to connect to 192.168.1.8 : 5025\n",
      "connected to server 192.168.1.8:5025\n"
     ]
    },
    {
     "ename": "AttributeError",
     "evalue": "'KeysightPSG' object has no attribute 'inst'",
     "output_type": "error",
     "traceback": [
      "\u001b[1;31m---------------------------------------------------------------------------\u001b[0m",
      "\u001b[1;31mAttributeError\u001b[0m                            Traceback (most recent call last)",
      "Cell \u001b[1;32mIn[3], line 11\u001b[0m\n\u001b[0;32m      8\u001b[0m edfa \u001b[38;5;241m=\u001b[39m ThorlabsEDFA()\n\u001b[0;32m      9\u001b[0m edfa\u001b[38;5;241m.\u001b[39mconnect()\n\u001b[1;32m---> 11\u001b[0m \u001b[43mpsg\u001b[49m\u001b[38;5;241;43m.\u001b[39;49m\u001b[43mset_output\u001b[49m\u001b[43m(\u001b[49m\u001b[38;5;241;43m1\u001b[39;49m\u001b[43m)\u001b[49m\n\u001b[0;32m     12\u001b[0m time\u001b[38;5;241m.\u001b[39msleep(\u001b[38;5;241m1\u001b[39m)\n\u001b[0;32m     13\u001b[0m hmp\u001b[38;5;241m.\u001b[39mturn_on_selected_channels()\n",
      "File \u001b[1;32mc:\\Maodong\\NTT_code_Maodong\\notebooks\\..\\hardware\\keysight_psg.py:36\u001b[0m, in \u001b[0;36mKeysightPSG.set_output\u001b[1;34m(self, state)\u001b[0m\n\u001b[0;32m     35\u001b[0m \u001b[38;5;28;01mdef\u001b[39;00m \u001b[38;5;21mset_output\u001b[39m(\u001b[38;5;28mself\u001b[39m, state):\n\u001b[1;32m---> 36\u001b[0m     \u001b[38;5;28;43mself\u001b[39;49m\u001b[38;5;241;43m.\u001b[39;49m\u001b[43mwrite\u001b[49m\u001b[43m(\u001b[49m\u001b[38;5;124;43mf\u001b[39;49m\u001b[38;5;124;43m\"\u001b[39;49m\u001b[38;5;124;43mOUTP:STAT \u001b[39;49m\u001b[38;5;132;43;01m{\u001b[39;49;00m\u001b[43mstate\u001b[49m\u001b[38;5;132;43;01m}\u001b[39;49;00m\u001b[38;5;124;43m\"\u001b[39;49m\u001b[43m)\u001b[49m\n\u001b[0;32m     37\u001b[0m     \u001b[38;5;28mself\u001b[39m\u001b[38;5;241m.\u001b[39minfo(\u001b[38;5;124mf\u001b[39m\u001b[38;5;124m\"\u001b[39m\u001b[38;5;124mSet output to \u001b[39m\u001b[38;5;132;01m{\u001b[39;00mstate\u001b[38;5;132;01m}\u001b[39;00m\u001b[38;5;124m\"\u001b[39m)\n",
      "File \u001b[1;32mc:\\Maodong\\NTT_code_Maodong\\notebooks\\..\\hardware\\device.py:49\u001b[0m, in \u001b[0;36mDevice.write\u001b[1;34m(self, cmd)\u001b[0m\n\u001b[0;32m     48\u001b[0m \u001b[38;5;28;01mdef\u001b[39;00m \u001b[38;5;21mwrite\u001b[39m(\u001b[38;5;28mself\u001b[39m, cmd):\n\u001b[1;32m---> 49\u001b[0m     \u001b[38;5;28;43mself\u001b[39;49m\u001b[38;5;241;43m.\u001b[39;49m\u001b[43minst\u001b[49m\u001b[38;5;241m.\u001b[39mwrite(cmd)\n",
      "\u001b[1;31mAttributeError\u001b[0m: 'KeysightPSG' object has no attribute 'inst'"
     ]
    }
   ],
   "source": [
    "if starting:\n",
    "    psg = KeysightPSG()\n",
    "    psg.connect()\n",
    "\n",
    "    hmp = RsHMP4040()\n",
    "    hmp.connect()\n",
    "\n",
    "    edfa = ThorlabsEDFA()\n",
    "    edfa.connect()\n",
    "\n",
    "    psg.set_output(1)\n",
    "    time.sleep(1)\n",
    "    hmp.turn_on_selected_channels()\n",
    "\n",
    "    edfa = ThorlabsEDFA()\n",
    "    edfa.connect()\n",
    "    edfa.set_laser_diode_current(100)\n",
    "    # edfa.enable_laser()\n",
    "\n",
    "    ws = Waveshaper()\n",
    "    # ws.connect() # Not necessary for waveshaper\n",
    "\n",
    "    osa = YokogawaOSA()\n",
    "    osa.connect()\n",
    "\n",
    "    camera = NITCam()\n",
    "    camera.bitDepth = 14\n",
    "    camera.exposure_time = 2000\n",
    "    # camera.analog_gain = \"High\"\n",
    "    # camera.FPS = 10\n",
    "    camera.frame_width = 256#424#432\n",
    "    camera.frame_height = 256#320#424#432\n",
    "    camera.offset_x = 32#320#496\n",
    "    camera.offset_y = 0#252#212\n",
    "    # cam.connect()\n",
    "\n",
    "    stage = ElliptecDualPositioner()\n",
    "    stage.connect()\n",
    "\n",
    "    osc = RsOSC()\n",
    "    osc.connect()\n",
    "\n",
    "    def callback_osc():\n",
    "        osc.single_and_wait()\n",
    "        time.sleep(0.1)\n",
    "        return osc.get_trace(channel=1, plot=False)\n",
    "    \n",
    "    osc.set_horizontal_scale_sec(0.02)\n",
    "    osc.set_sample_points(10000)\n",
    "    osc.set_vertical_offset_volt(1, 0)\n",
    "    osc.set_vertical_position_div(1,-4.9)\n",
    "    osc.set_vertical_scale_volt(1, 0.4/10)\n",
    "\n",
    "    sc = SpeckleCollectorWithComb(camera=camera, ws=ws)\n",
    "    sc.comb_fsr_ghz = 25\n",
    "    sc.comb_min_wl_nm = 1532\n",
    "    sc.comb_max_wl_nm = 1564\n",
    "\n",
    "    \n",
    "    # load the above peak array from json\n",
    "    with open(r'C:\\Users\\think\\Desktop\\comb_peak.json', 'r') as f:\n",
    "        data = json.load(f)\n",
    "    osa_thz = np.array(data['osa_thz'])\n",
    "    osa_pwr = np.array(data['osa_pwr'])\n",
    "    f = interp1d(osa_thz, osa_pwr, kind='linear', fill_value=-np.inf, bounds_error=False)\n",
    "    def get_att_from_thz(thz, max_input = -35):\n",
    "        return max(f(thz) - max_input,0)"
   ]
  },
  {
   "cell_type": "code",
   "execution_count": 5,
   "metadata": {},
   "outputs": [],
   "source": [
    "sc.pass_one_comb_line(10, passband_atten=5)"
   ]
  },
  {
   "cell_type": "code",
   "execution_count": 4,
   "metadata": {},
   "outputs": [],
   "source": [
    "camera.connect()\n",
    "camera.setNUCfile(r'C:\\Users\\think\\Desktop\\NUCFactory_2000us.yml') "
   ]
  },
  {
   "cell_type": "code",
   "execution_count": 5,
   "metadata": {},
   "outputs": [
    {
     "name": "stderr",
     "output_type": "stream",
     "text": [
      "100%|██████████| 160/160 [1:11:50<00:00, 26.94s/it]\n",
      "100%|██████████| 160/160 [1:11:50<00:00, 26.94s/it]\n",
      "100%|██████████| 160/160 [1:11:50<00:00, 26.94s/it]\n",
      "100%|██████████| 160/160 [1:11:52<00:00, 26.95s/it]\n",
      "100%|██████████| 160/160 [1:11:50<00:00, 26.94s/it]\n",
      "100%|██████████| 160/160 [1:11:50<00:00, 26.94s/it]\n",
      "100%|██████████| 160/160 [1:11:50<00:00, 26.94s/it]\n",
      "100%|██████████| 160/160 [1:11:51<00:00, 26.95s/it]\n",
      "100%|██████████| 160/160 [1:11:50<00:00, 26.94s/it]\n",
      "100%|██████████| 160/160 [1:11:51<00:00, 26.94s/it]\n",
      "100%|██████████| 160/160 [1:11:50<00:00, 26.94s/it]\n",
      "100%|██████████| 160/160 [1:11:51<00:00, 26.95s/it]\n",
      "100%|██████████| 160/160 [1:11:51<00:00, 26.95s/it]\n",
      "100%|██████████| 160/160 [1:11:51<00:00, 26.95s/it]\n",
      "100%|██████████| 160/160 [1:11:50<00:00, 26.94s/it]\n",
      "100%|██████████| 160/160 [1:11:52<00:00, 26.96s/it]\n",
      "100%|██████████| 160/160 [1:11:51<00:00, 26.95s/it]\n",
      "100%|██████████| 160/160 [1:11:50<00:00, 26.94s/it]\n",
      "100%|██████████| 160/160 [1:11:50<00:00, 26.94s/it]\n",
      "100%|██████████| 160/160 [1:11:52<00:00, 26.95s/it]\n",
      "100%|██████████| 160/160 [1:11:51<00:00, 26.94s/it]\n",
      "100%|██████████| 160/160 [1:11:50<00:00, 26.94s/it]\n",
      "100%|██████████| 160/160 [1:11:49<00:00, 26.93s/it]\n",
      "100%|██████████| 160/160 [1:11:53<00:00, 26.96s/it]\n",
      "100%|██████████| 160/160 [1:11:51<00:00, 26.95s/it]\n",
      "100%|██████████| 160/160 [1:11:50<00:00, 26.94s/it]\n",
      "  6%|▌         | 9/160 [04:16<1:11:39, 28.47s/it]\n"
     ]
    },
    {
     "ename": "KeyboardInterrupt",
     "evalue": "",
     "output_type": "error",
     "traceback": [
      "\u001b[1;31m---------------------------------------------------------------------------\u001b[0m",
      "\u001b[1;31mKeyboardInterrupt\u001b[0m                         Traceback (most recent call last)",
      "Cell \u001b[1;32mIn[5], line 15\u001b[0m\n\u001b[0;32m     13\u001b[0m filename \u001b[38;5;241m=\u001b[39m get_filename(filename_identify)\n\u001b[0;32m     14\u001b[0m time\u001b[38;5;241m.\u001b[39msleep(\u001b[38;5;241m1\u001b[39m)\n\u001b[1;32m---> 15\u001b[0m \u001b[43msc\u001b[49m\u001b[38;5;241;43m.\u001b[39;49m\u001b[43mscan_pattern\u001b[49m\u001b[43m(\u001b[49m\u001b[43mfilename\u001b[49m\u001b[38;5;241;43m=\u001b[39;49m\u001b[43mfilename\u001b[49m\u001b[43m,\u001b[49m\u001b[43m \u001b[49m\u001b[43mcallback\u001b[49m\u001b[38;5;241;43m=\u001b[39;49m\u001b[43mcallback_osc\u001b[49m\u001b[43m,\u001b[49m\u001b[43m \u001b[49m\u001b[43mget_bandpass_atten_func\u001b[49m\u001b[38;5;241;43m=\u001b[39;49m\u001b[43mget_att_from_thz\u001b[49m\u001b[43m)\u001b[49m\n\u001b[0;32m     17\u001b[0m stage\u001b[38;5;241m.\u001b[39mset_position(\u001b[38;5;124m'\u001b[39m\u001b[38;5;124mblock\u001b[39m\u001b[38;5;124m'\u001b[39m)\n\u001b[0;32m     18\u001b[0m filename_identify \u001b[38;5;241m=\u001b[39m \u001b[38;5;124m'\u001b[39m\u001b[38;5;124mwithobj\u001b[39m\u001b[38;5;124m'\u001b[39m\n",
      "File \u001b[1;32mc:\\Maodong\\NTT_code_Maodong\\notebooks\\..\\experiments\\speckle_collector_with_comb.py:157\u001b[0m, in \u001b[0;36mSpeckleCollectorWithComb.scan_pattern\u001b[1;34m(self, thz_list, filename, callback, get_bandpass_atten_func)\u001b[0m\n\u001b[0;32m    155\u001b[0m \u001b[38;5;28;01mif\u001b[39;00m callback \u001b[38;5;129;01mis\u001b[39;00m \u001b[38;5;129;01mnot\u001b[39;00m \u001b[38;5;28;01mNone\u001b[39;00m:\n\u001b[0;32m    156\u001b[0m     \u001b[38;5;28;01mtry\u001b[39;00m:\n\u001b[1;32m--> 157\u001b[0m         callback_tosave[freq_thz] \u001b[38;5;241m=\u001b[39m \u001b[43mcallback\u001b[49m\u001b[43m(\u001b[49m\u001b[43m)\u001b[49m\n\u001b[0;32m    158\u001b[0m     \u001b[38;5;28;01mexcept\u001b[39;00m \u001b[38;5;167;01mException\u001b[39;00m \u001b[38;5;28;01mas\u001b[39;00m e:\n\u001b[0;32m    159\u001b[0m         \u001b[38;5;28mself\u001b[39m\u001b[38;5;241m.\u001b[39mwarning(\u001b[38;5;124mf\u001b[39m\u001b[38;5;124m\"\u001b[39m\u001b[38;5;124mFailed to execute callback at \u001b[39m\u001b[38;5;132;01m{\u001b[39;00mfreq_thz\u001b[38;5;132;01m}\u001b[39;00m\u001b[38;5;124m THz\u001b[39m\u001b[38;5;124m\"\u001b[39m)\n",
      "Cell \u001b[1;32mIn[3], line 44\u001b[0m, in \u001b[0;36mcallback_osc\u001b[1;34m()\u001b[0m\n\u001b[0;32m     43\u001b[0m \u001b[38;5;28;01mdef\u001b[39;00m \u001b[38;5;21mcallback_osc\u001b[39m():\n\u001b[1;32m---> 44\u001b[0m     \u001b[43mosc\u001b[49m\u001b[38;5;241;43m.\u001b[39;49m\u001b[43msingle_and_wait\u001b[49m\u001b[43m(\u001b[49m\u001b[43m)\u001b[49m\n\u001b[0;32m     45\u001b[0m     time\u001b[38;5;241m.\u001b[39msleep(\u001b[38;5;241m0.1\u001b[39m)\n\u001b[0;32m     46\u001b[0m     \u001b[38;5;28;01mreturn\u001b[39;00m osc\u001b[38;5;241m.\u001b[39mget_trace(channel\u001b[38;5;241m=\u001b[39m\u001b[38;5;241m1\u001b[39m, plot\u001b[38;5;241m=\u001b[39m\u001b[38;5;28;01mFalse\u001b[39;00m)\n",
      "File \u001b[1;32mc:\\Maodong\\NTT_code_Maodong\\notebooks\\..\\hardware\\rs_oscilloscope.py:164\u001b[0m, in \u001b[0;36mRsOSC.single_and_wait\u001b[1;34m(self)\u001b[0m\n\u001b[0;32m    162\u001b[0m \u001b[38;5;28mself\u001b[39m\u001b[38;5;241m.\u001b[39msingle()\n\u001b[0;32m    163\u001b[0m \u001b[38;5;28;01mwhile\u001b[39;00m \u001b[38;5;28mself\u001b[39m\u001b[38;5;241m.\u001b[39mget_acquisition_state() \u001b[38;5;241m!=\u001b[39m \u001b[38;5;124m'\u001b[39m\u001b[38;5;124mCOMP\u001b[39m\u001b[38;5;124m'\u001b[39m:\n\u001b[1;32m--> 164\u001b[0m     \u001b[43mtime\u001b[49m\u001b[38;5;241;43m.\u001b[39;49m\u001b[43msleep\u001b[49m\u001b[43m(\u001b[49m\u001b[38;5;241;43m0.1\u001b[39;49m\u001b[43m)\u001b[49m\n\u001b[0;32m    165\u001b[0m \u001b[38;5;28mself\u001b[39m\u001b[38;5;241m.\u001b[39minfo(\u001b[38;5;124m\"\u001b[39m\u001b[38;5;124mSingle acquisition completed\u001b[39m\u001b[38;5;124m\"\u001b[39m)\n",
      "\u001b[1;31mKeyboardInterrupt\u001b[0m: "
     ]
    }
   ],
   "source": [
    "sc.comb_fsr_ghz = 25\n",
    "ii = 1\n",
    "\n",
    "\n",
    "for ii in [1,2,3,4,5,6,7,8,9,10,11,12,13,14,15]:\n",
    "    def get_filename(filename_identify):\n",
    "        return r'Z:\\Maodong\\Projects\\Speckle_with_Comb\\CombPattern_20250102\\dataset%d_%s_one_EDFA_1umMMFtocollect_2MMFand1500DF_collect_with_new_collimator\\pattern_%d_%d_%dGHz_%ds' % (ii, filename_identify, sc.comb_min_wl_nm, sc.comb_max_wl_nm, sc.comb_fsr_ghz, osc.get_horizontal_scale_sec()*12)\n",
    "\n",
    "\n",
    "    stage.set_position('open')\n",
    "    filename_identify = 'withoutobj'\n",
    "    osc.set_vertical_scale_volt(channel=1, scale=0.35/10)\n",
    "    filename = get_filename(filename_identify)\n",
    "    time.sleep(1)\n",
    "    sc.scan_pattern(filename=filename, callback=callback_osc, get_bandpass_atten_func=get_att_from_thz)\n",
    "\n",
    "    stage.set_position('block')\n",
    "    filename_identify = 'withobj'\n",
    "    osc.set_vertical_scale_volt(channel=1, scale=0.25/10)\n",
    "    filename = get_filename(filename_identify)\n",
    "    time.sleep(1)\n",
    "    sc.scan_pattern(filename=filename, callback=callback_osc, get_bandpass_atten_func=get_att_from_thz)\n"
   ]
  },
  {
   "cell_type": "code",
   "execution_count": 57,
   "metadata": {},
   "outputs": [
    {
     "data": {
      "text/plain": [
       "'\\x1b[2K\\rsloc 100\\r\\nCommand description: SET LASER DIODE OPERATING CURRENT\\r\\n   current is set to \\x1b[33m\\x1b[40m100.000%\\r\\n\\x1b[0m\\x1b[2K'"
      ]
     },
     "execution_count": 57,
     "metadata": {},
     "output_type": "execute_result"
    }
   ],
   "source": [
    "edfa.set_laser_diode_current(100)"
   ]
  },
  {
   "cell_type": "code",
   "execution_count": 58,
   "metadata": {},
   "outputs": [
    {
     "data": {
      "text/plain": [
       "(array([1510.  , 1510.01, 1510.02, ..., 1589.98, 1589.99, 1590.  ]),\n",
       " array([-210.       , -210.       ,  -81.9338957, ...,  -66.6731858,\n",
       "        -210.       ,  -71.8144576]))"
      ]
     },
     "execution_count": 58,
     "metadata": {},
     "output_type": "execute_result"
    }
   ],
   "source": [
    "osa.get_trace('f')"
   ]
  },
  {
   "cell_type": "code",
   "execution_count": 35,
   "metadata": {},
   "outputs": [
    {
     "data": {
      "text/plain": [
       "'\\x1b[2K\\rsloc 0\\r\\nCommand description: SET LASER DIODE OPERATING CURRENT\\r\\n   current is set to \\x1b[33m\\x1b[40m0.000%\\r\\n\\x1b[0m\\x1b[2K'"
      ]
     },
     "execution_count": 35,
     "metadata": {},
     "output_type": "execute_result"
    }
   ],
   "source": [
    "stage.set_position('block')\n",
    "edfa.disable_laser()\n",
    "edfa.set_laser_diode_current(0)\n"
   ]
  },
  {
   "cell_type": "code",
   "execution_count": 37,
   "metadata": {},
   "outputs": [
    {
     "name": "stdout",
     "output_type": "stream",
     "text": [
      "trying to connect to 192.168.1.8 : 5025\n",
      "connected to server 192.168.1.8:5025\n"
     ]
    },
    {
     "data": {
      "text/plain": [
       "True"
      ]
     },
     "execution_count": 37,
     "metadata": {},
     "output_type": "execute_result"
    }
   ],
   "source": [
    "hmp.connect()"
   ]
  },
  {
   "cell_type": "code",
   "execution_count": 38,
   "metadata": {},
   "outputs": [
    {
     "name": "stdout",
     "output_type": "stream",
     "text": [
      "client send: OUTP:GEN 0\n"
     ]
    }
   ],
   "source": [
    "time.sleep(1)\n",
    "hmp.turn_off_selected_channels()\n"
   ]
  },
  {
   "cell_type": "code",
   "execution_count": 41,
   "metadata": {},
   "outputs": [
    {
     "name": "stdout",
     "output_type": "stream",
     "text": [
      "client send: INST OUT1\n",
      "client send: OUTP?\n",
      "received: 0\n",
      "\n",
      "client send: INST OUT2\n",
      "client send: OUTP?\n",
      "received: 0\n",
      "\n",
      "client send: INST OUT3\n",
      "client send: OUTP?\n",
      "received: 0\n",
      "\n",
      "client send: INST OUT4\n",
      "client send: OUTP?\n",
      "received: 0\n",
      "\n"
     ]
    },
    {
     "data": {
      "text/plain": [
       "['0\\n', '0\\n', '0\\n', '0\\n']"
      ]
     },
     "execution_count": 41,
     "metadata": {},
     "output_type": "execute_result"
    }
   ],
   "source": [
    "hmp.get_active_channel()"
   ]
  },
  {
   "cell_type": "code",
   "execution_count": 42,
   "metadata": {},
   "outputs": [],
   "source": [
    "time.sleep(1)\n",
    "psg.set_output(0)"
   ]
  },
  {
   "cell_type": "code",
   "execution_count": 43,
   "metadata": {},
   "outputs": [
    {
     "data": {
      "text/plain": [
       "'\\x1b[2K\\rstat\\r\\nCommand description: STATUS REGISTER\\r\\n\\r\\n  Status Register Value = 0x000E \\r\\n\\n  Interlock  : \\x1b[32m\\x1b[40mClosed\\x1b[0m \\r\\n  TEC0 temp  : \\x1b[32m\\x1b[40mGood\\x1b[0m \\r\\n  TEC1 temp  : \\x1b[32m\\x1b[40mGood\\x1b[0m \\r\\n  Temp stable: \\x1b[32m\\x1b[40mStable\\x1b[0m \\r\\n  Temp fault : \\x1b[32m\\x1b[40mNo Fault\\x1b[0m \\r\\n  LASER      : \\x1b[31m\\x1b[40mOFF\\x1b[37m\\x1b[40m\\x1b[0m \\r\\n  LOS Status : \\x1b[32m\\x1b[40mGood\\x1b[37m\\x1b[40m\\x1b[0m \\r\\n\\x1b[2K'"
      ]
     },
     "execution_count": 43,
     "metadata": {},
     "output_type": "execute_result"
    }
   ],
   "source": [
    "edfa.get_status()"
   ]
  },
  {
   "cell_type": "code",
   "execution_count": 45,
   "metadata": {},
   "outputs": [],
   "source": [
    "sc.pass_one_comb_line(10)"
   ]
  },
  {
   "cell_type": "code",
   "execution_count": 50,
   "metadata": {},
   "outputs": [],
   "source": [
    "stage.set_position('block')"
   ]
  },
  {
   "cell_type": "code",
   "execution_count": 44,
   "metadata": {},
   "outputs": [],
   "source": [
    "camera.disconnect()"
   ]
  },
  {
   "cell_type": "code",
   "execution_count": 53,
   "metadata": {},
   "outputs": [
    {
     "data": {
      "text/plain": [
       "<matplotlib.image.AxesImage at 0x1acd46a2a00>"
      ]
     },
     "execution_count": 53,
     "metadata": {},
     "output_type": "execute_result"
    }
   ],
   "source": [
    "plt.figure()\n",
    "plt.imshow(camera.capture_single_frame(), cmap='gray')"
   ]
  },
  {
   "cell_type": "code",
   "execution_count": null,
   "metadata": {},
   "outputs": [],
   "source": [
    "# osa.write_trace('b')\n",
    "# osa.run_and_wait()\n",
    "# osa_nm, osa_pwr = osa.get_trace('b')\n",
    "# osa_thz = np.array([thz2nm(nm) for nm in osa_nm])\n",
    "# from scipy.signal import find_peaks\n",
    "# peaks, _ = find_peaks(osa_pwr, height=-40)# height=-47.5)\n",
    "# plt.figure()\n",
    "# plt.plot(osa_thz, osa_pwr)\n",
    "# plt.plot(osa_thz[peaks], osa_pwr[peaks], 'x')\n",
    "\n",
    "# osa.fix_trace('b')\n",
    "# osa.blank_trace('b')"
   ]
  },
  {
   "cell_type": "code",
   "execution_count": null,
   "metadata": {},
   "outputs": [],
   "source": []
  }
 ],
 "metadata": {
  "kernelspec": {
   "display_name": "exp-env",
   "language": "python",
   "name": "python3"
  },
  "language_info": {
   "codemirror_mode": {
    "name": "ipython",
    "version": 3
   },
   "file_extension": ".py",
   "mimetype": "text/x-python",
   "name": "python",
   "nbconvert_exporter": "python",
   "pygments_lexer": "ipython3",
   "version": "3.8.19"
  }
 },
 "nbformat": 4,
 "nbformat_minor": 2
}
