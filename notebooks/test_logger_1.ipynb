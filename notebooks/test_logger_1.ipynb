{
 "cells": [
  {
   "cell_type": "code",
   "execution_count": 1,
   "metadata": {},
   "outputs": [
    {
     "name": "stdout",
     "output_type": "stream",
     "text": [
      "d:\\Maodong\\NTT_code_Maodong\n"
     ]
    }
   ],
   "source": [
    "cd .."
   ]
  },
  {
   "cell_type": "code",
   "execution_count": 2,
   "metadata": {},
   "outputs": [
    {
     "name": "stderr",
     "output_type": "stream",
     "text": [
      "\u001b[32m2024-07-29 18:31:19.087\u001b[0m | \u001b[1mINFO    \u001b[0m | \u001b[36mDevice\u001b[0m | \u001b[36mdevice.py\u001b[0m:\u001b[36m<module>\u001b[0m:\u001b[36m51\u001b[0m\n",
      "\u001b[1mlogger initialized\u001b[0m\n"
     ]
    }
   ],
   "source": [
    "from hardware.device import Device"
   ]
  },
  {
   "cell_type": "code",
   "execution_count": 3,
   "metadata": {},
   "outputs": [],
   "source": [
    "hd = Device('test1')"
   ]
  },
  {
   "cell_type": "code",
   "execution_count": 4,
   "metadata": {},
   "outputs": [
    {
     "name": "stderr",
     "output_type": "stream",
     "text": [
      "\u001b[32m2024-07-29 18:34:48.744\u001b[0m | \u001b[1mINFO    \u001b[0m | \u001b[36m\u001b[0m | \u001b[36m187003940.py\u001b[0m:\u001b[36m<module>\u001b[0m:\u001b[36m1\u001b[0m\n",
      "\u001b[1mtest from 1\u001b[0m\n"
     ]
    }
   ],
   "source": [
    "hd.info('test from 1')"
   ]
  },
  {
   "cell_type": "code",
   "execution_count": 1,
   "metadata": {},
   "outputs": [
    {
     "name": "stderr",
     "output_type": "stream",
     "text": [
      "\u001b[32m2024-08-02 15:54:58.704\u001b[0m | \u001b[1mINFO    \u001b[0m | \u001b[36m__main__\u001b[0m:\u001b[36m<module>\u001b[0m:\u001b[36m11\u001b[0m - \u001b[1mLogging from client - retest\u001b[0m\n"
     ]
    }
   ],
   "source": [
    "# client.py\n",
    "import zmq\n",
    "from zmq.log.handlers import PUBHandler\n",
    "from loguru import logger\n",
    "\n",
    "socket = zmq.Context().socket(zmq.PUB)\n",
    "socket.connect(\"tcp://127.0.0.1:12345\")\n",
    "handler = PUBHandler(socket)\n",
    "logger.add(handler)\n",
    "\n",
    "logger.info(\"Logging from client - retest\")"
   ]
  },
  {
   "cell_type": "code",
   "execution_count": 4,
   "metadata": {},
   "outputs": [
    {
     "name": "stderr",
     "output_type": "stream",
     "text": [
      "Logging from client - 02\n"
     ]
    }
   ],
   "source": [
    "logger.error(\"Logging from client - 02\")"
   ]
  },
  {
   "cell_type": "code",
   "execution_count": 1,
   "metadata": {},
   "outputs": [
    {
     "name": "stdout",
     "output_type": "stream",
     "text": [
      "d:\\Maodong\\NTT_code_Maodong\n"
     ]
    }
   ],
   "source": [
    "cd .."
   ]
  },
  {
   "cell_type": "code",
   "execution_count": 2,
   "metadata": {},
   "outputs": [
    {
     "name": "stderr",
     "output_type": "stream",
     "text": [
      "\u001b[32m2024-08-02 22:51:29.174\u001b[0m | \u001b[1mINFO    \u001b[0m | \u001b[36mLoggerClient\u001b[0m | \u001b[36mlogger.py\u001b[0m:\u001b[36m__init_logger\u001b[0m:\u001b[36m41\u001b[0m\n",
      "\u001b[1mLogger client started at tcp://127.0.0.1:12345\u001b[0m\n",
      "\u001b[32m2024-08-02 22:51:29.174\u001b[0m | \u001b[1mINFO    \u001b[0m | \u001b[36m\u001b[0m | \u001b[36m3664811451.py\u001b[0m:\u001b[36m<module>\u001b[0m:\u001b[36m3\u001b[0m\n",
      "\u001b[1mtest from 2 again whaterver 05\u001b[0m\n"
     ]
    }
   ],
   "source": [
    "from hardware.logger import LoggerClient\n",
    "logger = LoggerClient()\n",
    "logger.info('test from 2 again whaterver 05')"
   ]
  },
  {
   "cell_type": "code",
   "execution_count": 4,
   "metadata": {},
   "outputs": [
    {
     "name": "stderr",
     "output_type": "stream",
     "text": [
      "\u001b[32m2024-08-02 22:51:57.682\u001b[0m | \u001b[1mINFO    \u001b[0m | \u001b[36m\u001b[0m | \u001b[36m552540541.py\u001b[0m:\u001b[36m<module>\u001b[0m:\u001b[36m1\u001b[0m\n",
      "\u001b[1mtest from 2 again whaterver iughjn5\u001b[0m\n"
     ]
    }
   ],
   "source": [
    "logger.info('test from 2 again whaterver iughjn5')"
   ]
  },
  {
   "cell_type": "code",
   "execution_count": 5,
   "metadata": {},
   "outputs": [],
   "source": [
    "ii = 0"
   ]
  },
  {
   "cell_type": "code",
   "execution_count": 15,
   "metadata": {},
   "outputs": [
    {
     "name": "stderr",
     "output_type": "stream",
     "text": [
      "\u001b[32m2024-08-02 22:55:15.173\u001b[0m | \u001b[1mINFO    \u001b[0m | \u001b[36m\u001b[0m | \u001b[36m233773763.py\u001b[0m:\u001b[36m<module>\u001b[0m:\u001b[36m1\u001b[0m\n",
      "\u001b[1mtest from 1 again whaterver 9\u001b[0m\n"
     ]
    }
   ],
   "source": [
    "logger.info(f\"test from 1 again whaterver {ii}\")\n",
    "ii += 1"
   ]
  },
  {
   "cell_type": "code",
   "execution_count": null,
   "metadata": {},
   "outputs": [],
   "source": []
  },
  {
   "cell_type": "code",
   "execution_count": null,
   "metadata": {},
   "outputs": [],
   "source": []
  },
  {
   "cell_type": "code",
   "execution_count": 3,
   "metadata": {},
   "outputs": [
    {
     "name": "stderr",
     "output_type": "stream",
     "text": [
      "\u001b[32m2024-08-02 18:47:25.063\u001b[0m | \u001b[1mINFO    \u001b[0m | \u001b[36m\u001b[0m | \u001b[36m2753057470.py\u001b[0m:\u001b[36m<module>\u001b[0m:\u001b[36m2\u001b[0m\n",
      "\u001b[1mtest from 2 again whaterver 0\u001b[0m\n",
      "\u001b[32m2024-08-02 18:47:25.571\u001b[0m | \u001b[1mINFO    \u001b[0m | \u001b[36m\u001b[0m | \u001b[36m2753057470.py\u001b[0m:\u001b[36m<module>\u001b[0m:\u001b[36m2\u001b[0m\n",
      "\u001b[1mtest from 2 again whaterver 1\u001b[0m\n",
      "\u001b[32m2024-08-02 18:47:26.076\u001b[0m | \u001b[1mINFO    \u001b[0m | \u001b[36m\u001b[0m | \u001b[36m2753057470.py\u001b[0m:\u001b[36m<module>\u001b[0m:\u001b[36m2\u001b[0m\n",
      "\u001b[1mtest from 2 again whaterver 2\u001b[0m\n",
      "\u001b[32m2024-08-02 18:47:26.585\u001b[0m | \u001b[1mINFO    \u001b[0m | \u001b[36m\u001b[0m | \u001b[36m2753057470.py\u001b[0m:\u001b[36m<module>\u001b[0m:\u001b[36m2\u001b[0m\n",
      "\u001b[1mtest from 2 again whaterver 3\u001b[0m\n",
      "\u001b[32m2024-08-02 18:47:27.093\u001b[0m | \u001b[1mINFO    \u001b[0m | \u001b[36m\u001b[0m | \u001b[36m2753057470.py\u001b[0m:\u001b[36m<module>\u001b[0m:\u001b[36m2\u001b[0m\n",
      "\u001b[1mtest from 2 again whaterver 4\u001b[0m\n",
      "\u001b[32m2024-08-02 18:47:27.596\u001b[0m | \u001b[1mINFO    \u001b[0m | \u001b[36m\u001b[0m | \u001b[36m2753057470.py\u001b[0m:\u001b[36m<module>\u001b[0m:\u001b[36m2\u001b[0m\n",
      "\u001b[1mtest from 2 again whaterver 5\u001b[0m\n",
      "\u001b[32m2024-08-02 18:47:28.099\u001b[0m | \u001b[1mINFO    \u001b[0m | \u001b[36m\u001b[0m | \u001b[36m2753057470.py\u001b[0m:\u001b[36m<module>\u001b[0m:\u001b[36m2\u001b[0m\n",
      "\u001b[1mtest from 2 again whaterver 6\u001b[0m\n",
      "\u001b[32m2024-08-02 18:47:28.609\u001b[0m | \u001b[1mINFO    \u001b[0m | \u001b[36m\u001b[0m | \u001b[36m2753057470.py\u001b[0m:\u001b[36m<module>\u001b[0m:\u001b[36m2\u001b[0m\n",
      "\u001b[1mtest from 2 again whaterver 7\u001b[0m\n",
      "\u001b[32m2024-08-02 18:47:29.110\u001b[0m | \u001b[1mINFO    \u001b[0m | \u001b[36m\u001b[0m | \u001b[36m2753057470.py\u001b[0m:\u001b[36m<module>\u001b[0m:\u001b[36m2\u001b[0m\n",
      "\u001b[1mtest from 2 again whaterver 8\u001b[0m\n",
      "\u001b[32m2024-08-02 18:47:29.613\u001b[0m | \u001b[1mINFO    \u001b[0m | \u001b[36m\u001b[0m | \u001b[36m2753057470.py\u001b[0m:\u001b[36m<module>\u001b[0m:\u001b[36m2\u001b[0m\n",
      "\u001b[1mtest from 2 again whaterver 9\u001b[0m\n",
      "\u001b[32m2024-08-02 18:47:30.115\u001b[0m | \u001b[1mINFO    \u001b[0m | \u001b[36m\u001b[0m | \u001b[36m2753057470.py\u001b[0m:\u001b[36m<module>\u001b[0m:\u001b[36m2\u001b[0m\n",
      "\u001b[1mtest from 2 again whaterver 10\u001b[0m\n",
      "\u001b[32m2024-08-02 18:47:30.620\u001b[0m | \u001b[1mINFO    \u001b[0m | \u001b[36m\u001b[0m | \u001b[36m2753057470.py\u001b[0m:\u001b[36m<module>\u001b[0m:\u001b[36m2\u001b[0m\n",
      "\u001b[1mtest from 2 again whaterver 11\u001b[0m\n",
      "\u001b[32m2024-08-02 18:47:31.120\u001b[0m | \u001b[1mINFO    \u001b[0m | \u001b[36m\u001b[0m | \u001b[36m2753057470.py\u001b[0m:\u001b[36m<module>\u001b[0m:\u001b[36m2\u001b[0m\n",
      "\u001b[1mtest from 2 again whaterver 12\u001b[0m\n",
      "\u001b[32m2024-08-02 18:47:31.626\u001b[0m | \u001b[1mINFO    \u001b[0m | \u001b[36m\u001b[0m | \u001b[36m2753057470.py\u001b[0m:\u001b[36m<module>\u001b[0m:\u001b[36m2\u001b[0m\n",
      "\u001b[1mtest from 2 again whaterver 13\u001b[0m\n",
      "\u001b[32m2024-08-02 18:47:32.126\u001b[0m | \u001b[1mINFO    \u001b[0m | \u001b[36m\u001b[0m | \u001b[36m2753057470.py\u001b[0m:\u001b[36m<module>\u001b[0m:\u001b[36m2\u001b[0m\n",
      "\u001b[1mtest from 2 again whaterver 14\u001b[0m\n",
      "\u001b[32m2024-08-02 18:47:32.631\u001b[0m | \u001b[1mINFO    \u001b[0m | \u001b[36m\u001b[0m | \u001b[36m2753057470.py\u001b[0m:\u001b[36m<module>\u001b[0m:\u001b[36m2\u001b[0m\n",
      "\u001b[1mtest from 2 again whaterver 15\u001b[0m\n",
      "\u001b[32m2024-08-02 18:47:33.134\u001b[0m | \u001b[1mINFO    \u001b[0m | \u001b[36m\u001b[0m | \u001b[36m2753057470.py\u001b[0m:\u001b[36m<module>\u001b[0m:\u001b[36m2\u001b[0m\n",
      "\u001b[1mtest from 2 again whaterver 16\u001b[0m\n",
      "\u001b[32m2024-08-02 18:47:33.637\u001b[0m | \u001b[1mINFO    \u001b[0m | \u001b[36m\u001b[0m | \u001b[36m2753057470.py\u001b[0m:\u001b[36m<module>\u001b[0m:\u001b[36m2\u001b[0m\n",
      "\u001b[1mtest from 2 again whaterver 17\u001b[0m\n",
      "\u001b[32m2024-08-02 18:47:34.140\u001b[0m | \u001b[1mINFO    \u001b[0m | \u001b[36m\u001b[0m | \u001b[36m2753057470.py\u001b[0m:\u001b[36m<module>\u001b[0m:\u001b[36m2\u001b[0m\n",
      "\u001b[1mtest from 2 again whaterver 18\u001b[0m\n",
      "\u001b[32m2024-08-02 18:47:34.657\u001b[0m | \u001b[1mINFO    \u001b[0m | \u001b[36m\u001b[0m | \u001b[36m2753057470.py\u001b[0m:\u001b[36m<module>\u001b[0m:\u001b[36m2\u001b[0m\n",
      "\u001b[1mtest from 2 again whaterver 19\u001b[0m\n",
      "\u001b[32m2024-08-02 18:47:35.161\u001b[0m | \u001b[1mINFO    \u001b[0m | \u001b[36m\u001b[0m | \u001b[36m2753057470.py\u001b[0m:\u001b[36m<module>\u001b[0m:\u001b[36m2\u001b[0m\n",
      "\u001b[1mtest from 2 again whaterver 20\u001b[0m\n",
      "\u001b[32m2024-08-02 18:47:35.662\u001b[0m | \u001b[1mINFO    \u001b[0m | \u001b[36m\u001b[0m | \u001b[36m2753057470.py\u001b[0m:\u001b[36m<module>\u001b[0m:\u001b[36m2\u001b[0m\n",
      "\u001b[1mtest from 2 again whaterver 21\u001b[0m\n",
      "\u001b[32m2024-08-02 18:47:36.175\u001b[0m | \u001b[1mINFO    \u001b[0m | \u001b[36m\u001b[0m | \u001b[36m2753057470.py\u001b[0m:\u001b[36m<module>\u001b[0m:\u001b[36m2\u001b[0m\n",
      "\u001b[1mtest from 2 again whaterver 22\u001b[0m\n",
      "\u001b[32m2024-08-02 18:47:36.677\u001b[0m | \u001b[1mINFO    \u001b[0m | \u001b[36m\u001b[0m | \u001b[36m2753057470.py\u001b[0m:\u001b[36m<module>\u001b[0m:\u001b[36m2\u001b[0m\n",
      "\u001b[1mtest from 2 again whaterver 23\u001b[0m\n",
      "\u001b[32m2024-08-02 18:47:37.190\u001b[0m | \u001b[1mINFO    \u001b[0m | \u001b[36m\u001b[0m | \u001b[36m2753057470.py\u001b[0m:\u001b[36m<module>\u001b[0m:\u001b[36m2\u001b[0m\n",
      "\u001b[1mtest from 2 again whaterver 24\u001b[0m\n",
      "\u001b[32m2024-08-02 18:47:37.690\u001b[0m | \u001b[1mINFO    \u001b[0m | \u001b[36m\u001b[0m | \u001b[36m2753057470.py\u001b[0m:\u001b[36m<module>\u001b[0m:\u001b[36m2\u001b[0m\n",
      "\u001b[1mtest from 2 again whaterver 25\u001b[0m\n",
      "\u001b[32m2024-08-02 18:47:38.194\u001b[0m | \u001b[1mINFO    \u001b[0m | \u001b[36m\u001b[0m | \u001b[36m2753057470.py\u001b[0m:\u001b[36m<module>\u001b[0m:\u001b[36m2\u001b[0m\n",
      "\u001b[1mtest from 2 again whaterver 26\u001b[0m\n",
      "\u001b[32m2024-08-02 18:47:38.707\u001b[0m | \u001b[1mINFO    \u001b[0m | \u001b[36m\u001b[0m | \u001b[36m2753057470.py\u001b[0m:\u001b[36m<module>\u001b[0m:\u001b[36m2\u001b[0m\n",
      "\u001b[1mtest from 2 again whaterver 27\u001b[0m\n",
      "\u001b[32m2024-08-02 18:47:39.221\u001b[0m | \u001b[1mINFO    \u001b[0m | \u001b[36m\u001b[0m | \u001b[36m2753057470.py\u001b[0m:\u001b[36m<module>\u001b[0m:\u001b[36m2\u001b[0m\n",
      "\u001b[1mtest from 2 again whaterver 28\u001b[0m\n"
     ]
    }
   ],
   "source": [
    "for ii in range(1000):\n",
    "    logger.info(f\"test from 2 again whaterver {ii}\")\n",
    "    import time\n",
    "    time.sleep(0.5)"
   ]
  },
  {
   "cell_type": "code",
   "execution_count": null,
   "metadata": {},
   "outputs": [],
   "source": []
  }
 ],
 "metadata": {
  "kernelspec": {
   "display_name": "Python 3",
   "language": "python",
   "name": "python3"
  },
  "language_info": {
   "codemirror_mode": {
    "name": "ipython",
    "version": 3
   },
   "file_extension": ".py",
   "mimetype": "text/x-python",
   "name": "python",
   "nbconvert_exporter": "python",
   "pygments_lexer": "ipython3",
   "version": "3.8.10"
  }
 },
 "nbformat": 4,
 "nbformat_minor": 2
}
