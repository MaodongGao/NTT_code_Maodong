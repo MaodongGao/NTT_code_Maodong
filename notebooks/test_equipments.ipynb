{
 "cells": [
  {
   "cell_type": "code",
   "execution_count": 2,
   "metadata": {},
   "outputs": [],
   "source": [
    "%reload_ext autoreload\n",
    "%autoreload 2\n",
    "\n",
    "import sys,os\n",
    "import numpy as np\n",
    "import matplotlib.pyplot as plt\n",
    "sys.path.append(os.path.join(os.getcwd(), '../'))\n",
    "# from hardware.slm import SLM\n",
    "from hardware.camera import NITCam\n",
    "from hardware.waveshaper import Waveshaper\n",
    "from hardware.yokogawa_osa import YokogawaOSA\n",
    "from hardware.elliptec import ElliptecDualPositioner\n",
    "\n",
    "def thz2nm(THz):\n",
    "    return 299792.458/THz\n",
    "\n",
    "%matplotlib qt\n",
    "\n",
    "starting = False"
   ]
  },
  {
   "cell_type": "code",
   "execution_count": 3,
   "metadata": {},
   "outputs": [
    {
     "data": {
      "text/plain": [
       "1"
      ]
     },
     "execution_count": 3,
     "metadata": {},
     "output_type": "execute_result"
    }
   ],
   "source": [
    "from hardware.keysight_psg import KeysightPSG\n",
    "psg = KeysightPSG()\n",
    "psg.connect()"
   ]
  },
  {
   "cell_type": "code",
   "execution_count": null,
   "metadata": {},
   "outputs": [],
   "source": []
  }
 ],
 "metadata": {
  "kernelspec": {
   "display_name": "exp-env",
   "language": "python",
   "name": "python3"
  },
  "language_info": {
   "codemirror_mode": {
    "name": "ipython",
    "version": 3
   },
   "file_extension": ".py",
   "mimetype": "text/x-python",
   "name": "python",
   "nbconvert_exporter": "python",
   "pygments_lexer": "ipython3",
   "version": "3.8.19"
  }
 },
 "nbformat": 4,
 "nbformat_minor": 2
}
