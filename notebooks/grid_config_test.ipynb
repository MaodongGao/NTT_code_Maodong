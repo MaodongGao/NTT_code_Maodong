{
 "cells": [
  {
   "cell_type": "code",
   "execution_count": 1,
   "metadata": {},
   "outputs": [
    {
     "name": "stdout",
     "output_type": "stream",
     "text": [
      "d:\\Maodong\\NTT_code_Maodong\n"
     ]
    }
   ],
   "source": [
    "cd .."
   ]
  },
  {
   "cell_type": "code",
   "execution_count": 2,
   "metadata": {},
   "outputs": [],
   "source": [
    "from hardware.utils.grid_config import GridConfig"
   ]
  },
  {
   "cell_type": "code",
   "execution_count": 3,
   "metadata": {},
   "outputs": [
    {
     "data": {
      "text/plain": [
       "matrixsize_0: None\n",
       "matrixsize_1: None\n",
       "elem_width: None\n",
       "elem_height: None\n",
       "topleft_x: None\n",
       "topleft_y: None\n",
       "gap_x: None\n",
       "gap_y: None"
      ]
     },
     "execution_count": 3,
     "metadata": {},
     "output_type": "execute_result"
    }
   ],
   "source": [
    "tt = GridConfig()\n",
    "tt"
   ]
  },
  {
   "cell_type": "code",
   "execution_count": 4,
   "metadata": {},
   "outputs": [
    {
     "name": "stdout",
     "output_type": "stream",
     "text": [
      "matrixsize_0 None\n",
      "matrixsize_1 None\n",
      "elem_width None\n",
      "elem_height None\n",
      "topleft_x None\n",
      "topleft_y None\n",
      "gap_x 4\n",
      "gap_y None\n"
     ]
    }
   ],
   "source": [
    "# tt['fs'] = 1\n",
    "tt['gap_x'] = 4\n",
    "for key in tt.keys():\n",
    "    print(key, tt[key])"
   ]
  },
  {
   "cell_type": "code",
   "execution_count": 5,
   "metadata": {},
   "outputs": [
    {
     "data": {
      "text/plain": [
       "['matrixsize_0',\n",
       " 'matrixsize_1',\n",
       " 'elem_width',\n",
       " 'elem_height',\n",
       " 'topleft_x',\n",
       " 'topleft_y',\n",
       " 'gap_y']"
      ]
     },
     "execution_count": 5,
     "metadata": {},
     "output_type": "execute_result"
    }
   ],
   "source": [
    "tt.missing_keys()"
   ]
  },
  {
   "cell_type": "code",
   "execution_count": 2,
   "metadata": {},
   "outputs": [
    {
     "name": "stderr",
     "output_type": "stream",
     "text": [
      "\u001b[32m2024-08-07 17:19:41.781\u001b[0m | \u001b[1mINFO    \u001b[0m | \u001b[36mLoggerClient\u001b[0m | procID \u001b[36m24432\u001b[0m | \u001b[36mlogger.py\u001b[0m:\u001b[36m__init_logger\u001b[0m:\u001b[36m148\u001b[0m\n",
      "\u001b[1mLogger client started at tcp://127.0.0.1:12345\u001b[0m\n"
     ]
    }
   ],
   "source": [
    "from hardware.slm import SLM\n",
    "slm = SLM(1)"
   ]
  },
  {
   "cell_type": "code",
   "execution_count": 3,
   "metadata": {},
   "outputs": [
    {
     "name": "stderr",
     "output_type": "stream",
     "text": [
      "\u001b[32m2024-08-07 17:11:05.208\u001b[0m | \u001b[1mINFO    \u001b[0m | \u001b[36mSLM1\u001b[0m | procID \u001b[36m15248\u001b[0m | \u001b[36mslm.py\u001b[0m:\u001b[36mgrid_config\u001b[0m:\u001b[36m44\u001b[0m\n",
      "\u001b[1mSLM1: Grid configuration updated to: \n",
      "matrixsize_0: None\n",
      "matrixsize_1: None\n",
      "elem_width: None\n",
      "elem_height: None\n",
      "topleft_x: None\n",
      "topleft_y: None\n",
      "gap_x: None\n",
      "gap_y: None\u001b[0m\n"
     ]
    },
    {
     "data": {
      "text/plain": [
       "matrixsize_0: None\n",
       "matrixsize_1: None\n",
       "elem_width: None\n",
       "elem_height: None\n",
       "topleft_x: None\n",
       "topleft_y: None\n",
       "gap_x: None\n",
       "gap_y: None\n",
       "fs: 1"
      ]
     },
     "execution_count": 3,
     "metadata": {},
     "output_type": "execute_result"
    }
   ],
   "source": [
    "slm.grid_config = {}\n",
    "slm.grid_config['fs'] = 1"
   ]
  },
  {
   "cell_type": "code",
   "execution_count": 4,
   "metadata": {},
   "outputs": [
    {
     "data": {
      "text/plain": [
       "matrixsize_0: None\n",
       "matrixsize_1: None\n",
       "elem_width: None\n",
       "elem_height: None\n",
       "topleft_x: None\n",
       "topleft_y: None\n",
       "gap_x: None\n",
       "gap_y: None"
      ]
     },
     "execution_count": 4,
     "metadata": {},
     "output_type": "execute_result"
    }
   ],
   "source": [
    "slm.grid_config"
   ]
  },
  {
   "cell_type": "code",
   "execution_count": 3,
   "metadata": {},
   "outputs": [
    {
     "name": "stderr",
     "output_type": "stream",
     "text": [
      "\u001b[32m2024-08-07 17:19:50.125\u001b[0m | \u001b[1mINFO    \u001b[0m | \u001b[36mSLM1\u001b[0m | procID \u001b[36m24432\u001b[0m | \u001b[36mslm.py\u001b[0m:\u001b[36mgrid_config\u001b[0m:\u001b[36m44\u001b[0m\n",
      "\u001b[1mSLM1: Grid configuration updated to: \n",
      "matrixsize_0: None\n",
      "matrixsize_1: None\n",
      "elem_width: None\n",
      "elem_height: None\n",
      "topleft_x: None\n",
      "topleft_y: None\n",
      "gap_x: None\n",
      "gap_y: None\u001b[0m\n"
     ]
    },
    {
     "ename": "Exception",
     "evalue": "Missing grid configuration parameters ['matrixsize_1', 'elem_width', 'elem_height', 'topleft_x', 'topleft_y', 'gap_x', 'gap_y']. Please provide all necessary parameters.",
     "output_type": "error",
     "traceback": [
      "\u001b[1;31m---------------------------------------------------------------------------\u001b[0m",
      "\u001b[1;31mException\u001b[0m                                 Traceback (most recent call last)",
      "Cell \u001b[1;32mIn[3], line 1\u001b[0m\n\u001b[1;32m----> 1\u001b[0m \u001b[43mslm\u001b[49m\u001b[38;5;241;43m.\u001b[39;49m\u001b[43membed_matrix\u001b[49m\u001b[43m(\u001b[49m\u001b[38;5;241;43m1\u001b[39;49m\u001b[43m,\u001b[49m\u001b[43m \u001b[49m\u001b[43m{\u001b[49m\u001b[38;5;124;43m'\u001b[39;49m\u001b[38;5;124;43mmatrixsize_0\u001b[39;49m\u001b[38;5;124;43m'\u001b[39;49m\u001b[43m:\u001b[49m\u001b[38;5;241;43m10\u001b[39;49m\u001b[43m}\u001b[49m\u001b[43m)\u001b[49m\n",
      "File \u001b[1;32md:\\Maodong\\NTT_code_Maodong\\hardware\\slm.py:230\u001b[0m, in \u001b[0;36mSLM.embed_matrix\u001b[1;34m(self, matrix, params, plot)\u001b[0m\n\u001b[0;32m    228\u001b[0m params \u001b[38;5;241m=\u001b[39m \u001b[38;5;28mself\u001b[39m\u001b[38;5;241m.\u001b[39mgrid_config\n\u001b[0;32m    229\u001b[0m \u001b[38;5;28;01mif\u001b[39;00m params\u001b[38;5;241m.\u001b[39mhas_needed_keys():\n\u001b[1;32m--> 230\u001b[0m     \u001b[38;5;28;01mraise\u001b[39;00m \u001b[38;5;167;01mException\u001b[39;00m(\u001b[38;5;124mf\u001b[39m\u001b[38;5;124m\"\u001b[39m\u001b[38;5;124mMissing grid configuration parameters \u001b[39m\u001b[38;5;132;01m{\u001b[39;00m\u001b[38;5;28mself\u001b[39m\u001b[38;5;241m.\u001b[39mgrid_config\u001b[38;5;241m.\u001b[39mmissing_keys()\u001b[38;5;132;01m}\u001b[39;00m\u001b[38;5;124m. Please provide all necessary parameters.\u001b[39m\u001b[38;5;124m\"\u001b[39m)\n\u001b[0;32m    232\u001b[0m \u001b[38;5;66;03m# Extract parameters\u001b[39;00m\n\u001b[0;32m    233\u001b[0m slm_width \u001b[38;5;241m=\u001b[39m \u001b[38;5;28mself\u001b[39m\u001b[38;5;241m.\u001b[39mslm_width\n",
      "\u001b[1;31mException\u001b[0m: Missing grid configuration parameters ['matrixsize_1', 'elem_width', 'elem_height', 'topleft_x', 'topleft_y', 'gap_x', 'gap_y']. Please provide all necessary parameters."
     ]
    }
   ],
   "source": [
    "slm.embed_matrix(1, {'matrixsize_0':10})"
   ]
  },
  {
   "cell_type": "code",
   "execution_count": 8,
   "metadata": {},
   "outputs": [
    {
     "data": {
      "text/plain": [
       "matrixsize_0: None\n",
       "matrixsize_1: None\n",
       "elem_width: None\n",
       "elem_height: None\n",
       "topleft_x: None\n",
       "topleft_y: None\n",
       "gap_x: None\n",
       "gap_y: None\n",
       "fs: 1"
      ]
     },
     "execution_count": 8,
     "metadata": {},
     "output_type": "execute_result"
    }
   ],
   "source": [
    "slm.grid_config"
   ]
  },
  {
   "cell_type": "code",
   "execution_count": null,
   "metadata": {},
   "outputs": [],
   "source": []
  }
 ],
 "metadata": {
  "kernelspec": {
   "display_name": "Python 3",
   "language": "python",
   "name": "python3"
  },
  "language_info": {
   "codemirror_mode": {
    "name": "ipython",
    "version": 3
   },
   "file_extension": ".py",
   "mimetype": "text/x-python",
   "name": "python",
   "nbconvert_exporter": "python",
   "pygments_lexer": "ipython3",
   "version": "3.8.10"
  }
 },
 "nbformat": 4,
 "nbformat_minor": 2
}
