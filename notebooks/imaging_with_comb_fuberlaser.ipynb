{
 "cells": [
  {
   "cell_type": "code",
   "execution_count": 1,
   "metadata": {},
   "outputs": [],
   "source": [
    "%reload_ext autoreload\n",
    "%autoreload 2\n",
    "\n",
    "import sys,os\n",
    "import numpy as np\n",
    "import matplotlib.pyplot as plt\n",
    "sys.path.append(os.path.join(os.getcwd(), '../'))\n",
    "# from hardware.slm import SLM\n",
    "from hardware.camera import NITCam\n",
    "from hardware.waveshaper import Waveshaper\n",
    "from hardware.yokogawa_osa import YokogawaOSA\n",
    "\n",
    "def thz2nm(THz):\n",
    "    return 299792.458/THz\n",
    "\n",
    "%matplotlib qt\n",
    "\n",
    "starting = False"
   ]
  },
  {
   "cell_type": "code",
   "execution_count": 2,
   "metadata": {},
   "outputs": [],
   "source": [
    "osa = YokogawaOSA()#TCPIP::192.168.1.23::INSTR')\n",
    "osa.connect()\n",
    "\n",
    "ws = Waveshaper()"
   ]
  },
  {
   "cell_type": "code",
   "execution_count": 3,
   "metadata": {},
   "outputs": [
    {
     "name": "stdout",
     "output_type": "stream",
     "text": [
      "Observer initialized\n"
     ]
    }
   ],
   "source": [
    "camera = NITCam()\n",
    "camera.bitDepth = 14\n",
    "camera.exposure_time = 2000\n",
    "# camera.analog_gain = \"High\"\n",
    "# camera.FPS = 10\n",
    "camera.frame_width = 256#424#432\n",
    "camera.frame_height = 256#320#424#432\n",
    "camera.offset_x = 32#320#496\n",
    "camera.offset_y = 0#252#212\n",
    "# camera.setNUCfile(r'C:\\Users\\think\\Desktop\\NUCFactory_500us.yml')\n"
   ]
  },
  {
   "cell_type": "code",
   "execution_count": 4,
   "metadata": {},
   "outputs": [],
   "source": [
    "camera.connect()\n",
    "camera.setNUCfile(r'C:\\Users\\think\\Desktop\\NUCFactory_2000us.yml')\n",
    "# camera.device.setParamValueOf(\"Camera Mode\", \"LinHigh\")\n",
    " "
   ]
  },
  {
   "cell_type": "code",
   "execution_count": 26,
   "metadata": {},
   "outputs": [],
   "source": [
    "\n",
    "camera.disconnect()"
   ]
  },
  {
   "cell_type": "code",
   "execution_count": 42,
   "metadata": {},
   "outputs": [
    {
     "data": {
      "text/plain": [
       "<matplotlib.image.AxesImage at 0x1972455ce80>"
      ]
     },
     "execution_count": 42,
     "metadata": {},
     "output_type": "execute_result"
    }
   ],
   "source": [
    "plt.figure()\n",
    "plt.imshow(camera.capture_single_frame(), cmap='gray')"
   ]
  },
  {
   "cell_type": "code",
   "execution_count": 21,
   "metadata": {},
   "outputs": [
    {
     "data": {
      "text/plain": [
       "<matplotlib.image.AxesImage at 0x249c0bf3910>"
      ]
     },
     "execution_count": 21,
     "metadata": {},
     "output_type": "execute_result"
    }
   ],
   "source": [
    "img = camera.capture_single_frame()\n",
    "plt.imshow(img, cmap='gray')"
   ]
  },
  {
   "cell_type": "code",
   "execution_count": 24,
   "metadata": {},
   "outputs": [
    {
     "data": {
      "text/plain": [
       "<matplotlib.image.AxesImage at 0x249bf5dd790>"
      ]
     },
     "execution_count": 24,
     "metadata": {},
     "output_type": "execute_result"
    }
   ],
   "source": [
    "plt.imshow(img, cmap='gray')"
   ]
  },
  {
   "cell_type": "code",
   "execution_count": 22,
   "metadata": {},
   "outputs": [],
   "source": [
    "np.save(r'Z:\\Maodong\\Projects\\Speckle_with_Comb\\Test_Collimator_20241219\\image_after_PD_collimator_1mmMMF', img)"
   ]
  },
  {
   "cell_type": "code",
   "execution_count": 25,
   "metadata": {},
   "outputs": [
    {
     "data": {
      "text/plain": [
       "1950"
      ]
     },
     "execution_count": 25,
     "metadata": {},
     "output_type": "execute_result"
    }
   ],
   "source": [
    "130*15"
   ]
  },
  {
   "cell_type": "code",
   "execution_count": 23,
   "metadata": {},
   "outputs": [],
   "source": [
    "# save img to json\n",
    "import json\n",
    "import numpy as np\n",
    "import os\n",
    "\n",
    "with open(r'Z:\\Maodong\\Projects\\Speckle_with_Comb\\Test_Collimator_20241219\\image_after_PD_collimator_1mmMMF.json', 'w') as f:\n",
    "    json.dump(img.tolist(), f)"
   ]
  },
  {
   "cell_type": "code",
   "execution_count": 8,
   "metadata": {},
   "outputs": [],
   "source": [
    "# # the 201th min value of img\n",
    "# img_flat = img.flatten()\n",
    "# img_flat.sort()\n",
    "# print(img_flat[201])\n",
    "\n",
    "# # the 201th max value of img\n",
    "# img_flat = img.flatten()\n",
    "# img_flat.sort()\n",
    "# print(img_flat[-201])\n",
    "\n",
    "# # normalize the image "
   ]
  },
  {
   "cell_type": "code",
   "execution_count": null,
   "metadata": {},
   "outputs": [],
   "source": []
  },
  {
   "cell_type": "code",
   "execution_count": 9,
   "metadata": {},
   "outputs": [
    {
     "data": {
      "text/plain": [
       "1549.9999999999998"
      ]
     },
     "execution_count": 9,
     "metadata": {},
     "output_type": "execute_result"
    }
   ],
   "source": [
    "osa.wavelength_center_nm"
   ]
  },
  {
   "cell_type": "code",
   "execution_count": 10,
   "metadata": {},
   "outputs": [],
   "source": [
    "# osa.write_trace('a')\n",
    "# osa.write_trace('f')\n",
    "\n",
    "# osa.wavelength_center_nm = 1550\n",
    "# osa.wavelength_span_nm = 80"
   ]
  },
  {
   "cell_type": "code",
   "execution_count": null,
   "metadata": {},
   "outputs": [],
   "source": [
    "if starting:\n",
    "    osa.run_and_wait()\n",
    "    osa.save_trace('f', r'Z:\\Maodong\\Projects\\Speckle_with_Comb\\CombPattern_20241219_one_EDFA_1um5mMMF\\OSA\\input_full_comb')"
   ]
  },
  {
   "cell_type": "code",
   "execution_count": 4,
   "metadata": {},
   "outputs": [],
   "source": [
    "from experiments.speckle_collector_with_comb import SpeckleCollectorWithComb\n",
    "sc = SpeckleCollectorWithComb(camera=camera, ws=ws)\n",
    "sc.comb_fsr_ghz = 100"
   ]
  },
  {
   "cell_type": "code",
   "execution_count": 13,
   "metadata": {},
   "outputs": [],
   "source": [
    "if starting:\n",
    "    osa.fix_trace('a')\n",
    "    osa.blank_trace('a')\n",
    "    osa.write_trace('f')"
   ]
  },
  {
   "cell_type": "code",
   "execution_count": 6,
   "metadata": {},
   "outputs": [],
   "source": [
    "sc.comb_reference_wl_nm = 1557.547\n",
    "sc.comb_min_wl_nm = 1527\n",
    "sc.comb_max_wl_nm = 1563\n",
    "\n",
    "sc.comb_fsr_ghz = 100\n",
    "# sc.filter_comb_with_new_fsr()"
   ]
  },
  {
   "cell_type": "code",
   "execution_count": null,
   "metadata": {},
   "outputs": [],
   "source": [
    "if starting:\n",
    "    sc.comb_fsr_ghz = 50\n",
    "\n",
    "    sc.filter_comb_with_new_fsr()\n",
    "\n",
    "    osa.run_and_wait()\n",
    "    osa.save_trace('f', r'Z:\\Maodong\\Projects\\Speckle_with_Comb\\CombPattern_20241219_one_EDFA_1um5mMMF\\OSA\\input_odd_50ghz_comb_%dnm_%dnm' % (sc.comb_min_wl_nm, sc.comb_max_wl_nm))"
   ]
  },
  {
   "cell_type": "code",
   "execution_count": null,
   "metadata": {},
   "outputs": [],
   "source": [
    "if starting:\n",
    "    sc.comb_fsr_ghz = 50\n",
    "\n",
    "    sc.filter_comb_with_new_fsr(centers=sc.comb_center_freq_thz+0.025)\n",
    "\n",
    "    osa.run_and_wait()\n",
    "    osa.save_trace('f', r'Z:\\Maodong\\Projects\\Speckle_with_Comb\\CombPattern_20241219_one_EDFA_1um5mMMF\\OSA\\input_even_50ghz_comb_%dnm_%dnm' % (sc.comb_min_wl_nm, sc.comb_max_wl_nm))"
   ]
  },
  {
   "cell_type": "code",
   "execution_count": null,
   "metadata": {},
   "outputs": [],
   "source": [
    "if starting:\n",
    "    sc.comb_fsr_ghz = 25\n",
    "    sc.filter_comb_with_new_fsr()\n",
    "    osa.run_and_wait()\n",
    "    osa.save_trace('f', r'Z:\\Maodong\\Projects\\Speckle_with_Comb\\CombPattern_20241219_one_EDFA_1um5mMMF\\OSA\\used_full_25ghz_comb_%dnm_%dnm' % (sc.comb_min_wl_nm, sc.comb_max_wl_nm))"
   ]
  },
  {
   "cell_type": "code",
   "execution_count": 21,
   "metadata": {},
   "outputs": [],
   "source": [
    "# sc.comb_fsr_ghz = 25\n",
    "\n",
    "# sc.ws.set_bandpass(center=sc.comb_center_freq_thz[2], span=sc.bpf_bw_thz, unit='THz')"
   ]
  },
  {
   "cell_type": "code",
   "execution_count": 22,
   "metadata": {},
   "outputs": [],
   "source": [
    "# ii = 17\n",
    "# sc.ws.set_bandpass(center=sc.comb_center_freq_thz[ii], span=sc.bpf_bw_thz, unit='THz', passband_atten=5)\n",
    "# osa.wavelength_center_nm = thz2nm(sc.comb_center_freq_thz[ii])\n",
    "# osa.run_and_wait()\n",
    "# osa.peak_search('f')"
   ]
  },
  {
   "cell_type": "code",
   "execution_count": 23,
   "metadata": {},
   "outputs": [],
   "source": [
    "# # sc.comb_center_freq_thz[10]\n",
    "# osa.wavelength_center_nm = thz2nm(sc.comb_center_freq_thz[10])\n",
    "# osa.wavelength_span_nm = 3"
   ]
  },
  {
   "cell_type": "code",
   "execution_count": 24,
   "metadata": {},
   "outputs": [],
   "source": [
    "# ii = 7\n",
    "# sc.ws.set_bandpass(center=sc.comb_center_freq_thz[ii], span=sc.bpf_bw_thz, unit='THz', passband_atten=1)\n",
    "# osa.wavelength_center_nm = thz2nm(sc.comb_center_freq_thz[ii])\n",
    "# osa.run_and_wait()\n",
    "# osa.peak_search('f')"
   ]
  },
  {
   "cell_type": "code",
   "execution_count": null,
   "metadata": {},
   "outputs": [],
   "source": []
  },
  {
   "cell_type": "markdown",
   "metadata": {},
   "source": [
    "# Calibrate the comb line power"
   ]
  },
  {
   "cell_type": "code",
   "execution_count": 5,
   "metadata": {},
   "outputs": [],
   "source": [
    "sc.comb_fsr_ghz = 25\n",
    "# sc.filter_comb_with_new_fsr()\n",
    "# osa.write_trace('b')\n",
    "osa.display_trace('b')\n",
    "osa.run_and_wait()\n",
    "\n",
    "osa.fix_trace('b')\n",
    "osa.blank_trace('b')\n",
    "\n",
    "osa_nm, osa_pwr = osa.get_trace('b')\n",
    "osa_thz = np.array([thz2nm(nm) for nm in osa_nm])\n",
    "\n",
    "# find the peaks of the comb\n",
    "from scipy.signal import find_peaks\n",
    "peaks, _ = find_peaks(osa_pwr, height=-40)\n",
    "# plt.figure()\n",
    "# plt.plot(osa_thz, osa_pwr)\n",
    "# plt.plot(osa_thz[peaks], osa_pwr[peaks], 'x')\n",
    "\n",
    "\n",
    "\n",
    "from scipy.interpolate import interp1d\n",
    "\n",
    "\n",
    "\n",
    "f = interp1d(osa_thz[peaks], osa_pwr[peaks], kind='linear', fill_value='extrapolate')\n",
    "\n",
    "def get_att_from_thz(thz, max_input = -40):\n",
    "    return max(f(thz) - max_input,0)"
   ]
  },
  {
   "cell_type": "code",
   "execution_count": 6,
   "metadata": {},
   "outputs": [
    {
     "data": {
      "text/plain": [
       "[<matplotlib.lines.Line2D at 0x1ad5442d100>]"
      ]
     },
     "execution_count": 6,
     "metadata": {},
     "output_type": "execute_result"
    }
   ],
   "source": [
    "f = interp1d(osa_thz[peaks], osa_pwr[peaks], kind='linear', fill_value=-np.inf, bounds_error=False)\n",
    "\n",
    "def get_att_from_thz(thz, max_input = -40):\n",
    "    return max(f(thz) - max_input,0)\n",
    "\n",
    "plt.figure()\n",
    "plt.plot(osa_thz, [get_att_from_thz(x) for x in osa_thz] )"
   ]
  },
  {
   "cell_type": "code",
   "execution_count": 27,
   "metadata": {},
   "outputs": [],
   "source": [
    "plt.close('all')"
   ]
  },
  {
   "cell_type": "code",
   "execution_count": null,
   "metadata": {},
   "outputs": [],
   "source": []
  },
  {
   "cell_type": "code",
   "execution_count": 29,
   "metadata": {},
   "outputs": [],
   "source": [
    "# plt.plot(osa_thz, [get_att_from_thz(thz) for thz in osa_thz])"
   ]
  },
  {
   "cell_type": "code",
   "execution_count": null,
   "metadata": {},
   "outputs": [],
   "source": []
  },
  {
   "cell_type": "code",
   "execution_count": null,
   "metadata": {},
   "outputs": [],
   "source": []
  },
  {
   "cell_type": "code",
   "execution_count": null,
   "metadata": {},
   "outputs": [],
   "source": [
    "# # calibrate \n",
    "# calibrated_power = {}\n",
    "# for ii, thz in enumerate(sc.comb_center_freq_thz):\n",
    "#     sc.ws.set_bandpass(center=thz, span=sc.bpf_bw_thz, unit='THz', passband_atten=0)\n",
    "#     osa.wavelength_center_nm = thz2nm(thz)\n",
    "#     osa.run_and_wait()\n",
    "#     _, pwr = osa.peak_search('f')\n",
    "#     calibrated_power[thz] = pwr\n",
    "\n",
    "# # save the calibrated power\n",
    "# import json\n",
    "# with open(r'Z:\\Maodong\\Projects\\Speckle_with_Comb\\CombPattern_20241219_one_EDFA_1um5mMMF\\OSA\\calibrated_single_combline_power.json', 'w') as f:\n",
    "#     json.dump(calibrated_power, f)"
   ]
  },
  {
   "cell_type": "code",
   "execution_count": 31,
   "metadata": {},
   "outputs": [],
   "source": [
    "# import json\n",
    "# with open(r'Z:\\Maodong\\Projects\\Speckle_with_Comb\\CombPattern_20241216_changeto_one_EDFA\\OSA\\calibrated_single_combline_power.json', 'r') as f:\n",
    "#     calibrated_power = json.load(f)\n",
    "\n",
    "# # change key from string to float\n",
    "# calibrated_power = {float(k):v for k,v in calibrated_power.items()}"
   ]
  },
  {
   "cell_type": "code",
   "execution_count": 32,
   "metadata": {},
   "outputs": [],
   "source": [
    "# for ii, thz in enumerate(sc.comb_center_freq_thz):\n",
    "#     sc.ws.set_bandpass(center=thz, span=sc.bpf_bw_thz, unit='THz', passband_atten=max(0, 40-calibrated_power[thz]))"
   ]
  },
  {
   "cell_type": "code",
   "execution_count": 33,
   "metadata": {},
   "outputs": [],
   "source": [
    "# calibrated_power[sc.comb_center_freq_thz[10]]"
   ]
  },
  {
   "cell_type": "code",
   "execution_count": 34,
   "metadata": {},
   "outputs": [],
   "source": [
    "# max(0, calibrated_power[sc.comb_center_freq_thz[13]]-(-38))\n",
    "\n",
    "# plt.plot(calibrated_power.keys(), [max(0, calibrated_power[thz]-(-38)) for thz in calibrated_power.keys()])"
   ]
  },
  {
   "cell_type": "markdown",
   "metadata": {},
   "source": [
    "## First test the correlation of patterns\n",
    "\n",
    "- take out the object to proceed"
   ]
  },
  {
   "cell_type": "code",
   "execution_count": 35,
   "metadata": {},
   "outputs": [],
   "source": [
    "\n",
    "# def get_atten(thz):\n",
    "#     pwr = calibrated_power.get(thz, 100)\n",
    "#     return min(max(0, pwr-(-39)), 60)\n",
    "\n",
    "# plt.plot(calibrated_power.keys(), [get_atten(thz) for thz in calibrated_power.keys()])"
   ]
  },
  {
   "cell_type": "code",
   "execution_count": null,
   "metadata": {},
   "outputs": [],
   "source": []
  },
  {
   "cell_type": "code",
   "execution_count": 36,
   "metadata": {},
   "outputs": [],
   "source": [
    "# img = sc.collect_thz_pattern(sc.comb_center_freq_thz[-13])\n",
    "# plt.figure()\n",
    "# plt.imshow(img.reshape(int(camera.frame_height), int(camera.frame_width)), cmap='gray')"
   ]
  },
  {
   "cell_type": "code",
   "execution_count": 37,
   "metadata": {},
   "outputs": [],
   "source": [
    "# osa.wavelength_start_nm = sc.comb_min_wl_nm-5\n",
    "# osa.wavelength_stop_nm = sc.comb_max_wl_nm+5\n",
    "# osa.run()"
   ]
  },
  {
   "cell_type": "code",
   "execution_count": 38,
   "metadata": {},
   "outputs": [],
   "source": [
    "# camera.disconnect()"
   ]
  },
  {
   "cell_type": "code",
   "execution_count": 39,
   "metadata": {},
   "outputs": [],
   "source": [
    "# camera.connect()\n",
    "# camera.setNUCfile(r'C:\\Users\\think\\Desktop\\NUCFactory_2000us.yml')"
   ]
  },
  {
   "cell_type": "markdown",
   "metadata": {},
   "source": [
    "### pattern check"
   ]
  },
  {
   "cell_type": "code",
   "execution_count": 7,
   "metadata": {},
   "outputs": [],
   "source": [
    "from hardware.rs_oscilloscope import RsOSC\n",
    "osc = RsOSC()\n",
    "osc.connect()\n",
    "\n",
    "import time\n",
    "def callback_osc():\n",
    "    time.sleep(1)\n",
    "    return [osc.get_avg_voltage(channel=1)]"
   ]
  },
  {
   "cell_type": "code",
   "execution_count": 41,
   "metadata": {},
   "outputs": [],
   "source": [
    "# camera.connect()\n",
    "# camera.setNUCfile(r'C:\\Users\\think\\Desktop\\NUCFactory_2000us.yml')"
   ]
  },
  {
   "cell_type": "code",
   "execution_count": null,
   "metadata": {},
   "outputs": [],
   "source": [
    "# filename = r'Z:\\Maodong\\Projects\\Speckle_with_Comb\\CombPattern_20241219_one_EDFA_1um5mMMF\\dataset3_pattern_only_2MMFand1500DF\\pattern_%d_%d_%dGHz' % (sc.comb_min_wl_nm, sc.comb_max_wl_nm, sc.comb_fsr_ghz)\n",
    "\n",
    "# # import time\n",
    "# # def callback_readosa():\n",
    "# #     osa.run_and_wait()\n",
    "# #     return list(osa.get_trace('f', plot=False)[1].flatten())\n",
    "\n",
    "# # sc.filter_comb_with_new_fsr()\n",
    "# # osa.run_and_wait()\n",
    "# # osa.save_trace('f', os.path.join(os.path.dirname(filename), 'input_comb'), plot=False)\n",
    "\n",
    "# # time.sleep(2)\n",
    "\n",
    "# # sc.scan_pattern(filename=filename, callback=callback_readosa)\n",
    "\n",
    "# def get_atten(thz):\n",
    "#     pwr = calibrated_power.get(thz, 100)\n",
    "#     return min(max(0, pwr-(-38)), 60)\n",
    "\n",
    "# plt.plot(calibrated_power.keys(), [get_atten(thz) for thz in calibrated_power.keys()])\n",
    "\n",
    "# sc.scan_pattern(filename=filename, callback=callback_osc, get_bandpass_atten_func=get_atten)\n"
   ]
  },
  {
   "cell_type": "code",
   "execution_count": 43,
   "metadata": {},
   "outputs": [],
   "source": [
    "# # get the index of maximum value in [get_atten(thz) for thz in calibrated_power.keys()]\n",
    "# max_atten = max([get_atten(thz) for thz in calibrated_power.keys()])\n",
    "# max_atten_idx = [get_atten(thz) for thz in calibrated_power.keys()].index(max_atten)\n",
    "# print(max_atten_idx)"
   ]
  },
  {
   "cell_type": "code",
   "execution_count": 44,
   "metadata": {},
   "outputs": [],
   "source": [
    "# sc.filter_comb_with_new_fsr()"
   ]
  },
  {
   "cell_type": "markdown",
   "metadata": {},
   "source": [
    "### imaging"
   ]
  },
  {
   "cell_type": "code",
   "execution_count": 18,
   "metadata": {},
   "outputs": [],
   "source": [
    "from hardware.rs_oscilloscope import RsOSC\n",
    "osc = RsOSC()\n",
    "osc.connect()\n",
    "\n",
    "import time\n",
    "# def callback_osc():\n",
    "#     time.sleep(5)\n",
    "#     # osc.update_vertical_scale_by_last_measurement(mean_scale_to=0.2)\n",
    "#     return [osc.get_avg_voltage(channel=1)]\n",
    "\n",
    "def callback_osc():\n",
    "    osc.single_and_wait()\n",
    "    time.sleep(0.1)\n",
    "    return osc.get_trace(channel=1, plot=False)"
   ]
  },
  {
   "cell_type": "code",
   "execution_count": 46,
   "metadata": {},
   "outputs": [],
   "source": [
    "# def callback_osc():\n",
    "#     time.sleep(0.5)\n",
    "#     mu, st = osc.get_time_avged_voltage(channel=1, time=3.5)\n",
    "#     return [mu, st]"
   ]
  },
  {
   "cell_type": "code",
   "execution_count": 11,
   "metadata": {},
   "outputs": [],
   "source": [
    "# let OSC single sweep\n",
    "osc.single_and_wait()\n",
    "\n",
    "tt = osc.get_trace(channel=1)"
   ]
  },
  {
   "cell_type": "code",
   "execution_count": 25,
   "metadata": {},
   "outputs": [],
   "source": [
    "osc.write('SINGle')\n"
   ]
  },
  {
   "cell_type": "code",
   "execution_count": 28,
   "metadata": {},
   "outputs": [
    {
     "data": {
      "text/plain": [
       "'COMP'"
      ]
     },
     "execution_count": 28,
     "metadata": {},
     "output_type": "execute_result"
    }
   ],
   "source": [
    "osc.query('ACQ:STATE?')"
   ]
  },
  {
   "cell_type": "code",
   "execution_count": 27,
   "metadata": {},
   "outputs": [
    {
     "data": {
      "text/plain": [
       "'STOP'"
      ]
     },
     "execution_count": 27,
     "metadata": {},
     "output_type": "execute_result"
    }
   ],
   "source": [
    "osc.query('ACQ:STATE?')"
   ]
  },
  {
   "cell_type": "code",
   "execution_count": null,
   "metadata": {},
   "outputs": [],
   "source": []
  },
  {
   "cell_type": "code",
   "execution_count": 47,
   "metadata": {},
   "outputs": [],
   "source": [
    "# ii = -15\n",
    "\n",
    "# def get_atten(thz):\n",
    "#     pwr = calibrated_power.get(thz, 100)\n",
    "#     return min(max(0, pwr-(-39)), 60)\n",
    "\n",
    "# img = sc.collect_thz_pattern(sc.comb_center_freq_thz[ii], passband_atten=get_atten(sc.comb_center_freq_thz[ii]))\n",
    "# print(sc.comb_center_freq_thz[ii], get_atten(sc.comb_center_freq_thz[ii]))\n",
    "# plt.figure()\n",
    "# plt.imshow(img.reshape(int(camera.frame_height), int(camera.frame_width)), cmap='gray')"
   ]
  },
  {
   "cell_type": "code",
   "execution_count": 19,
   "metadata": {},
   "outputs": [],
   "source": [
    "sc.comb_fsr_ghz = 100\n",
    "sc.filter_comb_with_new_fsr()"
   ]
  },
  {
   "cell_type": "code",
   "execution_count": 38,
   "metadata": {},
   "outputs": [
    {
     "data": {
      "text/plain": [
       "(array([185.75      , 185.75100009, 185.75200018, ..., 197.09799982,\n",
       "        197.09899991, 197.1       ]),\n",
       " array([60, 60, 60, ..., 60, 60, 60]),\n",
       " array([0., 0., 0., ..., 0., 0., 0.]),\n",
       " array([1, 1, 1, ..., 1, 1, 1]))"
      ]
     },
     "execution_count": 38,
     "metadata": {},
     "output_type": "execute_result"
    }
   ],
   "source": [
    "sc.ws.set_bandpass(center=sc.comb_center_freq_thz[8], span=sc.bpf_bw_thz, unit='THz', passband_atten=7)"
   ]
  },
  {
   "cell_type": "code",
   "execution_count": 46,
   "metadata": {},
   "outputs": [],
   "source": [
    "import time\n",
    "sc.comb_fsr_ghz = 100\n",
    "\n",
    "osc.set_vertical_scale_volt(channel=1, scale=0.2/10)\n",
    "\n",
    "for ii in range(0, len(sc.comb_center_freq_thz) ): #//4, len(sc.comb_center_freq_thz)//2):\n",
    "    time.sleep(0.5)\n",
    "    sc.ws.set_bandpass(center=sc.comb_center_freq_thz[ii], span=sc.bpf_bw_thz, unit='THz', passband_atten=get_att_from_thz(sc.comb_center_freq_thz[ii]))"
   ]
  },
  {
   "cell_type": "code",
   "execution_count": null,
   "metadata": {},
   "outputs": [],
   "source": [
    "filename = r'Z:\\Maodong\\Projects\\Speckle_with_Comb\\CombPattern_20241219_one_EDFA_1um5mMMF\\dataset1_increase_digitalsum_and_pdpower_corr_withoutobj_2MMFand1500DF\\pattern_%d_%d_%dGHz' % (sc.comb_min_wl_nm, sc.comb_max_wl_nm, sc.comb_fsr_ghz)\n"
   ]
  },
  {
   "cell_type": "code",
   "execution_count": 33,
   "metadata": {},
   "outputs": [],
   "source": [
    "camera.connect()\n",
    "camera.setNUCfile(r'C:\\Users\\think\\Desktop\\NUCFactory_2000us.yml')"
   ]
  },
  {
   "cell_type": "code",
   "execution_count": 23,
   "metadata": {},
   "outputs": [
    {
     "data": {
      "text/plain": [
       "<matplotlib.image.AxesImage at 0x19728680a00>"
      ]
     },
     "execution_count": 23,
     "metadata": {},
     "output_type": "execute_result"
    }
   ],
   "source": [
    "sc.comb_fsr_ghz = 100\n",
    "\n",
    "sc.ws.set_bandpass(center=sc.comb_center_freq_thz[10], span=sc.bpf_bw_thz, unit='THz', passband_atten=get_att_from_thz(sc.comb_center_freq_thz[10]))\n",
    "\n",
    "img = sc.collect_thz_pattern(sc.comb_center_freq_thz[10])\n",
    "plt.figure()\n",
    "plt.imshow(img.reshape(int(camera.frame_height), int(camera.frame_width)), cmap='gray')"
   ]
  },
  {
   "cell_type": "code",
   "execution_count": 21,
   "metadata": {},
   "outputs": [],
   "source": [
    "plt.close('all')"
   ]
  },
  {
   "cell_type": "code",
   "execution_count": 49,
   "metadata": {},
   "outputs": [
    {
     "data": {
      "text/plain": [
       "1"
      ]
     },
     "execution_count": 49,
     "metadata": {},
     "output_type": "execute_result"
    }
   ],
   "source": [
    "1"
   ]
  },
  {
   "cell_type": "markdown",
   "metadata": {},
   "source": [
    "### With Object Experiment"
   ]
  },
  {
   "cell_type": "code",
   "execution_count": 34,
   "metadata": {},
   "outputs": [
    {
     "name": "stderr",
     "output_type": "stream",
     "text": [
      "100%|██████████| 181/181 [15:48<00:00,  5.24s/it]\n"
     ]
    }
   ],
   "source": [
    "sc.comb_fsr_ghz = 25\n",
    "\n",
    "\n",
    "osc.set_vertical_scale_volt(channel=1, scale=0.25/10)\n",
    "\n",
    "filename_identify = 'withobj'\n",
    "\n",
    "for ii in [15]:\n",
    "    filename = r'Z:\\Maodong\\Projects\\Speckle_with_Comb\\CombPattern_20241219_one_EDFA_1um5mMMF_1umMMFtocollect\\dataset%d_%s_1MMFand1500DF_collect_with_new_collimator\\pattern_%d_%d_%dGHz' % (ii, filename_identify, sc.comb_min_wl_nm, sc.comb_max_wl_nm, sc.comb_fsr_ghz)\n",
    "\n",
    "\n",
    "    # sc.filter_comb_with_new_fsr()\n",
    "    # osa.run_and_wait()\n",
    "    # osa.save_trace('f', os.path.join(os.path.dirname(filename), 'input_comb'), plot=False)\n",
    "    import time\n",
    "    time.sleep(1)\n",
    "\n",
    "    # sc.scan_pattern(filename=filename, callback=callback_osc)\n",
    "    sc.scan_pattern(filename=filename, callback=callback_osc, get_bandpass_atten_func=get_att_from_thz)"
   ]
  },
  {
   "cell_type": "code",
   "execution_count": 16,
   "metadata": {},
   "outputs": [
    {
     "data": {
      "text/plain": [
       "1"
      ]
     },
     "execution_count": 16,
     "metadata": {},
     "output_type": "execute_result"
    }
   ],
   "source": [
    "1\n"
   ]
  },
  {
   "cell_type": "markdown",
   "metadata": {},
   "source": [
    "### WithOut Object (Pattern) Experiment"
   ]
  },
  {
   "cell_type": "code",
   "execution_count": 35,
   "metadata": {},
   "outputs": [
    {
     "name": "stderr",
     "output_type": "stream",
     "text": [
      "100%|██████████| 181/181 [15:48<00:00,  5.24s/it]\n"
     ]
    }
   ],
   "source": [
    "# replace 'withoutobj' in filename with 'withobj'\n",
    "# import re\n",
    "# filename = re.sub(r'withobj', 'withoutobj', filename)\n",
    "sc.comb_fsr_ghz = 25\n",
    "\n",
    "osc.set_vertical_scale_volt(channel=1, scale=0.25/10)\n",
    "\n",
    "filename_identify = 'withoutobj'\n",
    "\n",
    "\n",
    "for ii in [15]:\n",
    "    filename = r'Z:\\Maodong\\Projects\\Speckle_with_Comb\\CombPattern_20241219_one_EDFA_1um5mMMF_1umMMFtocollect\\dataset%d_%s_1MMFand1500DF_collect_with_new_collimator\\pattern_%d_%d_%dGHz' % (ii, filename_identify, sc.comb_min_wl_nm, sc.comb_max_wl_nm, sc.comb_fsr_ghz)\n",
    "\n",
    "    import time\n",
    "    time.sleep(1)\n",
    "\n",
    "    # sc.scan_pattern(filename=filename, callback=callback_osc)\n",
    "    sc.scan_pattern(filename=filename, callback=callback_osc, get_bandpass_atten_func=get_att_from_thz)"
   ]
  },
  {
   "cell_type": "code",
   "execution_count": 36,
   "metadata": {},
   "outputs": [],
   "source": [
    "camera.disconnect()"
   ]
  },
  {
   "cell_type": "code",
   "execution_count": 37,
   "metadata": {},
   "outputs": [],
   "source": [
    "sc.filter_comb_with_new_fsr()"
   ]
  },
  {
   "cell_type": "code",
   "execution_count": null,
   "metadata": {},
   "outputs": [
    {
     "name": "stdout",
     "output_type": "stream",
     "text": [
      "Loading pattern image...\n",
      "raw_dim not specified, trying to assign square root of the number of columns to raw_dim\n",
      "Pattern image loaded in 5.4424121379852295 seconds\n",
      "Loading object image...\n",
      "Object image loaded in 5.417689800262451 seconds\n",
      "Loading pattern callback...\n",
      "Pattern callback loaded in 0.039395809173583984 seconds\n",
      "Loading object callback...\n",
      "Object callback loaded in 0.04456925392150879 seconds\n",
      "All data loaded in 10.944067001342773 seconds\n"
     ]
    }
   ],
   "source": [
    "from dataprocess.dataprocess_speckle_imaging import DataprocessSpeckleImaging\n",
    "\n",
    "dpc = DataprocessSpeckleImaging()\n",
    "dpc.load_data_all(pattern_dir=r'Z:\\Maodong\\Projects\\Speckle_with_Comb\\CombPattern_20241219_one_EDFA_1um5mMMF\\dataset1_withoutobj_2MMFand1500DF',\n",
    "                  objimage_dir=r'Z:\\Maodong\\Projects\\Speckle_with_Comb\\CombPattern_20241219_one_EDFA_1um5mMMF\\dataset1_withobj_2MMFand1500DF',\n",
    "                  pattern_filename_prefix='pattern_%d_%d_%dGHz' %(sc.comb_min_wl_nm, sc.comb_max_wl_nm, sc.comb_fsr_ghz), # % (1527,1563,125),\n",
    "                  objimage_filename_prefix='pattern_%d_%d_%dGHz' %(sc.comb_min_wl_nm, sc.comb_max_wl_nm, sc.comb_fsr_ghz), # % (1527, 1563, 125),#\n",
    "                  num_files=5)\n"
   ]
  },
  {
   "cell_type": "code",
   "execution_count": null,
   "metadata": {},
   "outputs": [],
   "source": [
    "exp_scale = 10\n",
    "dpc.get_scaled_object_image_df(exp_scale=exp_scale)\n",
    "dpc.get_scaled_speckle_pattern_df(exp_scale=exp_scale)\n",
    "\n",
    "dpc.plt_compare_digitalsum_and_actualpd()"
   ]
  },
  {
   "cell_type": "code",
   "execution_count": null,
   "metadata": {},
   "outputs": [],
   "source": []
  },
  {
   "cell_type": "code",
   "execution_count": null,
   "metadata": {},
   "outputs": [],
   "source": []
  },
  {
   "cell_type": "code",
   "execution_count": null,
   "metadata": {},
   "outputs": [
    {
     "data": {
      "text/plain": [
       "array([[ 1.01878882e-02, -1.19068580e-02,  1.99989177e-03, ...,\n",
       "        -3.99428138e-05, -2.74570765e-02,  2.23264489e-02],\n",
       "       [ 9.81415845e-04, -2.39550186e-03, -1.33544430e-02, ...,\n",
       "        -4.22435127e-03, -5.76619021e-03,  1.92319629e-03],\n",
       "       [ 7.97623832e-03,  1.36330089e-03, -1.24971726e-02, ...,\n",
       "         8.99420898e-03, -2.82320302e-03,  1.30096452e-02],\n",
       "       ...,\n",
       "       [ 3.39294345e-03, -6.62284398e-03,  1.25346626e-02, ...,\n",
       "         2.15928907e-02,  4.64492229e-03,  5.52820862e-03],\n",
       "       [-5.69193999e-04,  3.89053519e-03, -1.12326099e-02, ...,\n",
       "         1.87056308e-02,  1.08452600e-02,  1.63395691e-03],\n",
       "       [-1.00347644e-02, -1.52973006e-03, -6.17464885e-03, ...,\n",
       "         8.39554660e-03,  1.16326230e-03,  1.84350994e-03]])"
      ]
     },
     "execution_count": 23,
     "metadata": {},
     "output_type": "execute_result"
    }
   ],
   "source": [
    "dpc.get_scaled_speckle_pattern_df()\n",
    "dpc.get_scaled_object_image_df()\n",
    "dpc.digital_reconstruction_pinv()"
   ]
  },
  {
   "cell_type": "code",
   "execution_count": null,
   "metadata": {},
   "outputs": [
    {
     "ename": "ValueError",
     "evalue": "could not broadcast input array from shape (39,36) into shape (38,36)",
     "output_type": "error",
     "traceback": [
      "\u001b[1;31m---------------------------------------------------------------------------\u001b[0m",
      "\u001b[1;31mValueError\u001b[0m                                Traceback (most recent call last)",
      "Cell \u001b[1;32mIn[71], line 1\u001b[0m\n\u001b[1;32m----> 1\u001b[0m plt\u001b[38;5;241m.\u001b[39mimshow(\u001b[43mdpc\u001b[49m\u001b[38;5;241;43m.\u001b[39;49m\u001b[43mdigital_reconstruction_pinv\u001b[49m\u001b[43m(\u001b[49m\u001b[43m)\u001b[49m, cmap\u001b[38;5;241m=\u001b[39m\u001b[38;5;124m'\u001b[39m\u001b[38;5;124mgray\u001b[39m\u001b[38;5;124m'\u001b[39m)\n",
      "File \u001b[1;32mc:\\Maodong\\NTT_code_Maodong\\notebooks\\..\\dataprocess\\dataprocess_speckle_imaging.py:242\u001b[0m, in \u001b[0;36mDataprocessSpeckleImaging.digital_reconstruction_pinv\u001b[1;34m(self, bright_threshold, selected_index)\u001b[0m\n\u001b[0;32m    240\u001b[0m     selected_index \u001b[38;5;241m=\u001b[39m \u001b[38;5;28mslice\u001b[39m(\u001b[38;5;28;01mNone\u001b[39;00m)\n\u001b[0;32m    241\u001b[0m digital_sum \u001b[38;5;241m=\u001b[39m \u001b[38;5;28mself\u001b[39m\u001b[38;5;241m.\u001b[39mget_digital_sum_measurement(bright_threshold)\n\u001b[1;32m--> 242\u001b[0m \u001b[38;5;28;01mreturn\u001b[39;00m \u001b[38;5;28mself\u001b[39m\u001b[38;5;241m.\u001b[39mpinv_reconstruction(\u001b[38;5;28;43mself\u001b[39;49m\u001b[38;5;241;43m.\u001b[39;49m\u001b[43mspeckle_pattern\u001b[49m[selected_index], digital_sum[selected_index])\u001b[38;5;241m.\u001b[39mreshape(\u001b[38;5;28mself\u001b[39m\u001b[38;5;241m.\u001b[39meffective_dim)\n",
      "File \u001b[1;32mc:\\Maodong\\NTT_code_Maodong\\notebooks\\..\\dataprocess\\dataprocess_speckle_imaging.py:137\u001b[0m, in \u001b[0;36mDataprocessSpeckleImaging.speckle_pattern\u001b[1;34m(self)\u001b[0m\n\u001b[0;32m    135\u001b[0m     \u001b[38;5;28;01mraise\u001b[39;00m \u001b[38;5;167;01mValueError\u001b[39;00m(\u001b[38;5;124m\"\u001b[39m\u001b[38;5;124mSpeckle pattern not get by get_scaled_speckle_pattern_df() yet\u001b[39m\u001b[38;5;124m\"\u001b[39m)\n\u001b[0;32m    136\u001b[0m subimg_df \u001b[38;5;241m=\u001b[39m \u001b[38;5;28mself\u001b[39m\u001b[38;5;241m.\u001b[39mget_subimage_df(\u001b[38;5;28mself\u001b[39m\u001b[38;5;241m.\u001b[39mscaled_speckle_pattern, \u001b[38;5;28mself\u001b[39m\u001b[38;5;241m.\u001b[39mtarget_topleft[\u001b[38;5;241m0\u001b[39m], \u001b[38;5;28mself\u001b[39m\u001b[38;5;241m.\u001b[39mtarget_topleft[\u001b[38;5;241m1\u001b[39m], \u001b[38;5;28mself\u001b[39m\u001b[38;5;241m.\u001b[39mraw_dim, \u001b[38;5;28mself\u001b[39m\u001b[38;5;241m.\u001b[39mtarget_dim)\n\u001b[1;32m--> 137\u001b[0m finalpat_df \u001b[38;5;241m=\u001b[39m \u001b[38;5;28;43mself\u001b[39;49m\u001b[38;5;241;43m.\u001b[39;49m\u001b[43mget_lowerres_image_df\u001b[49m\u001b[43m(\u001b[49m\u001b[43msubimg_df\u001b[49m\u001b[43m,\u001b[49m\u001b[43m \u001b[49m\u001b[38;5;28;43mself\u001b[39;49m\u001b[38;5;241;43m.\u001b[39;49m\u001b[43mtarget_dim\u001b[49m\u001b[43m,\u001b[49m\u001b[43m \u001b[49m\u001b[38;5;28;43mself\u001b[39;49m\u001b[38;5;241;43m.\u001b[39;49m\u001b[43meffective_dim\u001b[49m\u001b[43m)\u001b[49m\n\u001b[0;32m    139\u001b[0m speckle_pattern \u001b[38;5;241m=\u001b[39m finalpat_df \u001b[38;5;241m/\u001b[39m np\u001b[38;5;241m.\u001b[39msum(finalpat_df, axis\u001b[38;5;241m=\u001b[39m\u001b[38;5;241m0\u001b[39m)\n\u001b[0;32m    140\u001b[0m \u001b[38;5;28;01mreturn\u001b[39;00m speckle_pattern\u001b[38;5;241m.\u001b[39mT\n",
      "File \u001b[1;32mc:\\Maodong\\NTT_code_Maodong\\notebooks\\..\\dataprocess\\dataprocess_speckle_imaging.py:461\u001b[0m, in \u001b[0;36mDataprocessSpeckleImaging.get_lowerres_image_df\u001b[1;34m(self, img_df, original_dim, target_dim)\u001b[0m\n\u001b[0;32m    459\u001b[0m \u001b[38;5;28;01mfor\u001b[39;00m i \u001b[38;5;129;01min\u001b[39;00m \u001b[38;5;28mrange\u001b[39m(target_y_dim):\n\u001b[0;32m    460\u001b[0m     selected_rows \u001b[38;5;241m=\u001b[39m df_sum_x\u001b[38;5;241m.\u001b[39miloc[i::target_x_dim]\u001b[38;5;241m.\u001b[39mreset_index(drop\u001b[38;5;241m=\u001b[39m\u001b[38;5;28;01mTrue\u001b[39;00m)\n\u001b[1;32m--> 461\u001b[0m     \u001b[43mfinal_df\u001b[49m\u001b[38;5;241;43m.\u001b[39;49m\u001b[43miloc\u001b[49m\u001b[43m[\u001b[49m\u001b[43mi\u001b[49m\u001b[43m:\u001b[49m\u001b[43m:\u001b[49m\u001b[43mtarget_x_dim\u001b[49m\u001b[43m]\u001b[49m \u001b[38;5;241m=\u001b[39m selected_rows\u001b[38;5;241m.\u001b[39mgroupby(selected_rows\u001b[38;5;241m.\u001b[39mindex \u001b[38;5;241m/\u001b[39m\u001b[38;5;241m/\u001b[39m y_ratio)\u001b[38;5;241m.\u001b[39msum()\u001b[38;5;241m.\u001b[39mreset_index(drop\u001b[38;5;241m=\u001b[39m\u001b[38;5;28;01mTrue\u001b[39;00m)\n\u001b[0;32m    463\u001b[0m \u001b[38;5;28;01mreturn\u001b[39;00m final_df\n",
      "File \u001b[1;32mc:\\Users\\think\\anaconda3\\envs\\exp-env\\lib\\site-packages\\pandas\\core\\indexing.py:849\u001b[0m, in \u001b[0;36m_LocationIndexer.__setitem__\u001b[1;34m(self, key, value)\u001b[0m\n\u001b[0;32m    846\u001b[0m \u001b[38;5;28mself\u001b[39m\u001b[38;5;241m.\u001b[39m_has_valid_setitem_indexer(key)\n\u001b[0;32m    848\u001b[0m iloc \u001b[38;5;241m=\u001b[39m \u001b[38;5;28mself\u001b[39m \u001b[38;5;28;01mif\u001b[39;00m \u001b[38;5;28mself\u001b[39m\u001b[38;5;241m.\u001b[39mname \u001b[38;5;241m==\u001b[39m \u001b[38;5;124m\"\u001b[39m\u001b[38;5;124miloc\u001b[39m\u001b[38;5;124m\"\u001b[39m \u001b[38;5;28;01melse\u001b[39;00m \u001b[38;5;28mself\u001b[39m\u001b[38;5;241m.\u001b[39mobj\u001b[38;5;241m.\u001b[39miloc\n\u001b[1;32m--> 849\u001b[0m \u001b[43miloc\u001b[49m\u001b[38;5;241;43m.\u001b[39;49m\u001b[43m_setitem_with_indexer\u001b[49m\u001b[43m(\u001b[49m\u001b[43mindexer\u001b[49m\u001b[43m,\u001b[49m\u001b[43m \u001b[49m\u001b[43mvalue\u001b[49m\u001b[43m,\u001b[49m\u001b[43m \u001b[49m\u001b[38;5;28;43mself\u001b[39;49m\u001b[38;5;241;43m.\u001b[39;49m\u001b[43mname\u001b[49m\u001b[43m)\u001b[49m\n",
      "File \u001b[1;32mc:\\Users\\think\\anaconda3\\envs\\exp-env\\lib\\site-packages\\pandas\\core\\indexing.py:1837\u001b[0m, in \u001b[0;36m_iLocIndexer._setitem_with_indexer\u001b[1;34m(self, indexer, value, name)\u001b[0m\n\u001b[0;32m   1835\u001b[0m     \u001b[38;5;28mself\u001b[39m\u001b[38;5;241m.\u001b[39m_setitem_with_indexer_split_path(indexer, value, name)\n\u001b[0;32m   1836\u001b[0m \u001b[38;5;28;01melse\u001b[39;00m:\n\u001b[1;32m-> 1837\u001b[0m     \u001b[38;5;28;43mself\u001b[39;49m\u001b[38;5;241;43m.\u001b[39;49m\u001b[43m_setitem_single_block\u001b[49m\u001b[43m(\u001b[49m\u001b[43mindexer\u001b[49m\u001b[43m,\u001b[49m\u001b[43m \u001b[49m\u001b[43mvalue\u001b[49m\u001b[43m,\u001b[49m\u001b[43m \u001b[49m\u001b[43mname\u001b[49m\u001b[43m)\u001b[49m\n",
      "File \u001b[1;32mc:\\Users\\think\\anaconda3\\envs\\exp-env\\lib\\site-packages\\pandas\\core\\indexing.py:2077\u001b[0m, in \u001b[0;36m_iLocIndexer._setitem_single_block\u001b[1;34m(self, indexer, value, name)\u001b[0m\n\u001b[0;32m   2074\u001b[0m \u001b[38;5;28mself\u001b[39m\u001b[38;5;241m.\u001b[39mobj\u001b[38;5;241m.\u001b[39m_check_is_chained_assignment_possible()\n\u001b[0;32m   2076\u001b[0m \u001b[38;5;66;03m# actually do the set\u001b[39;00m\n\u001b[1;32m-> 2077\u001b[0m \u001b[38;5;28mself\u001b[39m\u001b[38;5;241m.\u001b[39mobj\u001b[38;5;241m.\u001b[39m_mgr \u001b[38;5;241m=\u001b[39m \u001b[38;5;28;43mself\u001b[39;49m\u001b[38;5;241;43m.\u001b[39;49m\u001b[43mobj\u001b[49m\u001b[38;5;241;43m.\u001b[39;49m\u001b[43m_mgr\u001b[49m\u001b[38;5;241;43m.\u001b[39;49m\u001b[43msetitem\u001b[49m\u001b[43m(\u001b[49m\u001b[43mindexer\u001b[49m\u001b[38;5;241;43m=\u001b[39;49m\u001b[43mindexer\u001b[49m\u001b[43m,\u001b[49m\u001b[43m \u001b[49m\u001b[43mvalue\u001b[49m\u001b[38;5;241;43m=\u001b[39;49m\u001b[43mvalue\u001b[49m\u001b[43m)\u001b[49m\n\u001b[0;32m   2078\u001b[0m \u001b[38;5;28mself\u001b[39m\u001b[38;5;241m.\u001b[39mobj\u001b[38;5;241m.\u001b[39m_maybe_update_cacher(clear\u001b[38;5;241m=\u001b[39m\u001b[38;5;28;01mTrue\u001b[39;00m, inplace\u001b[38;5;241m=\u001b[39m\u001b[38;5;28;01mTrue\u001b[39;00m)\n",
      "File \u001b[1;32mc:\\Users\\think\\anaconda3\\envs\\exp-env\\lib\\site-packages\\pandas\\core\\internals\\managers.py:394\u001b[0m, in \u001b[0;36mBaseBlockManager.setitem\u001b[1;34m(self, indexer, value)\u001b[0m\n\u001b[0;32m    389\u001b[0m \u001b[38;5;28;01mif\u001b[39;00m using_copy_on_write() \u001b[38;5;129;01mand\u001b[39;00m \u001b[38;5;129;01mnot\u001b[39;00m \u001b[38;5;28mself\u001b[39m\u001b[38;5;241m.\u001b[39m_has_no_reference(\u001b[38;5;241m0\u001b[39m):\n\u001b[0;32m    390\u001b[0m     \u001b[38;5;66;03m# if being referenced -> perform Copy-on-Write and clear the reference\u001b[39;00m\n\u001b[0;32m    391\u001b[0m     \u001b[38;5;66;03m# this method is only called if there is a single block -> hardcoded 0\u001b[39;00m\n\u001b[0;32m    392\u001b[0m     \u001b[38;5;28mself\u001b[39m \u001b[38;5;241m=\u001b[39m \u001b[38;5;28mself\u001b[39m\u001b[38;5;241m.\u001b[39mcopy()\n\u001b[1;32m--> 394\u001b[0m \u001b[38;5;28;01mreturn\u001b[39;00m \u001b[38;5;28;43mself\u001b[39;49m\u001b[38;5;241;43m.\u001b[39;49m\u001b[43mapply\u001b[49m\u001b[43m(\u001b[49m\u001b[38;5;124;43m\"\u001b[39;49m\u001b[38;5;124;43msetitem\u001b[39;49m\u001b[38;5;124;43m\"\u001b[39;49m\u001b[43m,\u001b[49m\u001b[43m \u001b[49m\u001b[43mindexer\u001b[49m\u001b[38;5;241;43m=\u001b[39;49m\u001b[43mindexer\u001b[49m\u001b[43m,\u001b[49m\u001b[43m \u001b[49m\u001b[43mvalue\u001b[49m\u001b[38;5;241;43m=\u001b[39;49m\u001b[43mvalue\u001b[49m\u001b[43m)\u001b[49m\n",
      "File \u001b[1;32mc:\\Users\\think\\anaconda3\\envs\\exp-env\\lib\\site-packages\\pandas\\core\\internals\\managers.py:352\u001b[0m, in \u001b[0;36mBaseBlockManager.apply\u001b[1;34m(self, f, align_keys, **kwargs)\u001b[0m\n\u001b[0;32m    350\u001b[0m         applied \u001b[38;5;241m=\u001b[39m b\u001b[38;5;241m.\u001b[39mapply(f, \u001b[38;5;241m*\u001b[39m\u001b[38;5;241m*\u001b[39mkwargs)\n\u001b[0;32m    351\u001b[0m     \u001b[38;5;28;01melse\u001b[39;00m:\n\u001b[1;32m--> 352\u001b[0m         applied \u001b[38;5;241m=\u001b[39m \u001b[38;5;28;43mgetattr\u001b[39;49m\u001b[43m(\u001b[49m\u001b[43mb\u001b[49m\u001b[43m,\u001b[49m\u001b[43m \u001b[49m\u001b[43mf\u001b[49m\u001b[43m)\u001b[49m\u001b[43m(\u001b[49m\u001b[38;5;241;43m*\u001b[39;49m\u001b[38;5;241;43m*\u001b[39;49m\u001b[43mkwargs\u001b[49m\u001b[43m)\u001b[49m\n\u001b[0;32m    353\u001b[0m     result_blocks \u001b[38;5;241m=\u001b[39m extend_blocks(applied, result_blocks)\n\u001b[0;32m    355\u001b[0m out \u001b[38;5;241m=\u001b[39m \u001b[38;5;28mtype\u001b[39m(\u001b[38;5;28mself\u001b[39m)\u001b[38;5;241m.\u001b[39mfrom_blocks(result_blocks, \u001b[38;5;28mself\u001b[39m\u001b[38;5;241m.\u001b[39maxes)\n",
      "File \u001b[1;32mc:\\Users\\think\\anaconda3\\envs\\exp-env\\lib\\site-packages\\pandas\\core\\internals\\blocks.py:1067\u001b[0m, in \u001b[0;36mBlock.setitem\u001b[1;34m(self, indexer, value, using_cow)\u001b[0m\n\u001b[0;32m   1064\u001b[0m     \u001b[38;5;28;01mif\u001b[39;00m \u001b[38;5;28misinstance\u001b[39m(casted, np\u001b[38;5;241m.\u001b[39mndarray) \u001b[38;5;129;01mand\u001b[39;00m casted\u001b[38;5;241m.\u001b[39mndim \u001b[38;5;241m==\u001b[39m \u001b[38;5;241m1\u001b[39m \u001b[38;5;129;01mand\u001b[39;00m \u001b[38;5;28mlen\u001b[39m(casted) \u001b[38;5;241m==\u001b[39m \u001b[38;5;241m1\u001b[39m:\n\u001b[0;32m   1065\u001b[0m         \u001b[38;5;66;03m# NumPy 1.25 deprecation: https://github.com/numpy/numpy/pull/10615\u001b[39;00m\n\u001b[0;32m   1066\u001b[0m         casted \u001b[38;5;241m=\u001b[39m casted[\u001b[38;5;241m0\u001b[39m, \u001b[38;5;241m.\u001b[39m\u001b[38;5;241m.\u001b[39m\u001b[38;5;241m.\u001b[39m]\n\u001b[1;32m-> 1067\u001b[0m     \u001b[43mvalues\u001b[49m\u001b[43m[\u001b[49m\u001b[43mindexer\u001b[49m\u001b[43m]\u001b[49m \u001b[38;5;241m=\u001b[39m casted\n\u001b[0;32m   1068\u001b[0m \u001b[38;5;28;01mreturn\u001b[39;00m \u001b[38;5;28mself\u001b[39m\n",
      "\u001b[1;31mValueError\u001b[0m: could not broadcast input array from shape (39,36) into shape (38,36)"
     ]
    }
   ],
   "source": [
    "plt.imshow(dpc.digital_reconstruction_pinv(), cmap='gray')"
   ]
  },
  {
   "cell_type": "code",
   "execution_count": null,
   "metadata": {},
   "outputs": [
    {
     "name": "stdout",
     "output_type": "stream",
     "text": [
      "The 2th image with wavelength 1560.59 nm\n"
     ]
    }
   ],
   "source": [
    "dpc.plt_i_th_pat_with_obj_overlay()"
   ]
  },
  {
   "cell_type": "code",
   "execution_count": null,
   "metadata": {},
   "outputs": [
    {
     "data": {
      "text/plain": [
       "Index([1562.62,  1561.6, 1560.59, 1559.57, 1558.56, 1557.55, 1556.54, 1555.53,\n",
       "       1554.52, 1553.51, 1552.51,  1551.5,  1550.5,  1549.5,  1548.5,  1547.5,\n",
       "        1546.5,  1545.5, 1544.51, 1543.51, 1542.52, 1541.53, 1540.54, 1539.55,\n",
       "       1538.56, 1537.58, 1536.59, 1535.61, 1534.62, 1533.64, 1532.66, 1531.68,\n",
       "       1530.71, 1529.73, 1528.76, 1527.78],\n",
       "      dtype='float64')"
      ]
     },
     "execution_count": 29,
     "metadata": {},
     "output_type": "execute_result"
    }
   ],
   "source": [
    "dpc.wavelength_nm"
   ]
  },
  {
   "cell_type": "code",
   "execution_count": null,
   "metadata": {},
   "outputs": [],
   "source": [
    "dpc.plt_compare_digitalsum_and_actualpd()"
   ]
  },
  {
   "cell_type": "code",
   "execution_count": null,
   "metadata": {},
   "outputs": [],
   "source": [
    "dpc.target_dim = (213, 213)\n",
    "dpc.effective_dim = (3,39)"
   ]
  },
  {
   "cell_type": "code",
   "execution_count": null,
   "metadata": {},
   "outputs": [],
   "source": [
    "dpc.plt_i_th_pat_correlation(15)"
   ]
  },
  {
   "cell_type": "code",
   "execution_count": null,
   "metadata": {},
   "outputs": [],
   "source": [
    "dpc.plt_i_th_pat_correlation(2)"
   ]
  },
  {
   "cell_type": "code",
   "execution_count": null,
   "metadata": {},
   "outputs": [
    {
     "data": {
      "text/plain": [
       "0        0.016386\n",
       "1        0.026271\n",
       "2        0.029940\n",
       "3        0.008509\n",
       "4        0.079355\n",
       "           ...   \n",
       "65531    0.086125\n",
       "65532    0.075199\n",
       "65533    0.093003\n",
       "65534    0.086125\n",
       "65535    0.049959\n",
       "Name: 1561.6, Length: 65536, dtype: float64"
      ]
     },
     "execution_count": 19,
     "metadata": {},
     "output_type": "execute_result"
    }
   ],
   "source": [
    "dpc.scaled_speckle_pattern.iloc[:,1]"
   ]
  },
  {
   "cell_type": "code",
   "execution_count": null,
   "metadata": {},
   "outputs": [],
   "source": []
  },
  {
   "cell_type": "code",
   "execution_count": null,
   "metadata": {},
   "outputs": [],
   "source": []
  },
  {
   "cell_type": "code",
   "execution_count": null,
   "metadata": {},
   "outputs": [
    {
     "data": {
      "text/plain": [
       "25"
      ]
     },
     "execution_count": 17,
     "metadata": {},
     "output_type": "execute_result"
    }
   ],
   "source": [
    "sc.comb_fsr_ghz"
   ]
  },
  {
   "cell_type": "code",
   "execution_count": null,
   "metadata": {},
   "outputs": [
    {
     "data": {
      "text/plain": [
       "0.00152587890625"
      ]
     },
     "execution_count": 56,
     "metadata": {},
     "output_type": "execute_result"
    }
   ],
   "source": [
    "100/(256*256)"
   ]
  },
  {
   "cell_type": "code",
   "execution_count": null,
   "metadata": {},
   "outputs": [],
   "source": [
    "# ws.set_bandpass(center=190.5, span=0., unit='THz')\n",
    "\n",
    "\n",
    "trace_background = osc.get_trace(channel=1)\n",
    "# np.array(trace_background).tofile(r'Z:\\Maodong\\Projects\\Speckle_with_Comb\\CombPattern_20241219_one_EDFA_1um5mMMF\\Background_20241216_only_one_EDFA.csv')\n",
    "import json\n",
    "with open(r'Z:\\Maodong\\Projects\\Speckle_with_Comb\\CombPattern_20241219_one_EDFA_1um5mMMF\\Background_20241216_dataset2_withoutobj.json', 'w') as f:\n",
    "    json.dump({'background': trace_background}, f)\n",
    "\n",
    "# sc.filter_comb_with_new_fsr()"
   ]
  },
  {
   "cell_type": "code",
   "execution_count": null,
   "metadata": {},
   "outputs": [],
   "source": []
  },
  {
   "cell_type": "code",
   "execution_count": null,
   "metadata": {},
   "outputs": [],
   "source": [
    "filename = r'Z:\\Maodong\\Projects\\Speckle_with_Comb\\CombPattern_20241219_one_EDFA_1um5mMMF\\dataset2_ASE_pattern_%d_%d_%dGHz' % (sc.comb_min_wl_nm, sc.comb_max_wl_nm, sc.comb_fsr_ghz)\n",
    "\n",
    "ws.set_bandpass(center=190.5, span=0., unit='THz')\n",
    "\n",
    "img_ASE = camera.capture_single_frame()\n",
    "osa.single_and_wait()\n",
    "time.sleep(1)\n",
    "\n",
    "sc.filter_comb_with_new_fsr()\n",
    "\n",
    "osa.save_trace('f', os.path.join(os.path.dirname(filename), '_ASE_OSA_spec'), plot=False)\n",
    "# save ASE image\n",
    "np.array(img_ASE).tofile(filename + '.csv')\n",
    "\n",
    "osa.run()"
   ]
  },
  {
   "cell_type": "code",
   "execution_count": null,
   "metadata": {},
   "outputs": [
    {
     "data": {
      "text/plain": [
       "<matplotlib.image.AxesImage at 0x1fdced95850>"
      ]
     },
     "execution_count": 31,
     "metadata": {},
     "output_type": "execute_result"
    }
   ],
   "source": [
    "plt.figure()\n",
    "plt.imshow(img_ASE, cmap='gray')"
   ]
  },
  {
   "cell_type": "markdown",
   "metadata": {},
   "source": [
    "# Try single shot measurement"
   ]
  },
  {
   "cell_type": "code",
   "execution_count": null,
   "metadata": {},
   "outputs": [
    {
     "data": {
      "text/plain": [
       "1"
      ]
     },
     "execution_count": 32,
     "metadata": {},
     "output_type": "execute_result"
    }
   ],
   "source": [
    "osa_2 = YokogawaOSA(addr='192.168.1.20')\n",
    "osa_2.connect()"
   ]
  },
  {
   "cell_type": "code",
   "execution_count": null,
   "metadata": {},
   "outputs": [],
   "source": [
    "for tt in [ 'C', 'D', 'E', 'F', 'G']:\n",
    "    osa_2.blank_trace(tt)\n",
    "\n"
   ]
  },
  {
   "cell_type": "code",
   "execution_count": null,
   "metadata": {},
   "outputs": [
    {
     "data": {
      "text/plain": [
       "(array([1546.9 , 1546.92, 1546.94, ..., 1576.86, 1576.88, 1576.9 ]),\n",
       " array([1.19333728e-03, 1.26170185e-03, 1.35551961e-03, ...,\n",
       "        2.57123904e-05, 2.43042702e-05, 2.32772333e-05]))"
      ]
     },
     "execution_count": 45,
     "metadata": {},
     "output_type": "execute_result"
    }
   ],
   "source": [
    "osa_2.get_trace('b', plot=True)"
   ]
  },
  {
   "cell_type": "code",
   "execution_count": null,
   "metadata": {},
   "outputs": [],
   "source": [
    "osa_2.wavelength_center_nm = osa.wavelength_center_nm\n",
    "osa_2.wavelength_span_nm = osa.wavelength_span_nm"
   ]
  },
  {
   "cell_type": "code",
   "execution_count": null,
   "metadata": {},
   "outputs": [],
   "source": [
    "osa.write_trace('a')"
   ]
  },
  {
   "cell_type": "code",
   "execution_count": null,
   "metadata": {},
   "outputs": [],
   "source": [
    "filename = r'Z:\\Maodong\\Projects\\Speckle_with_Comb\\CombPattern_20241219_one_EDFA_1um5mMMF\\dataset3_try_OSA_singleshot_%d_%d_%dGHz' % (sc.comb_min_wl_nm, sc.comb_max_wl_nm, sc.comb_fsr_ghz)\n",
    "\n",
    "osa.save_trace('f', os.path.join(filename, 'input_comb'), plot=False)\n",
    "osa_2.save_trace('c', os.path.join(filename, 'without_obj_lin_spec'), plot=False)\n",
    "\n",
    "# save sc.comb_center_freq_thz\n",
    "\n",
    "import json\n",
    "with open(os.path.join(filename, 'comb_center_freq.json'), 'w') as f:\n",
    "    json.dump({'comb_center_freq_thz': list(sc.comb_center_freq_thz), 'comb_fsr_ghz': sc.comb_fsr_ghz}, f)\n"
   ]
  },
  {
   "cell_type": "code",
   "execution_count": null,
   "metadata": {},
   "outputs": [],
   "source": [
    "osa_2.save_trace('c', os.path.join(filename, 'with_obj_2_lin_spec'), plot=False)\n"
   ]
  },
  {
   "cell_type": "code",
   "execution_count": null,
   "metadata": {},
   "outputs": [
    {
     "data": {
      "text/plain": [
       "0.04"
      ]
     },
     "execution_count": 20,
     "metadata": {},
     "output_type": "execute_result"
    }
   ],
   "source": [
    "osc.get_vertical_scale_volt(channel=1)"
   ]
  },
  {
   "cell_type": "code",
   "execution_count": null,
   "metadata": {},
   "outputs": [],
   "source": [
    "osc.set_vertical_scale_volt(channel=1, scale=osc.get_avg_voltage(channel=1)*5)"
   ]
  },
  {
   "cell_type": "code",
   "execution_count": null,
   "metadata": {},
   "outputs": [],
   "source": [
    "osc.update_vertical_scale_by_last_measurement(channel=1)"
   ]
  },
  {
   "cell_type": "code",
   "execution_count": null,
   "metadata": {},
   "outputs": [
    {
     "data": {
      "text/plain": [
       "-4.9"
      ]
     },
     "execution_count": 53,
     "metadata": {},
     "output_type": "execute_result"
    }
   ],
   "source": [
    "osc.get_vertical_position_div(channel=1)"
   ]
  },
  {
   "cell_type": "code",
   "execution_count": null,
   "metadata": {},
   "outputs": [],
   "source": [
    "osc.set_time_scale_sec(4e-8)"
   ]
  },
  {
   "cell_type": "code",
   "execution_count": null,
   "metadata": {},
   "outputs": [],
   "source": [
    "osc.set_vertical_offset_volt(channel=1, offset=0)"
   ]
  },
  {
   "cell_type": "code",
   "execution_count": null,
   "metadata": {},
   "outputs": [],
   "source": [
    "osc.update_vertical_scale_by_last_measurement(channel=1)"
   ]
  },
  {
   "cell_type": "code",
   "execution_count": null,
   "metadata": {},
   "outputs": [],
   "source": []
  },
  {
   "cell_type": "code",
   "execution_count": null,
   "metadata": {},
   "outputs": [],
   "source": []
  },
  {
   "cell_type": "code",
   "execution_count": null,
   "metadata": {},
   "outputs": [],
   "source": []
  },
  {
   "cell_type": "code",
   "execution_count": null,
   "metadata": {},
   "outputs": [],
   "source": []
  },
  {
   "cell_type": "markdown",
   "metadata": {},
   "source": [
    "# PREVIOUS CODE BLOCKS"
   ]
  },
  {
   "cell_type": "code",
   "execution_count": null,
   "metadata": {},
   "outputs": [
    {
     "data": {
      "text/plain": [
       "1562.8246924505363"
      ]
     },
     "execution_count": 46,
     "metadata": {},
     "output_type": "execute_result"
    }
   ],
   "source": [
    "ws.nm2thz(sc.comb_center_freq_thz[20])"
   ]
  },
  {
   "cell_type": "code",
   "execution_count": null,
   "metadata": {},
   "outputs": [
    {
     "data": {
      "text/plain": [
       "<matplotlib.image.AxesImage at 0x23067592f40>"
      ]
     },
     "execution_count": 52,
     "metadata": {},
     "output_type": "execute_result"
    }
   ],
   "source": [
    "plt.imshow(sc.collect_thz_pattern(sc.comb_center_freq_thz[40]), cmap='gray')"
   ]
  },
  {
   "cell_type": "code",
   "execution_count": null,
   "metadata": {},
   "outputs": [],
   "source": [
    "thz_list = sc.comb_center_freq_thz + 0.025\n",
    "thz_list = np.concatenate((thz_list, sc.comb_center_freq_thz))\n",
    "thz_list = np.sort(thz_list)"
   ]
  },
  {
   "cell_type": "code",
   "execution_count": null,
   "metadata": {},
   "outputs": [],
   "source": []
  },
  {
   "cell_type": "code",
   "execution_count": null,
   "metadata": {},
   "outputs": [
    {
     "name": "stderr",
     "output_type": "stream",
     "text": [
      "100%|██████████| 192/192 [06:32<00:00,  2.04s/it]\n"
     ]
    }
   ],
   "source": [
    "\n",
    "\n",
    "\n",
    "sc.scan_pattern(thz_list=thz_list, filename=r'Z:\\Maodong\\Projects\\Speckle_with_Comb\\CombPattern_1550_20241122\\pattern_check_3')\n",
    "\n"
   ]
  },
  {
   "cell_type": "code",
   "execution_count": null,
   "metadata": {},
   "outputs": [],
   "source": []
  },
  {
   "cell_type": "code",
   "execution_count": null,
   "metadata": {},
   "outputs": [],
   "source": []
  },
  {
   "cell_type": "code",
   "execution_count": null,
   "metadata": {},
   "outputs": [],
   "source": []
  },
  {
   "cell_type": "code",
   "execution_count": null,
   "metadata": {},
   "outputs": [],
   "source": [
    "# sc.filter_comb_with_new_fsr()\n",
    "osa.save_trace('f', r'Z:\\Maodong\\Projects\\Speckle_with_Comb\\CombPattern_20241120\\input_used_50ghz_comb')"
   ]
  },
  {
   "cell_type": "code",
   "execution_count": null,
   "metadata": {},
   "outputs": [
    {
     "data": {
      "text/plain": [
       "[<matplotlib.lines.Line2D at 0x244611ee370>]"
      ]
     },
     "execution_count": 50,
     "metadata": {},
     "output_type": "execute_result"
    }
   ],
   "source": [
    "# Check filtered higher FSR comb\n",
    "\n",
    "from scipy.io import loadmat\n",
    "aa = loadmat(r'Z:\\Maodong\\Projects\\Speckle_with_Comb\\CombPattern_20241120\\input_full_comb.mat')\n",
    "bb = loadmat(r'Z:\\Maodong\\Projects\\Speckle_with_Comb\\CombPattern_20241120\\input_50ghz_comb.mat')\n",
    "\n",
    "plt.figure()\n",
    "plt.plot(aa['OSAWavelength'], aa['OSAPower'], label='full comb')\n",
    "plt.plot(bb['OSAWavelength'], bb['OSAPower'], label='50GHz comb')\n",
    "plt.legend()"
   ]
  },
  {
   "cell_type": "code",
   "execution_count": null,
   "metadata": {},
   "outputs": [
    {
     "data": {
      "text/plain": [
       "1529.3961759023878"
      ]
     },
     "execution_count": 129,
     "metadata": {},
     "output_type": "execute_result"
    }
   ],
   "source": [
    "sc.ws.nm2thz(sc.comb_center_freq_thz[-1])"
   ]
  },
  {
   "cell_type": "code",
   "execution_count": null,
   "metadata": {},
   "outputs": [
    {
     "data": {
      "text/plain": [
       "(88,)"
      ]
     },
     "execution_count": 118,
     "metadata": {},
     "output_type": "execute_result"
    }
   ],
   "source": [
    "sc.comb_center_freq_thz.shape"
   ]
  },
  {
   "cell_type": "code",
   "execution_count": null,
   "metadata": {},
   "outputs": [
    {
     "data": {
      "text/plain": [
       "(array([185.75      , 185.75100009, 185.75200018, ..., 197.09799982,\n",
       "        197.09899991, 197.1       ]),\n",
       " array([60, 60, 60, ..., 60, 60, 60]),\n",
       " array([0., 0., 0., ..., 0., 0., 0.]),\n",
       " array([1, 1, 1, ..., 1, 1, 1]))"
      ]
     },
     "execution_count": 169,
     "metadata": {},
     "output_type": "execute_result"
    }
   ],
   "source": [
    "sc.ws.set_bandpass(center=sc.comb_center_freq_thz[-28], span=sc.bpf_bw_thz, unit='THz')"
   ]
  },
  {
   "cell_type": "code",
   "execution_count": null,
   "metadata": {},
   "outputs": [],
   "source": [
    "import time\n",
    "for ii, thz in enumerate(sc.comb_center_freq_thz):\n",
    "    sc.ws.set_bandpass(center=thz, span=sc.bpf_bw_thz, unit='THz')\n",
    "    time.sleep(0.5)"
   ]
  },
  {
   "cell_type": "code",
   "execution_count": null,
   "metadata": {},
   "outputs": [
    {
     "data": {
      "text/plain": [
       "0.33110010854899885"
      ]
     },
     "execution_count": 40,
     "metadata": {},
     "output_type": "execute_result"
    }
   ],
   "source": [
    "from hardware.rs_oscilloscope import RsOSC\n",
    "osc = RsOSC()\n",
    "osc.connect()\n",
    "\n",
    "import time\n",
    "def callback():\n",
    "    time.sleep(1)\n",
    "    return [osc.get_avg_voltage(channel=1)]\n",
    "\n",
    "osc.get_avg_voltage(1)"
   ]
  },
  {
   "cell_type": "code",
   "execution_count": null,
   "metadata": {},
   "outputs": [
    {
     "data": {
      "text/plain": [
       "<matplotlib.image.AxesImage at 0x14a11d22700>"
      ]
     },
     "execution_count": 172,
     "metadata": {},
     "output_type": "execute_result"
    }
   ],
   "source": [
    "img = sc.collect_thz_pattern(sc.comb_center_freq_thz[12])\n",
    "plt.figure()\n",
    "plt.imshow(img, cmap='gray')"
   ]
  },
  {
   "cell_type": "code",
   "execution_count": null,
   "metadata": {},
   "outputs": [],
   "source": []
  },
  {
   "cell_type": "code",
   "execution_count": null,
   "metadata": {},
   "outputs": [],
   "source": [
    "sc.filter_comb_with_new_fsr(centers=sc.comb_center_freq_thz)\n"
   ]
  },
  {
   "cell_type": "code",
   "execution_count": null,
   "metadata": {},
   "outputs": [
    {
     "name": "stderr",
     "output_type": "stream",
     "text": [
      "100%|██████████| 90/90 [05:24<00:00,  3.61s/it]\n",
      "100%|██████████| 90/90 [05:24<00:00,  3.61s/it]\n"
     ]
    }
   ],
   "source": [
    "filename = r'Z:\\Maodong\\Projects\\Speckle_with_Comb\\CombPattern_20241121\\dataset4_withoutobj_MMFand1500DF'\n",
    "\n",
    "sc.scan_pattern(filename=os.path.join(filename+'_even', 'pattern'), callback=callback)\n",
    "\n",
    "sc.info('Imaging (even order) finished, saved to %s' % filename)\n",
    "\n",
    "sc.scan_pattern(filename=os.path.join(filename+'_odd', 'pattern'), callback=callback, thz_list=sc.comb_center_freq_thz+0.025)\n",
    "\n",
    "sc.info('Imaging (odd order) finished, saved to %s' % filename)\n"
   ]
  },
  {
   "cell_type": "code",
   "execution_count": null,
   "metadata": {},
   "outputs": [
    {
     "data": {
      "text/plain": [
       "[<matplotlib.lines.Line2D at 0x14a70c24760>]"
      ]
     },
     "execution_count": 62,
     "metadata": {},
     "output_type": "execute_result"
    }
   ],
   "source": [
    "plt.plot(sc.comb_center_freq_thz)"
   ]
  },
  {
   "cell_type": "code",
   "execution_count": null,
   "metadata": {},
   "outputs": [],
   "source": [
    "trace_background = osc.get_trace(channel=1)\n",
    "np.array(trace_background).tofile(r'Z:\\Maodong\\Projects\\Speckle_with_Comb\\CombPattern_20241121\\PD_Background_20241121.csv')\n",
    "import json\n",
    "with open(r'Z:\\Maodong\\Projects\\Speckle_with_Comb\\CombPattern_20241121\\PD_Background_20241121.json', 'w') as f:\n",
    "    json.dump({'background': trace_background}, f)"
   ]
  },
  {
   "cell_type": "code",
   "execution_count": null,
   "metadata": {},
   "outputs": [],
   "source": [
    "sc.comb_fsr_ghz = 50"
   ]
  },
  {
   "cell_type": "code",
   "execution_count": null,
   "metadata": {},
   "outputs": [],
   "source": []
  },
  {
   "cell_type": "code",
   "execution_count": null,
   "metadata": {},
   "outputs": [
    {
     "data": {
      "text/plain": [
       "0.0005222239268069486"
      ]
     },
     "execution_count": 134,
     "metadata": {},
     "output_type": "execute_result"
    }
   ],
   "source": [
    "np.mean(trace_background )"
   ]
  },
  {
   "cell_type": "code",
   "execution_count": null,
   "metadata": {},
   "outputs": [],
   "source": [
    "dark_img = sc.camera.capture_single_frame()\n",
    "plt.figure()\n",
    "plt.imshow(dark_img)\n",
    "\n",
    "dark_img.tofile(r'Z:\\Maodong\\Projects\\Speckle_with_Comb\\CombPattern_20241120\\dark_img_20241120.csv')\n",
    "with open(r'Z:\\Maodong\\Projects\\Speckle_with_Comb\\CombPattern_20241120\\dark_img_20241120.json', 'w') as f:\n",
    "    json.dump({'dark_img': dark_img.tolist()}, f)"
   ]
  },
  {
   "cell_type": "code",
   "execution_count": null,
   "metadata": {},
   "outputs": [],
   "source": []
  },
  {
   "cell_type": "code",
   "execution_count": null,
   "metadata": {},
   "outputs": [],
   "source": []
  },
  {
   "cell_type": "code",
   "execution_count": null,
   "metadata": {},
   "outputs": [],
   "source": []
  },
  {
   "cell_type": "code",
   "execution_count": null,
   "metadata": {},
   "outputs": [],
   "source": []
  },
  {
   "cell_type": "code",
   "execution_count": null,
   "metadata": {},
   "outputs": [
    {
     "data": {
      "text/plain": [
       "0.06096127"
      ]
     },
     "execution_count": 72,
     "metadata": {},
     "output_type": "execute_result"
    }
   ],
   "source": [
    "np.mean(dark_img)"
   ]
  },
  {
   "cell_type": "code",
   "execution_count": null,
   "metadata": {},
   "outputs": [],
   "source": [
    "osa.save_trace('f', r'Z:\\Maodong\\Projects\\Speckle_with_Comb\\CombPattern_20241121\\input_comb_25Ghz')"
   ]
  },
  {
   "cell_type": "code",
   "execution_count": null,
   "metadata": {},
   "outputs": [
    {
     "name": "stderr",
     "output_type": "stream",
     "text": [
      "c:\\Maodong\\NTT_code_Maodong\\notebooks\\..\\hardware\\device.py:79: UserWarning: OSA: Filename Z:\\Maodong\\Projects\\Speckle_with_Comb\\CombPattern_20241121\\input_used_comb_even_50Ghz.mat already exists. Previous file renamed.\n",
      "  warnings.warn(x)\n",
      "c:\\Maodong\\NTT_code_Maodong\\notebooks\\..\\hardware\\device.py:79: UserWarning: OSA: Filename Z:\\Maodong\\Projects\\Speckle_with_Comb\\CombPattern_20241121\\input_used_comb_even_50Ghz.txt already exists. Previous file renamed.\n",
      "  warnings.warn(x)\n",
      "c:\\Maodong\\NTT_code_Maodong\\notebooks\\..\\hardware\\device.py:79: UserWarning: OSA: Filename Z:\\Maodong\\Projects\\Speckle_with_Comb\\CombPattern_20241121\\input_used_comb_even_50Ghz.npy already exists. Previous file renamed.\n",
      "  warnings.warn(x)\n"
     ]
    }
   ],
   "source": [
    "sc.filter_comb_with_new_fsr(centers=sc.comb_center_freq_thz)\n",
    "osa.save_trace('f', r'Z:\\Maodong\\Projects\\Speckle_with_Comb\\CombPattern_20241121\\input_used_comb_even_50Ghz')"
   ]
  },
  {
   "cell_type": "code",
   "execution_count": null,
   "metadata": {},
   "outputs": [],
   "source": [
    "# ll = osa.get_trace('f', logdata=False)\n",
    "\n",
    "\n",
    "# # Find peak \n",
    "# from scipy.signal import find_peaks\n",
    "# peaks, _ = find_peaks(ll[1], prominence=0.9, distance=int(0.15/(ll[0][1]-ll[0][0])))\n",
    "\n",
    "# plt.plot(ll[0], ll[1])\n",
    "# plt.plot(ll[0][peaks], ll[1][peaks], \"x\")"
   ]
  },
  {
   "cell_type": "code",
   "execution_count": null,
   "metadata": {},
   "outputs": [],
   "source": []
  },
  {
   "cell_type": "code",
   "execution_count": null,
   "metadata": {},
   "outputs": [],
   "source": [
    "from winsound import Beep\n",
    "Beep(800, 500)"
   ]
  },
  {
   "cell_type": "code",
   "execution_count": null,
   "metadata": {},
   "outputs": [],
   "source": [
    "def gaussian(x, mu, sig):\n",
    "    return np.exp(-np.power(x - mu, 2.) / (2 * np.power(sig, 2.)))\n",
    "\n",
    "def log_gaussian(x, mu, sig):\n",
    "    return np.log(gaussian(x, mu, sig)+1e-15)\n",
    "\n",
    "def normalized_log_gaussian(x, mu, sig):\n",
    "    t = log_gaussian(x, mu, sig)\n",
    "    # normalize to [0,1]\n",
    "    return (t - np.min(t)) / (np.max(t) - np.min(t))"
   ]
  },
  {
   "cell_type": "code",
   "execution_count": null,
   "metadata": {},
   "outputs": [],
   "source": [
    "\n",
    "def determine_pass(thz):\n",
    "    result = False\n",
    "    for i,p in enumerate(peaks):\n",
    "        if i//2 == 0:\n",
    "            continue\n",
    "        thz_center = ws.nm2thz(ll[0][p]) + 0.01\n",
    "        if np.abs(thz_center-thz) < 0.005:\n",
    "            result = True\n",
    "            break\n",
    "    return result\n",
    "\n",
    "# plt.plot(ws.wsFreq, [0 if determine_pass(f) else 60 for f in ws.wsFreq])\n",
    "# wsAtten = np.array([0 if determine_pass(f) else 60 for f in ws.wsFreq])\n",
    "\n",
    "wl_center = 1557.605\n",
    "wl_center_2 = 1558.012\n",
    "thz_center = ws.nm2thz(wl_center)\n",
    "thz_center_2 = ws.nm2thz(wl_center_2)\n",
    "thz_span = 0.01\n",
    "\n",
    "\n",
    "wsAtten = np.array([0  # 60*(1-normalized_log_gaussian(f, thz_center, 0.01))\n",
    "                    if (f > thz_center-thz_span/2 and f < thz_center+thz_span/2) \n",
    "                      or (f > thz_center_2-thz_span/2 and f < thz_center_2+thz_span/2)\n",
    "                    else 60 for f in ws.wsFreq])\n",
    "\n",
    "wsPhase = np.zeros_like(ws.wsFreq)\n",
    "wsPort = np.array([1 for _ in ws.wsFreq])\n",
    "\n",
    "# ws.upload_profile(wsAtten, wsPhase, wsPort, plot=False)"
   ]
  },
  {
   "cell_type": "code",
   "execution_count": null,
   "metadata": {},
   "outputs": [
    {
     "name": "stdout",
     "output_type": "stream",
     "text": [
      "Upload succeeded: {'msg': 'OK', 'rc': 0, 'sno': 'WS202677', 'time_http_transact_us': 36721}\n"
     ]
    },
    {
     "data": {
      "text/plain": [
       "{'msg': 'OK', 'rc': 0, 'sno': 'WS202677', 'time_http_transact_us': 36721}"
      ]
     },
     "execution_count": 39,
     "metadata": {},
     "output_type": "execute_result"
    }
   ],
   "source": [
    "\n",
    "thz_center_1_list = [thz_center+ 0.0 - 0.05*i for i in range(150)]\n",
    "thz_center_2_list = [thz_center+ 0.0 + 0.05*(i+1) for i in range(150)]\n",
    "\n",
    "thz_center_list = np.sort(np.array(thz_center_1_list + thz_center_2_list))\n",
    "\n",
    "thz_center_list = thz_center_list[thz_center_list < ws.nm2thz(1535)]\n",
    "\n",
    "def determine_pass(thz):\n",
    "    result = False\n",
    "    for i,p in enumerate(thz_center_list):\n",
    "        if np.abs(p-thz) < 0.01:\n",
    "            result = True\n",
    "            break\n",
    "    return result\n",
    "\n",
    "wsAtten =  np.array([0 if determine_pass(f) else 60 for f in ws.wsFreq])\n",
    "\n",
    "ws.upload_profile(wsAtten, wsPhase, wsPort, plot=False)"
   ]
  },
  {
   "cell_type": "code",
   "execution_count": null,
   "metadata": {},
   "outputs": [
    {
     "data": {
      "text/plain": [
       "<matplotlib.collections.PathCollection at 0x2445f190a30>"
      ]
     },
     "execution_count": 43,
     "metadata": {},
     "output_type": "execute_result"
    }
   ],
   "source": [
    "plt.scatter(range(thz_center_list.__len__()), thz_center_list)\n",
    "plt.scatter(range(sc.comb_center_freq_thz.__len__()), sc.comb_center_freq_thz - sc.comb_center_freq_thz[0] + thz_center_list[0])"
   ]
  },
  {
   "cell_type": "code",
   "execution_count": null,
   "metadata": {},
   "outputs": [],
   "source": []
  },
  {
   "cell_type": "code",
   "execution_count": null,
   "metadata": {},
   "outputs": [],
   "source": []
  },
  {
   "cell_type": "code",
   "execution_count": null,
   "metadata": {},
   "outputs": [],
   "source": []
  },
  {
   "cell_type": "code",
   "execution_count": null,
   "metadata": {},
   "outputs": [
    {
     "data": {
      "text/plain": [
       "[<matplotlib.lines.Line2D at 0x1530ac69cd0>]"
      ]
     },
     "execution_count": 109,
     "metadata": {},
     "output_type": "execute_result"
    }
   ],
   "source": [
    "# sort the thz_center_list\n",
    "thz_center_list = np.sort(thz_center_list)\n",
    "# plt.plot(thz_center_list)\n",
    "\n",
    "# remove elements smaller than 191.5\n",
    "thz_center_list = thz_center_list[thz_center_list > 191.5]\n",
    "plt.plot(thz_center_list)"
   ]
  },
  {
   "cell_type": "code",
   "execution_count": null,
   "metadata": {},
   "outputs": [],
   "source": []
  },
  {
   "cell_type": "code",
   "execution_count": null,
   "metadata": {},
   "outputs": [],
   "source": []
  },
  {
   "cell_type": "code",
   "execution_count": null,
   "metadata": {},
   "outputs": [],
   "source": [
    "plt.figure()\n",
    "plt.plot(thz_center_list)\n",
    "plt.show()"
   ]
  },
  {
   "cell_type": "code",
   "execution_count": null,
   "metadata": {},
   "outputs": [
    {
     "data": {
      "text/plain": [
       "(array([1510.  , 1510.01, 1510.02, ..., 1609.98, 1609.99, 1610.  ]),\n",
       " array([ -57.639163 , -210.       , -210.       , ..., -210.       ,\n",
       "         -56.1116065,  -58.4257624]))"
      ]
     },
     "execution_count": 85,
     "metadata": {},
     "output_type": "execute_result"
    }
   ],
   "source": [
    "osa.get_trace('a')"
   ]
  },
  {
   "cell_type": "code",
   "execution_count": null,
   "metadata": {},
   "outputs": [],
   "source": [
    "osa.save_trace('a',r'Z:\\Maodong\\Projects\\Speckle_with_Comb\\Calibration_20241119\\filtered_50GHz_comb_before_imaging_setup')"
   ]
  },
  {
   "cell_type": "code",
   "execution_count": null,
   "metadata": {},
   "outputs": [],
   "source": []
  },
  {
   "cell_type": "code",
   "execution_count": null,
   "metadata": {},
   "outputs": [],
   "source": [
    "from scipy.io import loadmat\n",
    "\n",
    "aa = loadmat(r'Z:\\Maodong\\Projects\\Speckle_with_Comb\\Calibration_20241119\\filtered_50GHz_comb_after_ws.mat')\n",
    "bb = loadmat(r'Z:\\Maodong\\Projects\\Speckle_with_Comb\\Calibration_20241119\\input_spectrum_after_EDFA.mat')\n",
    "cc = loadmat(r'Z:\\Maodong\\Projects\\Speckle_with_Comb\\Calibration_20241119\\filtered_50GHz_comb_after_ws_MMF_to_OSA.mat')\n",
    "dd = loadmat(r'Z:\\Maodong\\Projects\\Speckle_with_Comb\\Calibration_20241119\\filtered_50GHz_comb_after_imaging_setup_MMF_to_OSA.mat')\n",
    "ee = loadmat(r'Z:\\Maodong\\Projects\\Speckle_with_Comb\\Calibration_20241119\\filtered_50GHz_comb_before_imaging_setup.mat')"
   ]
  },
  {
   "cell_type": "code",
   "execution_count": null,
   "metadata": {},
   "outputs": [
    {
     "data": {
      "text/plain": [
       "<matplotlib.legend.Legend at 0x15309236e80>"
      ]
     },
     "execution_count": 104,
     "metadata": {},
     "output_type": "execute_result"
    }
   ],
   "source": [
    "plt.figure()\n",
    "plt.plot(bb['OSAWavelength'], bb['OSAPower'], label='input_spectrum_after_EDFA')\n",
    "\n",
    "plt.plot(aa['OSAWavelength'], aa['OSAPower'], label='filtered_50GHz_comb_after_ws')\n",
    "plt.plot(cc['OSAWavelength'], cc['OSAPower'], label='filtered_50GHz_comb_after_ws_MMF_to_OSA')\n",
    "plt.legend()"
   ]
  },
  {
   "cell_type": "code",
   "execution_count": null,
   "metadata": {},
   "outputs": [
    {
     "data": {
      "text/plain": [
       "<matplotlib.legend.Legend at 0x153022b2eb0>"
      ]
     },
     "execution_count": 110,
     "metadata": {},
     "output_type": "execute_result"
    }
   ],
   "source": [
    "plt.figure()\n",
    "plt.plot(bb['OSAWavelength'], bb['OSAPower'], label='input_spectrum_after_EDFA')\n",
    "\n",
    "plt.plot(dd['OSAWavelength'], dd['OSAPower'], label='filtered_50GHz_comb_after_imaging_setup_MMF_to_OSA')\n",
    "plt.plot(ee['OSAWavelength'], ee['OSAPower'], label='filtered_50GHz_comb_before_imaging_setup')\n",
    "plt.legend()"
   ]
  },
  {
   "cell_type": "code",
   "execution_count": null,
   "metadata": {},
   "outputs": [],
   "source": [
    "tt = osa.get_trace('a')\n",
    "\n",
    "speckle_thz_list = thz_center_list[thz_center_list < ws.nm2thz(1548.122)]\n",
    "speckle_thz_list = speckle_thz_list[speckle_thz_list > ws.nm2thz(1575)]"
   ]
  },
  {
   "cell_type": "code",
   "execution_count": null,
   "metadata": {},
   "outputs": [
    {
     "data": {
      "text/plain": [
       "66"
      ]
     },
     "execution_count": 136,
     "metadata": {},
     "output_type": "execute_result"
    }
   ],
   "source": [
    "speckle_thz_list.__len__()"
   ]
  },
  {
   "cell_type": "code",
   "execution_count": null,
   "metadata": {},
   "outputs": [
    {
     "data": {
      "text/plain": [
       "array([0.  , 0.01, 0.02, 0.03, 0.04, 0.05, 0.06, 0.07, 0.08, 0.09, 0.1 ,\n",
       "       0.11, 0.12, 0.13, 0.14, 0.15, 0.16, 0.17, 0.18, 0.19, 0.2 , 0.21,\n",
       "       0.22, 0.23, 0.24, 0.25, 0.26, 0.27, 0.28, 0.29, 0.3 , 0.31, 0.32,\n",
       "       0.33, 0.34, 0.35, 0.36, 0.37, 0.38, 0.39, 0.4 , 0.41, 0.42, 0.43,\n",
       "       0.44, 0.45, 0.46, 0.47, 0.48, 0.49, 0.5 , 0.51, 0.52, 0.53, 0.54,\n",
       "       0.55, 0.56, 0.57, 0.58, 0.59, 0.6 ])"
      ]
     },
     "execution_count": 141,
     "metadata": {},
     "output_type": "execute_result"
    }
   ],
   "source": [
    "mmm = np.arange(0.6, 0.055, -0.01)\n",
    "nnn = np.arange(0., 0.055, 0.01)\n",
    "\n",
    "qqq = np.sort(np.concatenate([mmm, nnn]).flatten())\n",
    "qqq"
   ]
  },
  {
   "cell_type": "code",
   "execution_count": null,
   "metadata": {},
   "outputs": [
    {
     "name": "stdout",
     "output_type": "stream",
     "text": [
      "Upload succeeded: {'msg': 'OK', 'rc': 0, 'sno': 'WS202677', 'time_http_transact_us': 28765}\n"
     ]
    },
    {
     "data": {
      "text/plain": [
       "(array([185.75      , 185.75100009, 185.75200018, ..., 197.09799982,\n",
       "        197.09899991, 197.1       ]),\n",
       " array([60, 60, 60, ..., 60, 60, 60]),\n",
       " array([0., 0., 0., ..., 0., 0., 0.]),\n",
       " array([1, 1, 1, ..., 1, 1, 1]))"
      ]
     },
     "execution_count": 134,
     "metadata": {},
     "output_type": "execute_result"
    }
   ],
   "source": [
    "ws.set_bandpass(center=speckle_thz_list[30], span=0.01, unit='THz')"
   ]
  },
  {
   "cell_type": "code",
   "execution_count": null,
   "metadata": {},
   "outputs": [
    {
     "name": "stdout",
     "output_type": "stream",
     "text": [
      "Upload succeeded: {'msg': 'OK', 'rc': 0, 'sno': 'WS202677', 'time_http_transact_us': 28455}\n",
      "Upload succeeded: {'msg': 'OK', 'rc': 0, 'sno': 'WS202677', 'time_http_transact_us': 28544}\n",
      "Upload succeeded: {'msg': 'OK', 'rc': 0, 'sno': 'WS202677', 'time_http_transact_us': 28426}\n",
      "Upload succeeded: {'msg': 'OK', 'rc': 0, 'sno': 'WS202677', 'time_http_transact_us': 28560}\n",
      "Upload succeeded: {'msg': 'OK', 'rc': 0, 'sno': 'WS202677', 'time_http_transact_us': 28699}\n",
      "Upload succeeded: {'msg': 'OK', 'rc': 0, 'sno': 'WS202677', 'time_http_transact_us': 28894}\n",
      "Upload succeeded: {'msg': 'OK', 'rc': 0, 'sno': 'WS202677', 'time_http_transact_us': 28310}\n",
      "Upload succeeded: {'msg': 'OK', 'rc': 0, 'sno': 'WS202677', 'time_http_transact_us': 28623}\n",
      "Upload succeeded: {'msg': 'OK', 'rc': 0, 'sno': 'WS202677', 'time_http_transact_us': 28348}\n",
      "Upload succeeded: {'msg': 'OK', 'rc': 0, 'sno': 'WS202677', 'time_http_transact_us': 28386}\n",
      "Upload succeeded: {'msg': 'OK', 'rc': 0, 'sno': 'WS202677', 'time_http_transact_us': 28213}\n",
      "Upload succeeded: {'msg': 'OK', 'rc': 0, 'sno': 'WS202677', 'time_http_transact_us': 28610}\n",
      "Upload succeeded: {'msg': 'OK', 'rc': 0, 'sno': 'WS202677', 'time_http_transact_us': 28282}\n",
      "Upload succeeded: {'msg': 'OK', 'rc': 0, 'sno': 'WS202677', 'time_http_transact_us': 28260}\n",
      "Upload succeeded: {'msg': 'OK', 'rc': 0, 'sno': 'WS202677', 'time_http_transact_us': 28344}\n",
      "Upload succeeded: {'msg': 'OK', 'rc': 0, 'sno': 'WS202677', 'time_http_transact_us': 28517}\n",
      "Upload succeeded: {'msg': 'OK', 'rc': 0, 'sno': 'WS202677', 'time_http_transact_us': 28408}\n",
      "Upload succeeded: {'msg': 'OK', 'rc': 0, 'sno': 'WS202677', 'time_http_transact_us': 28705}\n",
      "Upload succeeded: {'msg': 'OK', 'rc': 0, 'sno': 'WS202677', 'time_http_transact_us': 28425}\n",
      "Upload succeeded: {'msg': 'OK', 'rc': 0, 'sno': 'WS202677', 'time_http_transact_us': 28471}\n",
      "Upload succeeded: {'msg': 'OK', 'rc': 0, 'sno': 'WS202677', 'time_http_transact_us': 28085}\n",
      "Upload succeeded: {'msg': 'OK', 'rc': 0, 'sno': 'WS202677', 'time_http_transact_us': 29031}\n",
      "Upload succeeded: {'msg': 'OK', 'rc': 0, 'sno': 'WS202677', 'time_http_transact_us': 28372}\n",
      "Upload succeeded: {'msg': 'OK', 'rc': 0, 'sno': 'WS202677', 'time_http_transact_us': 28640}\n",
      "Upload succeeded: {'msg': 'OK', 'rc': 0, 'sno': 'WS202677', 'time_http_transact_us': 28108}\n",
      "Upload succeeded: {'msg': 'OK', 'rc': 0, 'sno': 'WS202677', 'time_http_transact_us': 29072}\n",
      "Upload succeeded: {'msg': 'OK', 'rc': 0, 'sno': 'WS202677', 'time_http_transact_us': 28323}\n",
      "Upload succeeded: {'msg': 'OK', 'rc': 0, 'sno': 'WS202677', 'time_http_transact_us': 28469}\n",
      "Upload succeeded: {'msg': 'OK', 'rc': 0, 'sno': 'WS202677', 'time_http_transact_us': 28231}\n",
      "Upload succeeded: {'msg': 'OK', 'rc': 0, 'sno': 'WS202677', 'time_http_transact_us': 28561}\n",
      "Upload succeeded: {'msg': 'OK', 'rc': 0, 'sno': 'WS202677', 'time_http_transact_us': 58910}\n",
      "Upload succeeded: {'msg': 'OK', 'rc': 0, 'sno': 'WS202677', 'time_http_transact_us': 28477}\n",
      "Upload succeeded: {'msg': 'OK', 'rc': 0, 'sno': 'WS202677', 'time_http_transact_us': 28156}\n",
      "Upload succeeded: {'msg': 'OK', 'rc': 0, 'sno': 'WS202677', 'time_http_transact_us': 28539}\n",
      "Upload succeeded: {'msg': 'OK', 'rc': 0, 'sno': 'WS202677', 'time_http_transact_us': 28370}\n",
      "Upload succeeded: {'msg': 'OK', 'rc': 0, 'sno': 'WS202677', 'time_http_transact_us': 28506}\n",
      "Upload succeeded: {'msg': 'OK', 'rc': 0, 'sno': 'WS202677', 'time_http_transact_us': 28375}\n",
      "Upload succeeded: {'msg': 'OK', 'rc': 0, 'sno': 'WS202677', 'time_http_transact_us': 28446}\n",
      "Upload succeeded: {'msg': 'OK', 'rc': 0, 'sno': 'WS202677', 'time_http_transact_us': 28282}\n",
      "Upload succeeded: {'msg': 'OK', 'rc': 0, 'sno': 'WS202677', 'time_http_transact_us': 28490}\n",
      "Upload succeeded: {'msg': 'OK', 'rc': 0, 'sno': 'WS202677', 'time_http_transact_us': 28506}\n",
      "Upload succeeded: {'msg': 'OK', 'rc': 0, 'sno': 'WS202677', 'time_http_transact_us': 28646}\n",
      "Upload succeeded: {'msg': 'OK', 'rc': 0, 'sno': 'WS202677', 'time_http_transact_us': 28405}\n",
      "Upload succeeded: {'msg': 'OK', 'rc': 0, 'sno': 'WS202677', 'time_http_transact_us': 28609}\n",
      "Upload succeeded: {'msg': 'OK', 'rc': 0, 'sno': 'WS202677', 'time_http_transact_us': 28302}\n",
      "Upload succeeded: {'msg': 'OK', 'rc': 0, 'sno': 'WS202677', 'time_http_transact_us': 28444}\n",
      "Upload succeeded: {'msg': 'OK', 'rc': 0, 'sno': 'WS202677', 'time_http_transact_us': 28410}\n",
      "Upload succeeded: {'msg': 'OK', 'rc': 0, 'sno': 'WS202677', 'time_http_transact_us': 28476}\n",
      "Upload succeeded: {'msg': 'OK', 'rc': 0, 'sno': 'WS202677', 'time_http_transact_us': 28201}\n",
      "Upload succeeded: {'msg': 'OK', 'rc': 0, 'sno': 'WS202677', 'time_http_transact_us': 28453}\n",
      "Upload succeeded: {'msg': 'OK', 'rc': 0, 'sno': 'WS202677', 'time_http_transact_us': 28404}\n",
      "Upload succeeded: {'msg': 'OK', 'rc': 0, 'sno': 'WS202677', 'time_http_transact_us': 28455}\n",
      "Upload succeeded: {'msg': 'OK', 'rc': 0, 'sno': 'WS202677', 'time_http_transact_us': 28275}\n",
      "Upload succeeded: {'msg': 'OK', 'rc': 0, 'sno': 'WS202677', 'time_http_transact_us': 28569}\n",
      "Upload succeeded: {'msg': 'OK', 'rc': 0, 'sno': 'WS202677', 'time_http_transact_us': 28195}\n",
      "Upload succeeded: {'msg': 'OK', 'rc': 0, 'sno': 'WS202677', 'time_http_transact_us': 28608}\n",
      "Upload succeeded: {'msg': 'OK', 'rc': 0, 'sno': 'WS202677', 'time_http_transact_us': 28300}\n",
      "Upload succeeded: {'msg': 'OK', 'rc': 0, 'sno': 'WS202677', 'time_http_transact_us': 28606}\n",
      "Upload succeeded: {'msg': 'OK', 'rc': 0, 'sno': 'WS202677', 'time_http_transact_us': 28522}\n",
      "Upload succeeded: {'msg': 'OK', 'rc': 0, 'sno': 'WS202677', 'time_http_transact_us': 28556}\n",
      "Upload succeeded: {'msg': 'OK', 'rc': 0, 'sno': 'WS202677', 'time_http_transact_us': 28322}\n",
      "Upload succeeded: {'msg': 'OK', 'rc': 0, 'sno': 'WS202677', 'time_http_transact_us': 28666}\n",
      "Upload succeeded: {'msg': 'OK', 'rc': 0, 'sno': 'WS202677', 'time_http_transact_us': 28404}\n",
      "Upload succeeded: {'msg': 'OK', 'rc': 0, 'sno': 'WS202677', 'time_http_transact_us': 28428}\n",
      "Upload succeeded: {'msg': 'OK', 'rc': 0, 'sno': 'WS202677', 'time_http_transact_us': 28404}\n",
      "Upload succeeded: {'msg': 'OK', 'rc': 0, 'sno': 'WS202677', 'time_http_transact_us': 28549}\n",
      "Upload succeeded: {'msg': 'OK', 'rc': 0, 'sno': 'WS202677', 'time_http_transact_us': 28223}\n"
     ]
    },
    {
     "data": {
      "text/plain": [
       "(array([185.75      , 185.75100009, 185.75200018, ..., 197.09799982,\n",
       "        197.09899991, 197.1       ]),\n",
       " array([60, 60, 60, ..., 60, 60, 60]),\n",
       " array([0., 0., 0., ..., 0., 0., 0.]),\n",
       " array([1, 1, 1, ..., 1, 1, 1]))"
      ]
     },
     "execution_count": 135,
     "metadata": {},
     "output_type": "execute_result"
    }
   ],
   "source": [
    "\n",
    "import time\n",
    "\n",
    "for i, thz in enumerate(speckle_thz_list):\n",
    "    ws.set_bandpass(center = thz, span = 0.01, unit='THz')\n",
    "    time.sleep(0.5)\n",
    "\n",
    "ws.set_bandpass(center=speckle_thz_list[30], span=0.01, unit='THz')"
   ]
  },
  {
   "cell_type": "code",
   "execution_count": null,
   "metadata": {},
   "outputs": [],
   "source": []
  },
  {
   "cell_type": "code",
   "execution_count": null,
   "metadata": {},
   "outputs": [],
   "source": []
  },
  {
   "cell_type": "code",
   "execution_count": null,
   "metadata": {},
   "outputs": [],
   "source": []
  },
  {
   "cell_type": "code",
   "execution_count": null,
   "metadata": {},
   "outputs": [],
   "source": []
  },
  {
   "cell_type": "code",
   "execution_count": null,
   "metadata": {},
   "outputs": [],
   "source": []
  },
  {
   "cell_type": "code",
   "execution_count": null,
   "metadata": {},
   "outputs": [],
   "source": []
  },
  {
   "cell_type": "code",
   "execution_count": null,
   "metadata": {},
   "outputs": [],
   "source": []
  },
  {
   "cell_type": "code",
   "execution_count": null,
   "metadata": {},
   "outputs": [
    {
     "data": {
      "text/plain": [
       "[<matplotlib.lines.Line2D at 0x1537ca88040>]"
      ]
     },
     "execution_count": 73,
     "metadata": {},
     "output_type": "execute_result"
    }
   ],
   "source": [
    "def gaussian(x, mu, sig):\n",
    "    return np.exp(-np.power(x - mu, 2.) / (2 * np.power(sig, 2.)))\n",
    "\n",
    "def log_gaussian(x, mu, sig):\n",
    "    return np.log(gaussian(x, mu, sig)+1e-15)\n",
    "\n",
    "def normalized_log_gaussian(x, mu, sig):\n",
    "    t = log_gaussian(x, mu, sig)\n",
    "    # normalize to [0,1]\n",
    "    return (t - np.min(t)) / (np.max(t) - np.min(t))\n",
    "\n",
    "plt.plot(ws.wsFreq, 60*(1-normalized_log_gaussian(ws.wsFreq, 193.1, 0.01)))"
   ]
  },
  {
   "cell_type": "code",
   "execution_count": null,
   "metadata": {},
   "outputs": [],
   "source": []
  },
  {
   "cell_type": "code",
   "execution_count": null,
   "metadata": {},
   "outputs": [],
   "source": []
  },
  {
   "cell_type": "code",
   "execution_count": null,
   "metadata": {},
   "outputs": [],
   "source": []
  },
  {
   "cell_type": "code",
   "execution_count": null,
   "metadata": {},
   "outputs": [
    {
     "name": "stdout",
     "output_type": "stream",
     "text": [
      "Upload succeeded: {'msg': 'OK', 'rc': 0, 'sno': 'WS202677', 'time_http_transact_us': 24921}\n"
     ]
    },
    {
     "data": {
      "text/plain": [
       "{'msg': 'OK', 'rc': 0, 'sno': 'WS202677', 'time_http_transact_us': 24921}"
      ]
     },
     "execution_count": 28,
     "metadata": {},
     "output_type": "execute_result"
    }
   ],
   "source": [
    "ws.upload_profile(wsAtten, wsPhase, wsPort)"
   ]
  },
  {
   "cell_type": "code",
   "execution_count": null,
   "metadata": {},
   "outputs": [
    {
     "data": {
      "text/plain": [
       "[<matplotlib.lines.Line2D at 0x1537aa827f0>]"
      ]
     },
     "execution_count": 19,
     "metadata": {},
     "output_type": "execute_result"
    }
   ],
   "source": [
    "uu = osa.get_trace('f', logdata=False, plot=False)\n",
    "\n",
    "plt.plot(uu[0], uu[1])\n",
    "# plt.plot(uu[0][peaks], uu[1][peaks], \"x\")\n"
   ]
  },
  {
   "cell_type": "code",
   "execution_count": null,
   "metadata": {},
   "outputs": [],
   "source": []
  },
  {
   "cell_type": "code",
   "execution_count": null,
   "metadata": {},
   "outputs": [],
   "source": []
  },
  {
   "cell_type": "code",
   "execution_count": null,
   "metadata": {},
   "outputs": [
    {
     "data": {
      "text/plain": [
       "True"
      ]
     },
     "execution_count": 17,
     "metadata": {},
     "output_type": "execute_result"
    }
   ],
   "source": [
    "determine_pass(193)"
   ]
  },
  {
   "cell_type": "code",
   "execution_count": null,
   "metadata": {},
   "outputs": [
    {
     "data": {
      "text/plain": [
       "[<matplotlib.lines.Line2D at 0x15d2f8f3e50>]"
      ]
     },
     "execution_count": 23,
     "metadata": {},
     "output_type": "execute_result"
    }
   ],
   "source": []
  },
  {
   "cell_type": "code",
   "execution_count": null,
   "metadata": {},
   "outputs": [],
   "source": []
  },
  {
   "cell_type": "code",
   "execution_count": null,
   "metadata": {},
   "outputs": [],
   "source": []
  },
  {
   "cell_type": "code",
   "execution_count": null,
   "metadata": {},
   "outputs": [
    {
     "data": {
      "text/plain": [
       "[<matplotlib.lines.Line2D at 0x15d2d8eac10>]"
      ]
     },
     "execution_count": 11,
     "metadata": {},
     "output_type": "execute_result"
    }
   ],
   "source": []
  },
  {
   "cell_type": "code",
   "execution_count": null,
   "metadata": {},
   "outputs": [],
   "source": []
  },
  {
   "cell_type": "code",
   "execution_count": null,
   "metadata": {},
   "outputs": [],
   "source": []
  },
  {
   "cell_type": "code",
   "execution_count": null,
   "metadata": {},
   "outputs": [],
   "source": []
  },
  {
   "cell_type": "code",
   "execution_count": null,
   "metadata": {},
   "outputs": [
    {
     "name": "stdout",
     "output_type": "stream",
     "text": [
      "Upload succeeded: {'msg': 'OK', 'rc': 0, 'sno': 'WS202677', 'time_http_transact_us': 28503}\n",
      "Upload succeeded: {'msg': 'OK', 'rc': 0, 'sno': 'WS202677', 'time_http_transact_us': 28493}\n",
      "Upload succeeded: {'msg': 'OK', 'rc': 0, 'sno': 'WS202677', 'time_http_transact_us': 28489}\n",
      "Upload succeeded: {'msg': 'OK', 'rc': 0, 'sno': 'WS202677', 'time_http_transact_us': 28316}\n",
      "Upload succeeded: {'msg': 'OK', 'rc': 0, 'sno': 'WS202677', 'time_http_transact_us': 28587}\n",
      "Upload succeeded: {'msg': 'OK', 'rc': 0, 'sno': 'WS202677', 'time_http_transact_us': 28398}\n",
      "Upload succeeded: {'msg': 'OK', 'rc': 0, 'sno': 'WS202677', 'time_http_transact_us': 28561}\n",
      "Upload succeeded: {'msg': 'OK', 'rc': 0, 'sno': 'WS202677', 'time_http_transact_us': 28283}\n",
      "Upload succeeded: {'msg': 'OK', 'rc': 0, 'sno': 'WS202677', 'time_http_transact_us': 28394}\n"
     ]
    },
    {
     "ename": "KeyboardInterrupt",
     "evalue": "",
     "output_type": "error",
     "traceback": [
      "\u001b[1;31m---------------------------------------------------------------------------\u001b[0m",
      "\u001b[1;31mKeyboardInterrupt\u001b[0m                         Traceback (most recent call last)",
      "Cell \u001b[1;32mIn[11], line 7\u001b[0m\n\u001b[0;32m      5\u001b[0m     \u001b[38;5;28;01mcontinue\u001b[39;00m\n\u001b[0;32m      6\u001b[0m ws\u001b[38;5;241m.\u001b[39mset_bandpass(center\u001b[38;5;241m=\u001b[39mll[\u001b[38;5;241m0\u001b[39m][p], span\u001b[38;5;241m=\u001b[39m\u001b[38;5;241m0.25\u001b[39m, unit\u001b[38;5;241m=\u001b[39m\u001b[38;5;124m'\u001b[39m\u001b[38;5;124mnm\u001b[39m\u001b[38;5;124m'\u001b[39m)\n\u001b[1;32m----> 7\u001b[0m \u001b[43mtime\u001b[49m\u001b[38;5;241;43m.\u001b[39;49m\u001b[43msleep\u001b[49m\u001b[43m(\u001b[49m\u001b[38;5;241;43m3\u001b[39;49m\u001b[43m)\u001b[49m\n\u001b[0;32m      8\u001b[0m Beep(\u001b[38;5;241m800\u001b[39m, \u001b[38;5;241m500\u001b[39m)\n",
      "\u001b[1;31mKeyboardInterrupt\u001b[0m: "
     ]
    }
   ],
   "source": [
    "import time\n",
    "from winsound import Beep\n",
    "for i, p in enumerate(peaks):\n",
    "    if i//2 == 0:\n",
    "        continue\n",
    "    ws.set_bandpass(center=ll[0][p], span=0.25, unit='nm')\n",
    "    time.sleep(3)\n",
    "    Beep(800, 500)"
   ]
  },
  {
   "cell_type": "code",
   "execution_count": null,
   "metadata": {},
   "outputs": [],
   "source": []
  },
  {
   "cell_type": "code",
   "execution_count": null,
   "metadata": {},
   "outputs": [],
   "source": []
  },
  {
   "cell_type": "code",
   "execution_count": null,
   "metadata": {},
   "outputs": [],
   "source": []
  },
  {
   "cell_type": "code",
   "execution_count": null,
   "metadata": {},
   "outputs": [],
   "source": []
  },
  {
   "cell_type": "code",
   "execution_count": null,
   "metadata": {},
   "outputs": [],
   "source": []
  },
  {
   "cell_type": "code",
   "execution_count": null,
   "metadata": {},
   "outputs": [],
   "source": []
  },
  {
   "cell_type": "code",
   "execution_count": null,
   "metadata": {},
   "outputs": [
    {
     "data": {
      "text/plain": [
       "197.1"
      ]
     },
     "execution_count": 77,
     "metadata": {},
     "output_type": "execute_result"
    }
   ],
   "source": [
    "ws = Waveshaper()\n",
    "ws.freq_end"
   ]
  },
  {
   "cell_type": "code",
   "execution_count": null,
   "metadata": {},
   "outputs": [
    {
     "data": {
      "text/plain": [
       "11351"
      ]
     },
     "execution_count": 78,
     "metadata": {},
     "output_type": "execute_result"
    }
   ],
   "source": [
    "ws.current_profile[3].__len__()"
   ]
  },
  {
   "cell_type": "code",
   "execution_count": null,
   "metadata": {},
   "outputs": [],
   "source": []
  },
  {
   "cell_type": "code",
   "execution_count": null,
   "metadata": {},
   "outputs": [],
   "source": []
  },
  {
   "cell_type": "code",
   "execution_count": null,
   "metadata": {},
   "outputs": [],
   "source": []
  },
  {
   "cell_type": "code",
   "execution_count": null,
   "metadata": {},
   "outputs": [
    {
     "data": {
      "text/plain": [
       "[<matplotlib.lines.Line2D at 0x202f9d21f40>]"
      ]
     },
     "execution_count": 59,
     "metadata": {},
     "output_type": "execute_result"
    },
    {
     "data": {
      "image/png": "[encoded data removed]",
      "text/plain": [
       "<Figure size 640x480 with 1 Axes>"
      ]
     },
     "metadata": {},
     "output_type": "display_data"
    }
   ],
   "source": [
    "plt.plot(ws.current_profile[0], ws.current_profile[1])"
   ]
  },
  {
   "cell_type": "code",
   "execution_count": null,
   "metadata": {},
   "outputs": [],
   "source": [
    "# osa.query('*IDN?')"
   ]
  },
  {
   "cell_type": "code",
   "execution_count": null,
   "metadata": {},
   "outputs": [],
   "source": []
  },
  {
   "cell_type": "code",
   "execution_count": null,
   "metadata": {},
   "outputs": [],
   "source": []
  },
  {
   "cell_type": "code",
   "execution_count": null,
   "metadata": {},
   "outputs": [],
   "source": []
  },
  {
   "cell_type": "code",
   "execution_count": null,
   "metadata": {},
   "outputs": [
    {
     "data": {
      "image/png": "[encoded data removed]",
      "text/plain": [
       "<Figure size 1400x600 with 2 Axes>"
      ]
     },
     "metadata": {},
     "output_type": "display_data"
    }
   ],
   "source": [
    "ws.plot_current_profile()"
   ]
  },
  {
   "cell_type": "code",
   "execution_count": null,
   "metadata": {},
   "outputs": [
    {
     "data": {
      "text/plain": [
       "{0: (array([185.75 , 185.751, 185.752, ..., 197.098, 197.099, 197.1  ]),\n",
       "  array([0., 0., 0., ..., 0., 0., 0.]),\n",
       "  array([0., 0., 0., ..., 0., 0., 0.]))}"
      ]
     },
     "execution_count": 81,
     "metadata": {},
     "output_type": "execute_result"
    }
   ],
   "source": [
    "kk = ws.separate_by_port(*ws.current_profile)\n",
    "kk"
   ]
  },
  {
   "cell_type": "code",
   "execution_count": null,
   "metadata": {},
   "outputs": [
    {
     "name": "stdout",
     "output_type": "stream",
     "text": [
      "Upload succeeded: {'msg': 'OK', 'rc': 0, 'sno': 'WS202677', 'time_http_transact_us': 29088}\n"
     ]
    }
   ],
   "source": [
    "uu = ws.set_bandpass(center=1570, span=0.1, unit='nm')"
   ]
  },
  {
   "cell_type": "code",
   "execution_count": null,
   "metadata": {},
   "outputs": [
    {
     "data": {
      "text/plain": [
       "(array([185.75      , 185.75100009, 185.75200018, ..., 197.09799982,\n",
       "        197.09899991, 197.1       ]),\n",
       " array([<property object at 0x00000202FAFDB4F0>,\n",
       "        <property object at 0x00000202FAFDB4F0>,\n",
       "        <property object at 0x00000202FAFDB4F0>, ...,\n",
       "        <property object at 0x00000202FAFDB4F0>,\n",
       "        <property object at 0x00000202FAFDB4F0>,\n",
       "        <property object at 0x00000202FAFDB4F0>], dtype=object),\n",
       " array([0., 0., 0., ..., 0., 0., 0.]),\n",
       " array([1, 1, 1, ..., 1, 1, 1]))"
      ]
     },
     "execution_count": 87,
     "metadata": {},
     "output_type": "execute_result"
    }
   ],
   "source": [
    "uu"
   ]
  },
  {
   "cell_type": "code",
   "execution_count": null,
   "metadata": {},
   "outputs": [],
   "source": []
  },
  {
   "cell_type": "code",
   "execution_count": null,
   "metadata": {},
   "outputs": [],
   "source": []
  },
  {
   "cell_type": "code",
   "execution_count": null,
   "metadata": {},
   "outputs": [],
   "source": []
  },
  {
   "cell_type": "code",
   "execution_count": null,
   "metadata": {},
   "outputs": [
    {
     "data": {
      "text/plain": [
       "{0: (array([196.275]), array([0.]), array([0.])),\n",
       " 1: (array([187.275, 187.276, 187.277, ..., 196.272, 196.273, 196.274]),\n",
       "  array([50., 50., 50., ..., 50., 50., 50.]),\n",
       "  array([0., 0., 0., ..., 0., 0., 0.]))}"
      ]
     },
     "execution_count": 73,
     "metadata": {},
     "output_type": "execute_result"
    }
   ],
   "source": [
    "ws.separate_by_port(*ws.current_profile)"
   ]
  },
  {
   "cell_type": "code",
   "execution_count": null,
   "metadata": {},
   "outputs": [
    {
     "data": {
      "text/plain": [
       "(array([187.275, 187.276, 187.277, ..., 196.272, 196.273, 196.274]),\n",
       " array([50., 50., 50., ..., 50., 50., 50.]),\n",
       " array([0., 0., 0., ..., 0., 0., 0.]))"
      ]
     },
     "execution_count": 70,
     "metadata": {},
     "output_type": "execute_result"
    }
   ],
   "source": [
    "kk"
   ]
  },
  {
   "cell_type": "code",
   "execution_count": null,
   "metadata": {},
   "outputs": [
    {
     "data": {
      "text/plain": [
       "[<matplotlib.lines.Line2D at 0x202fad647c0>]"
      ]
     },
     "execution_count": 75,
     "metadata": {},
     "output_type": "execute_result"
    },
    {
     "data": {
      "image/png": "[encoded data removed]",
      "text/plain": [
       "<Figure size 640x480 with 1 Axes>"
      ]
     },
     "metadata": {},
     "output_type": "display_data"
    }
   ],
   "source": [
    "plt.plot(kk[0], kk[1])"
   ]
  },
  {
   "cell_type": "code",
   "execution_count": null,
   "metadata": {},
   "outputs": [],
   "source": []
  },
  {
   "cell_type": "code",
   "execution_count": null,
   "metadata": {},
   "outputs": [],
   "source": []
  },
  {
   "cell_type": "code",
   "execution_count": null,
   "metadata": {},
   "outputs": [],
   "source": []
  },
  {
   "cell_type": "code",
   "execution_count": null,
   "metadata": {},
   "outputs": [],
   "source": []
  }
 ],
 "metadata": {
  "kernelspec": {
   "display_name": "exp-env",
   "language": "python",
   "name": "python3"
  },
  "language_info": {
   "codemirror_mode": {
    "name": "ipython",
    "version": 3
   },
   "file_extension": ".py",
   "mimetype": "text/x-python",
   "name": "python",
   "nbconvert_exporter": "python",
   "pygments_lexer": "ipython3",
   "version": "3.8.19"
  }
 },
 "nbformat": 4,
 "nbformat_minor": 2
}
