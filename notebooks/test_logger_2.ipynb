{
 "cells": [
  {
   "cell_type": "code",
   "execution_count": 1,
   "metadata": {},
   "outputs": [
    {
     "name": "stdout",
     "output_type": "stream",
     "text": [
      "d:\\Maodong\\NTT_code_Maodong\n"
     ]
    }
   ],
   "source": [
    "cd .."
   ]
  },
  {
   "cell_type": "code",
   "execution_count": 2,
   "metadata": {},
   "outputs": [
    {
     "data": {
      "text/plain": [
       "52036"
      ]
     },
     "execution_count": 2,
     "metadata": {},
     "output_type": "execute_result"
    }
   ],
   "source": [
    "# get process id\n",
    "import os\n",
    "os.getpid()"
   ]
  },
  {
   "cell_type": "code",
   "execution_count": 3,
   "metadata": {},
   "outputs": [
    {
     "name": "stderr",
     "output_type": "stream",
     "text": [
      "\u001b[32m2024-08-03 01:21:13.841\u001b[0m | \u001b[1mINFO    \u001b[0m | \u001b[36mLoggerClient\u001b[0m | procID \u001b[36m52036\u001b[0m | \u001b[36mlogger.py\u001b[0m:\u001b[36m__init_logger\u001b[0m:\u001b[36m178\u001b[0m\n",
      "\u001b[1mLogger client started at tcp://127.0.0.1:12345\u001b[0m\n",
      "\u001b[32m2024-08-03 01:21:13.841\u001b[0m | \u001b[1mINFO    \u001b[0m | \u001b[36m\u001b[0m | procID \u001b[36m52036\u001b[0m | \u001b[36m1497555275.py\u001b[0m:\u001b[36m<module>\u001b[0m:\u001b[36m3\u001b[0m\n",
      "\u001b[1mtest terminal 2\u001b[0m\n"
     ]
    }
   ],
   "source": [
    "from hardware.logger import LoggerClient\n",
    "logger = LoggerClient()\n",
    "logger.info('test terminal 2')\n",
    "ii = 0"
   ]
  },
  {
   "cell_type": "code",
   "execution_count": 4,
   "metadata": {},
   "outputs": [
    {
     "name": "stderr",
     "output_type": "stream",
     "text": [
      "\u001b[32m2024-08-03 01:21:15.444\u001b[0m | \u001b[1mINFO    \u001b[0m | \u001b[36m\u001b[0m | procID \u001b[36m52036\u001b[0m | \u001b[36m3062050596.py\u001b[0m:\u001b[36m<module>\u001b[0m:\u001b[36m1\u001b[0m\n",
      "\u001b[1mtest from 2 again whaterver 0\u001b[0m\n"
     ]
    }
   ],
   "source": [
    "logger.info(f\"test from 2 again whaterver {ii}\")\n",
    "ii += 1"
   ]
  },
  {
   "cell_type": "code",
   "execution_count": 5,
   "metadata": {},
   "outputs": [
    {
     "name": "stderr",
     "output_type": "stream",
     "text": [
      "\u001b[32m2024-08-03 01:21:20.193\u001b[0m | \u001b[41m\u001b[1mCRITICAL\u001b[0m | \u001b[36m\u001b[0m | procID \u001b[36m52036\u001b[0m | \u001b[36m3457707412.py\u001b[0m:\u001b[36m<module>\u001b[0m:\u001b[36m1\u001b[0m\n",
      "\u001b[41m\u001b[1mtest critical warning from 2\u001b[0m\n",
      "\u001b[32m2024-08-03 01:21:21.659\u001b[0m | \u001b[1mINFO    \u001b[0m | \u001b[36mLoggerClient\u001b[0m | procID \u001b[36m52036\u001b[0m | \u001b[36mlogger.py\u001b[0m:\u001b[36m__send_critical_email\u001b[0m:\u001b[36m222\u001b[0m\n",
      "\u001b[1mCritical warning email sent to ['maodong.gao@ntt-research.com', 'maodonggao@outlook.com']\u001b[0m\n"
     ]
    },
    {
     "name": "stdout",
     "output_type": "stream",
     "text": [
      "Sent email to ['maodong.gao@ntt-research.com', 'maodonggao@outlook.com'] successfully.\n",
      "send email FUNCTION CALLED\n"
     ]
    }
   ],
   "source": [
    "logger.critical(f\"test critical warning from 2\")"
   ]
  },
  {
   "cell_type": "code",
   "execution_count": 3,
   "metadata": {},
   "outputs": [
    {
     "data": {
      "text/plain": [
       "'2024-08-03 00:44:56'"
      ]
     },
     "execution_count": 3,
     "metadata": {},
     "output_type": "execute_result"
    }
   ],
   "source": [
    "current_time"
   ]
  },
  {
   "cell_type": "code",
   "execution_count": 5,
   "metadata": {},
   "outputs": [],
   "source": [
    "# get three character current time zone name\n",
    "import pytz\n",
    "current_time_zone = datetime.now(pytz.timezone('US/Pacific')).tzname()"
   ]
  },
  {
   "cell_type": "code",
   "execution_count": 6,
   "metadata": {},
   "outputs": [
    {
     "data": {
      "text/plain": [
       "'PDT'"
      ]
     },
     "execution_count": 6,
     "metadata": {},
     "output_type": "execute_result"
    }
   ],
   "source": [
    "current_time_zone"
   ]
  },
  {
   "cell_type": "code",
   "execution_count": 7,
   "metadata": {},
   "outputs": [
    {
     "data": {
      "text/plain": [
       "'Pacific Daylight Time'"
      ]
     },
     "execution_count": 7,
     "metadata": {},
     "output_type": "execute_result"
    }
   ],
   "source": [
    "import time\n",
    "time.strftime('%Z')"
   ]
  },
  {
   "cell_type": "code",
   "execution_count": 8,
   "metadata": {},
   "outputs": [
    {
     "data": {
      "text/plain": [
       "'Sat Aug  3 00:49:11 2024'"
      ]
     },
     "execution_count": 8,
     "metadata": {},
     "output_type": "execute_result"
    }
   ],
   "source": [
    "time.ctime()"
   ]
  },
  {
   "cell_type": "code",
   "execution_count": null,
   "metadata": {},
   "outputs": [],
   "source": []
  }
 ],
 "metadata": {
  "kernelspec": {
   "display_name": "Python 3",
   "language": "python",
   "name": "python3"
  },
  "language_info": {
   "codemirror_mode": {
    "name": "ipython",
    "version": 3
   },
   "file_extension": ".py",
   "mimetype": "text/x-python",
   "name": "python",
   "nbconvert_exporter": "python",
   "pygments_lexer": "ipython3",
   "version": "3.8.10"
  }
 },
 "nbformat": 4,
 "nbformat_minor": 2
}
