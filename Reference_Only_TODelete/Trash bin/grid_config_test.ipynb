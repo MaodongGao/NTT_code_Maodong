{
 "cells": [
  {
   "cell_type": "code",
   "execution_count": 1,
   "metadata": {},
   "outputs": [
    {
     "name": "stdout",
     "output_type": "stream",
     "text": [
      "d:\\Maodong\\NTT_code_Maodong\n"
     ]
    }
   ],
   "source": [
    "cd .."
   ]
  },
  {
   "cell_type": "code",
   "execution_count": 2,
   "metadata": {},
   "outputs": [],
   "source": [
    "from hardware.utils.grid_config import GridConfig"
   ]
  },
  {
   "cell_type": "code",
   "execution_count": 3,
   "metadata": {},
   "outputs": [
    {
     "data": {
      "text/plain": [
       "matrixsize_0: None\n",
       "matrixsize_1: None\n",
       "elem_width: None\n",
       "elem_height: None\n",
       "topleft_x: None\n",
       "topleft_y: None\n",
       "gap_x: None\n",
       "gap_y: None"
      ]
     },
     "execution_count": 3,
     "metadata": {},
     "output_type": "execute_result"
    }
   ],
   "source": [
    "tt = GridConfig()\n",
    "tt"
   ]
  },
  {
   "cell_type": "code",
   "execution_count": 4,
   "metadata": {},
   "outputs": [
    {
     "data": {
      "text/plain": [
       "matrixsize_0: None\n",
       "matrixsize_1: None\n",
       "elem_width: None\n",
       "elem_height: None\n",
       "topleft_x: None\n",
       "topleft_y: None\n",
       "gap_x: 0.5\n",
       "gap_y: None"
      ]
     },
     "execution_count": 4,
     "metadata": {},
     "output_type": "execute_result"
    }
   ],
   "source": [
    "tt['gap_x'] = 0.5\n",
    "tt"
   ]
  },
  {
   "cell_type": "code",
   "execution_count": 5,
   "metadata": {},
   "outputs": [
    {
     "data": {
      "text/plain": [
       "matrixsize_0: None\n",
       "matrixsize_1: None\n",
       "elem_width: None\n",
       "elem_height: None\n",
       "topleft_x: None\n",
       "topleft_y: None\n",
       "gap_x: None\n",
       "gap_y: None"
      ]
     },
     "execution_count": 5,
     "metadata": {},
     "output_type": "execute_result"
    }
   ],
   "source": [
    "tt.pop('gap_x')\n",
    "tt"
   ]
  },
  {
   "cell_type": "code",
   "execution_count": 6,
   "metadata": {},
   "outputs": [
    {
     "data": {
      "text/plain": [
       "matrixsize_0: None\n",
       "matrixsize_1: None\n",
       "elem_width: None\n",
       "elem_height: None\n",
       "topleft_x: None\n",
       "topleft_y: None\n",
       "gap_x: None\n",
       "gap_y: None\n",
       "123: 123"
      ]
     },
     "execution_count": 6,
     "metadata": {},
     "output_type": "execute_result"
    }
   ],
   "source": [
    "tt['123'] = '123'\n",
    "tt"
   ]
  },
  {
   "cell_type": "code",
   "execution_count": null,
   "metadata": {},
   "outputs": [],
   "source": []
  },
  {
   "cell_type": "code",
   "execution_count": null,
   "metadata": {},
   "outputs": [],
   "source": []
  },
  {
   "cell_type": "code",
   "execution_count": 7,
   "metadata": {},
   "outputs": [
    {
     "data": {
      "text/plain": [
       "matrixsize_0: None\n",
       "matrixsize_1: None\n",
       "elem_width: None\n",
       "elem_height: None\n",
       "topleft_x: None\n",
       "topleft_y: None\n",
       "gap_x: None\n",
       "gap_y: None"
      ]
     },
     "execution_count": 7,
     "metadata": {},
     "output_type": "execute_result"
    }
   ],
   "source": [
    "tt.pop('123')\n",
    "tt"
   ]
  },
  {
   "cell_type": "code",
   "execution_count": 8,
   "metadata": {},
   "outputs": [
    {
     "data": {
      "text/plain": [
       "matrixsize_0: None\n",
       "matrixsize_1: None\n",
       "elem_width: None\n",
       "elem_height: None\n",
       "topleft_x: None\n",
       "topleft_y: None\n",
       "gap_x: 0.5\n",
       "gap_y: 0.5"
      ]
     },
     "execution_count": 8,
     "metadata": {},
     "output_type": "execute_result"
    }
   ],
   "source": [
    "pp = GridConfig({'gap_x': 0.5, 'gap_y': 0.5})\n",
    "pp"
   ]
  },
  {
   "cell_type": "code",
   "execution_count": 9,
   "metadata": {},
   "outputs": [
    {
     "data": {
      "text/plain": [
       "matrixsize_0: None\n",
       "matrixsize_1: None\n",
       "elem_width: None\n",
       "elem_height: None\n",
       "topleft_x: None\n",
       "topleft_y: None\n",
       "gap_x: 0.5\n",
       "gap_y: 0.5\n",
       "123: 123"
      ]
     },
     "execution_count": 9,
     "metadata": {},
     "output_type": "execute_result"
    }
   ],
   "source": [
    "pp = GridConfig({'gap_x': 0.5, 'gap_y': 0.5, '123': '123'})\n",
    "pp"
   ]
  },
  {
   "cell_type": "code",
   "execution_count": 10,
   "metadata": {},
   "outputs": [
    {
     "data": {
      "text/plain": [
       "matrixsize_0: None\n",
       "matrixsize_1: None\n",
       "elem_width: None\n",
       "elem_height: None\n",
       "topleft_x: None\n",
       "topleft_y: None\n",
       "gap_x: 0.5\n",
       "gap_y: 0.5\n",
       "123: 123"
      ]
     },
     "execution_count": 10,
     "metadata": {},
     "output_type": "execute_result"
    }
   ],
   "source": [
    "qq = GridConfig(pp)\n",
    "qq"
   ]
  },
  {
   "cell_type": "code",
   "execution_count": null,
   "metadata": {},
   "outputs": [],
   "source": []
  },
  {
   "cell_type": "code",
   "execution_count": null,
   "metadata": {},
   "outputs": [],
   "source": []
  },
  {
   "cell_type": "code",
   "execution_count": null,
   "metadata": {},
   "outputs": [],
   "source": []
  },
  {
   "cell_type": "code",
   "execution_count": null,
   "metadata": {},
   "outputs": [],
   "source": []
  },
  {
   "cell_type": "code",
   "execution_count": null,
   "metadata": {},
   "outputs": [],
   "source": []
  },
  {
   "cell_type": "code",
   "execution_count": null,
   "metadata": {},
   "outputs": [],
   "source": []
  },
  {
   "cell_type": "code",
   "execution_count": null,
   "metadata": {},
   "outputs": [],
   "source": []
  },
  {
   "cell_type": "code",
   "execution_count": null,
   "metadata": {},
   "outputs": [],
   "source": []
  },
  {
   "cell_type": "code",
   "execution_count": null,
   "metadata": {},
   "outputs": [],
   "source": []
  },
  {
   "cell_type": "code",
   "execution_count": null,
   "metadata": {},
   "outputs": [],
   "source": []
  },
  {
   "cell_type": "code",
   "execution_count": null,
   "metadata": {},
   "outputs": [],
   "source": []
  },
  {
   "cell_type": "code",
   "execution_count": null,
   "metadata": {},
   "outputs": [],
   "source": []
  },
  {
   "cell_type": "code",
   "execution_count": 6,
   "metadata": {},
   "outputs": [
    {
     "name": "stdout",
     "output_type": "stream",
     "text": [
      "matrixsize_0 10\n",
      "matrixsize_1 None\n",
      "elem_width None\n",
      "elem_height None\n",
      "topleft_x None\n",
      "topleft_y None\n",
      "gap_x None\n",
      "gap_y None\n",
      "eyiagd sfdg\n"
     ]
    }
   ],
   "source": [
    "for key, value in tt.items():\n",
    "    print(key, value)"
   ]
  },
  {
   "cell_type": "code",
   "execution_count": 5,
   "metadata": {},
   "outputs": [],
   "source": [
    "tt['matrixsize_0'] = 10\n",
    "tt['eyiagd'] = 'sfdg'"
   ]
  },
  {
   "cell_type": "code",
   "execution_count": 15,
   "metadata": {},
   "outputs": [
    {
     "data": {
      "text/plain": [
       "True"
      ]
     },
     "execution_count": 15,
     "metadata": {},
     "output_type": "execute_result"
    }
   ],
   "source": [
    "not all(tt[key] is not None for key in tt.DEFAULTS)"
   ]
  },
  {
   "cell_type": "code",
   "execution_count": null,
   "metadata": {},
   "outputs": [],
   "source": []
  },
  {
   "cell_type": "code",
   "execution_count": null,
   "metadata": {},
   "outputs": [],
   "source": []
  },
  {
   "cell_type": "code",
   "execution_count": null,
   "metadata": {},
   "outputs": [],
   "source": []
  },
  {
   "cell_type": "code",
   "execution_count": null,
   "metadata": {},
   "outputs": [],
   "source": []
  },
  {
   "cell_type": "code",
   "execution_count": null,
   "metadata": {},
   "outputs": [],
   "source": []
  },
  {
   "cell_type": "code",
   "execution_count": null,
   "metadata": {},
   "outputs": [],
   "source": []
  },
  {
   "cell_type": "code",
   "execution_count": null,
   "metadata": {},
   "outputs": [],
   "source": []
  },
  {
   "cell_type": "code",
   "execution_count": null,
   "metadata": {},
   "outputs": [],
   "source": []
  },
  {
   "cell_type": "code",
   "execution_count": null,
   "metadata": {},
   "outputs": [],
   "source": []
  },
  {
   "cell_type": "code",
   "execution_count": null,
   "metadata": {},
   "outputs": [],
   "source": []
  },
  {
   "cell_type": "code",
   "execution_count": 1,
   "metadata": {},
   "outputs": [
    {
     "name": "stdout",
     "output_type": "stream",
     "text": [
      "d:\\Maodong\\NTT_code_Maodong\n"
     ]
    }
   ],
   "source": [
    "cd .."
   ]
  },
  {
   "cell_type": "code",
   "execution_count": 2,
   "metadata": {},
   "outputs": [
    {
     "name": "stderr",
     "output_type": "stream",
     "text": [
      "\u001b[32m2024-08-07 19:06:58.161\u001b[0m | \u001b[1mINFO    \u001b[0m | \u001b[36mLoggerClient\u001b[0m | procID \u001b[36m22168\u001b[0m | \u001b[36mlogger.py\u001b[0m:\u001b[36m__init_logger\u001b[0m:\u001b[36m148\u001b[0m\n",
      "\u001b[1mLogger client started at tcp://127.0.0.1:12345\u001b[0m\n"
     ]
    }
   ],
   "source": [
    "from hardware.slm import SLM\n",
    "slm = SLM(1)"
   ]
  },
  {
   "cell_type": "code",
   "execution_count": 3,
   "metadata": {},
   "outputs": [
    {
     "data": {
      "text/plain": [
       "matrixsize_0: None\n",
       "matrixsize_1: None\n",
       "elem_width: None\n",
       "elem_height: None\n",
       "topleft_x: None\n",
       "topleft_y: None\n",
       "gap_x: None\n",
       "gap_y: None"
      ]
     },
     "execution_count": 3,
     "metadata": {},
     "output_type": "execute_result"
    }
   ],
   "source": [
    "slm.grid_config"
   ]
  },
  {
   "cell_type": "code",
   "execution_count": null,
   "metadata": {},
   "outputs": [],
   "source": []
  },
  {
   "cell_type": "code",
   "execution_count": null,
   "metadata": {},
   "outputs": [],
   "source": []
  },
  {
   "cell_type": "code",
   "execution_count": 5,
   "metadata": {},
   "outputs": [
    {
     "name": "stderr",
     "output_type": "stream",
     "text": [
      "\u001b[32m2024-08-07 19:07:22.624\u001b[0m | \u001b[1mINFO    \u001b[0m | \u001b[36mSLM1\u001b[0m | procID \u001b[36m22168\u001b[0m | \u001b[36mslm.py\u001b[0m:\u001b[36membed_matrix\u001b[0m:\u001b[36m220\u001b[0m\n",
      "\u001b[1mSLM1: Calculating Embedding matrix on SLM1.\u001b[0m\n",
      "\u001b[32m2024-08-07 19:07:22.624\u001b[0m | \u001b[1mINFO    \u001b[0m | \u001b[36mSLM1\u001b[0m | procID \u001b[36m22168\u001b[0m | \u001b[36mslm.py\u001b[0m:\u001b[36mupdate_grid_config\u001b[0m:\u001b[36m39\u001b[0m\n",
      "\u001b[1mSLM1: Grid configuration updated to:\n",
      "matrixsize_0: None\n",
      "matrixsize_1: 20\n",
      "elem_width: None\n",
      "elem_height: None\n",
      "topleft_x: None\n",
      "topleft_y: None\n",
      "gap_x: None\n",
      "gap_y: None\u001b[0m\n"
     ]
    },
    {
     "ename": "Exception",
     "evalue": "Missing grid configuration parameters ['matrixsize_0', 'elem_width', 'elem_height', 'topleft_x', 'topleft_y', 'gap_x', 'gap_y']. Please provide all necessary parameters.",
     "output_type": "error",
     "traceback": [
      "\u001b[1;31m---------------------------------------------------------------------------\u001b[0m",
      "\u001b[1;31mException\u001b[0m                                 Traceback (most recent call last)",
      "Cell \u001b[1;32mIn[5], line 1\u001b[0m\n\u001b[1;32m----> 1\u001b[0m \u001b[43mslm\u001b[49m\u001b[38;5;241;43m.\u001b[39;49m\u001b[43membed_matrix\u001b[49m\u001b[43m(\u001b[49m\u001b[38;5;241;43m1\u001b[39;49m\u001b[43m,\u001b[49m\u001b[43m \u001b[49m\u001b[43m{\u001b[49m\u001b[38;5;124;43m'\u001b[39;49m\u001b[38;5;124;43mmatrixsize_1\u001b[39;49m\u001b[38;5;124;43m'\u001b[39;49m\u001b[43m:\u001b[49m\u001b[38;5;241;43m20\u001b[39;49m\u001b[43m}\u001b[49m\u001b[43m)\u001b[49m\n",
      "File \u001b[1;32md:\\Maodong\\NTT_code_Maodong\\hardware\\slm.py:231\u001b[0m, in \u001b[0;36mSLM.embed_matrix\u001b[1;34m(self, matrix, params, plot)\u001b[0m\n\u001b[0;32m    229\u001b[0m params \u001b[38;5;241m=\u001b[39m \u001b[38;5;28mself\u001b[39m\u001b[38;5;241m.\u001b[39mgrid_config\n\u001b[0;32m    230\u001b[0m \u001b[38;5;28;01mif\u001b[39;00m params\u001b[38;5;241m.\u001b[39mhas_missing_keys():\n\u001b[1;32m--> 231\u001b[0m     \u001b[38;5;28;01mraise\u001b[39;00m \u001b[38;5;167;01mException\u001b[39;00m(\u001b[38;5;124mf\u001b[39m\u001b[38;5;124m\"\u001b[39m\u001b[38;5;124mMissing grid configuration parameters \u001b[39m\u001b[38;5;132;01m{\u001b[39;00m\u001b[38;5;28mself\u001b[39m\u001b[38;5;241m.\u001b[39mgrid_config\u001b[38;5;241m.\u001b[39mmissing_keys()\u001b[38;5;132;01m}\u001b[39;00m\u001b[38;5;124m. Please provide all necessary parameters.\u001b[39m\u001b[38;5;124m\"\u001b[39m)\n\u001b[0;32m    233\u001b[0m \u001b[38;5;66;03m# Extract parameters\u001b[39;00m\n\u001b[0;32m    234\u001b[0m slm_width \u001b[38;5;241m=\u001b[39m \u001b[38;5;28mself\u001b[39m\u001b[38;5;241m.\u001b[39mslm_width\n",
      "\u001b[1;31mException\u001b[0m: Missing grid configuration parameters ['matrixsize_0', 'elem_width', 'elem_height', 'topleft_x', 'topleft_y', 'gap_x', 'gap_y']. Please provide all necessary parameters."
     ]
    }
   ],
   "source": [
    "slm.embed_matrix(1, {'matrixsize_1':20})"
   ]
  },
  {
   "cell_type": "code",
   "execution_count": 6,
   "metadata": {},
   "outputs": [],
   "source": [
    "slm.grid_config.update_config({'matrixsize_0':10})"
   ]
  },
  {
   "cell_type": "code",
   "execution_count": 6,
   "metadata": {},
   "outputs": [],
   "source": [
    "import numpy as np\n",
    "matrix1 = np.ones((10, 10))\n",
    "matrix1_phase = slm.get_phase_for_attenuation(matrix1)"
   ]
  },
  {
   "cell_type": "code",
   "execution_count": 7,
   "metadata": {},
   "outputs": [
    {
     "name": "stderr",
     "output_type": "stream",
     "text": [
      "\u001b[32m2024-08-07 19:07:37.084\u001b[0m | \u001b[1mINFO    \u001b[0m | \u001b[36mSLM1\u001b[0m | procID \u001b[36m22168\u001b[0m | \u001b[36mslm.py\u001b[0m:\u001b[36membed_matrix\u001b[0m:\u001b[36m220\u001b[0m\n",
      "\u001b[1mSLM1: Calculating Embedding matrix on SLM1.\u001b[0m\n",
      "\u001b[32m2024-08-07 19:07:37.085\u001b[0m | \u001b[1mINFO    \u001b[0m | \u001b[36mSLM1\u001b[0m | procID \u001b[36m22168\u001b[0m | \u001b[36mslm.py\u001b[0m:\u001b[36mupdate_grid_config\u001b[0m:\u001b[36m39\u001b[0m\n",
      "\u001b[1mSLM1: Grid configuration updated to:\n",
      "matrixsize_0: 10\n",
      "matrixsize_1: 10\n",
      "elem_width: 8\n",
      "elem_height: 6\n",
      "topleft_x: 920\n",
      "topleft_y: 585\n",
      "gap_x: 2\n",
      "gap_y: 1\u001b[0m\n"
     ]
    },
    {
     "data": {
      "text/plain": [
       "array([[400., 400., 400., ..., 400., 400., 400.],\n",
       "       [400., 400., 400., ..., 400., 400., 400.],\n",
       "       [400., 400., 400., ..., 400., 400., 400.],\n",
       "       ...,\n",
       "       [400., 400., 400., ..., 400., 400., 400.],\n",
       "       [400., 400., 400., ..., 400., 400., 400.],\n",
       "       [400., 400., 400., ..., 400., 400., 400.]])"
      ]
     },
     "execution_count": 7,
     "metadata": {},
     "output_type": "execute_result"
    }
   ],
   "source": [
    "slm.embed_matrix(matrix1_phase, {\"matrixsize_0\": 10,\n",
    "    \"matrixsize_1\": 10,\n",
    "    \"elem_width\": 8,\n",
    "    \"elem_height\": 6,\n",
    "    \"topleft_x\": 920,\n",
    "    \"topleft_y\": 585,\n",
    "    \"gap_x\": 2,\n",
    "    \"gap_y\": 1})"
   ]
  },
  {
   "cell_type": "code",
   "execution_count": 8,
   "metadata": {},
   "outputs": [
    {
     "name": "stderr",
     "output_type": "stream",
     "text": [
      "\u001b[32m2024-08-07 19:07:43.696\u001b[0m | \u001b[1mINFO    \u001b[0m | \u001b[36mSLM1\u001b[0m | procID \u001b[36m22168\u001b[0m | \u001b[36mslm.py\u001b[0m:\u001b[36membed_matrix\u001b[0m:\u001b[36m220\u001b[0m\n",
      "\u001b[1mSLM1: Calculating Embedding matrix on SLM1.\u001b[0m\n",
      "\u001b[32m2024-08-07 19:07:43.697\u001b[0m | \u001b[1mINFO    \u001b[0m | \u001b[36mSLM1\u001b[0m | procID \u001b[36m22168\u001b[0m | \u001b[36mslm.py\u001b[0m:\u001b[36mupdate_grid_config\u001b[0m:\u001b[36m39\u001b[0m\n",
      "\u001b[1mSLM1: Grid configuration updated to:\n",
      "matrixsize_0: 20\n",
      "matrixsize_1: 10\n",
      "elem_width: 8\n",
      "elem_height: 6\n",
      "topleft_x: 920\n",
      "topleft_y: 585\n",
      "gap_x: 2\n",
      "gap_y: 1\u001b[0m\n"
     ]
    },
    {
     "data": {
      "text/plain": [
       "array([[400., 400., 400., ..., 400., 400., 400.],\n",
       "       [400., 400., 400., ..., 400., 400., 400.],\n",
       "       [400., 400., 400., ..., 400., 400., 400.],\n",
       "       ...,\n",
       "       [400., 400., 400., ..., 400., 400., 400.],\n",
       "       [400., 400., 400., ..., 400., 400., 400.],\n",
       "       [400., 400., 400., ..., 400., 400., 400.]])"
      ]
     },
     "execution_count": 8,
     "metadata": {},
     "output_type": "execute_result"
    }
   ],
   "source": [
    "slm.embed_matrix(matrix1_phase, {\"matrixsize_0\": 20})"
   ]
  },
  {
   "cell_type": "code",
   "execution_count": null,
   "metadata": {},
   "outputs": [],
   "source": []
  },
  {
   "cell_type": "code",
   "execution_count": 10,
   "metadata": {},
   "outputs": [
    {
     "name": "stderr",
     "output_type": "stream",
     "text": [
      "\u001b[32m2024-08-07 19:08:05.379\u001b[0m | \u001b[1mINFO    \u001b[0m | \u001b[36mSLM1\u001b[0m | procID \u001b[36m22168\u001b[0m | \u001b[36mslm.py\u001b[0m:\u001b[36mupdate_grid_config\u001b[0m:\u001b[36m39\u001b[0m\n",
      "\u001b[1mSLM1: Grid configuration updated to:\n",
      "matrixsize_0: 10\n",
      "matrixsize_1: 10\n",
      "elem_width: 8\n",
      "elem_height: 6\n",
      "topleft_x: 920\n",
      "topleft_y: 585\n",
      "gap_x: 2\n",
      "gap_y: 1\u001b[0m\n"
     ]
    }
   ],
   "source": [
    "slm.update_grid_config({\"matrixsize_0\": 10})"
   ]
  },
  {
   "cell_type": "code",
   "execution_count": 5,
   "metadata": {},
   "outputs": [
    {
     "name": "stdout",
     "output_type": "stream",
     "text": [
      "matrixsize_0 10\n",
      "matrixsize_1 None\n",
      "elem_width None\n",
      "elem_height None\n",
      "topleft_x None\n",
      "topleft_y None\n",
      "gap_x None\n",
      "gap_y None\n"
     ]
    }
   ],
   "source": [
    "for key, value in slm.grid_config.items():\n",
    "    print(key, value)"
   ]
  },
  {
   "cell_type": "code",
   "execution_count": 6,
   "metadata": {},
   "outputs": [],
   "source": [
    "slm.grid_config['matrixsize_1'] = 10"
   ]
  },
  {
   "cell_type": "code",
   "execution_count": 7,
   "metadata": {},
   "outputs": [
    {
     "data": {
      "text/plain": [
       "matrixsize_0: 10\n",
       "matrixsize_1: 10\n",
       "elem_width: None\n",
       "elem_height: None\n",
       "topleft_x: None\n",
       "topleft_y: None\n",
       "gap_x: None\n",
       "gap_y: None"
      ]
     },
     "execution_count": 7,
     "metadata": {},
     "output_type": "execute_result"
    }
   ],
   "source": [
    "slm.grid_config"
   ]
  },
  {
   "cell_type": "code",
   "execution_count": 11,
   "metadata": {},
   "outputs": [
    {
     "data": {
      "text/plain": [
       "'All elements in both matrices must be between 0 and 1.'"
      ]
     },
     "execution_count": 11,
     "metadata": {},
     "output_type": "execute_result"
    }
   ],
   "source": [
    "e = ValueError(\"All elements in both matrices must be between 0 and 1.\")\n",
    "str(e)"
   ]
  },
  {
   "cell_type": "code",
   "execution_count": 12,
   "metadata": {},
   "outputs": [
    {
     "ename": "ValueError",
     "evalue": "All elements in both matrices must be between 0 and 1.",
     "output_type": "error",
     "traceback": [
      "\u001b[1;31m---------------------------------------------------------------------------\u001b[0m",
      "\u001b[1;31mValueError\u001b[0m                                Traceback (most recent call last)",
      "Cell \u001b[1;32mIn[12], line 1\u001b[0m\n\u001b[1;32m----> 1\u001b[0m \u001b[38;5;28;01mraise\u001b[39;00m e\n",
      "\u001b[1;31mValueError\u001b[0m: All elements in both matrices must be between 0 and 1."
     ]
    }
   ],
   "source": [
    "raise e"
   ]
  },
  {
   "cell_type": "code",
   "execution_count": null,
   "metadata": {},
   "outputs": [],
   "source": []
  }
 ],
 "metadata": {
  "kernelspec": {
   "display_name": "Python 3",
   "language": "python",
   "name": "python3"
  },
  "language_info": {
   "codemirror_mode": {
    "name": "ipython",
    "version": 3
   },
   "file_extension": ".py",
   "mimetype": "text/x-python",
   "name": "python",
   "nbconvert_exporter": "python",
   "pygments_lexer": "ipython3",
   "version": "3.8.10"
  }
 },
 "nbformat": 4,
 "nbformat_minor": 2
}
